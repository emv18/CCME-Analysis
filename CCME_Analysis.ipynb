{
 "cells": [
  {
   "cell_type": "markdown",
   "metadata": {},
   "source": [
    "# CCME Analysis"
   ]
  },
  {
   "cell_type": "markdown",
   "metadata": {},
   "source": [
    "##### This code has information from a poll made for the leaders at the CCME Analysis"
   ]
  },
  {
   "cell_type": "markdown",
   "metadata": {},
   "source": [
    "### Import files"
   ]
  },
  {
   "cell_type": "code",
   "execution_count": 1,
   "metadata": {},
   "outputs": [],
   "source": [
    "from dash import Dash, dcc, html, Input, Output\n",
    "import pandas as pd\n",
    "import plotly.express as px\n",
    "import numpy as np\n",
    "\n",
    "df= pd.read_csv('CCME_answers_poll.csv')\n",
    "df1= pd.read_csv('CCME_categories.csv')\n",
    "df2= pd.read_csv('CCME_fear_categories2.csv')"
   ]
  },
  {
   "cell_type": "markdown",
   "metadata": {},
   "source": [
    "### Clean data"
   ]
  },
  {
   "cell_type": "code",
   "execution_count": 2,
   "metadata": {},
   "outputs": [
    {
     "data": {
      "text/html": [
       "<div>\n",
       "<style scoped>\n",
       "    .dataframe tbody tr th:only-of-type {\n",
       "        vertical-align: middle;\n",
       "    }\n",
       "\n",
       "    .dataframe tbody tr th {\n",
       "        vertical-align: top;\n",
       "    }\n",
       "\n",
       "    .dataframe thead th {\n",
       "        text-align: right;\n",
       "    }\n",
       "</style>\n",
       "<table border=\"1\" class=\"dataframe\">\n",
       "  <thead>\n",
       "    <tr style=\"text-align: right;\">\n",
       "      <th></th>\n",
       "      <th>Edad</th>\n",
       "      <th>Estado</th>\n",
       "      <th>Situación actual</th>\n",
       "      <th>Institución</th>\n",
       "      <th>Libre de expresar</th>\n",
       "      <th>Lugar expresar</th>\n",
       "      <th>Tema aprender</th>\n",
       "      <th>Interés</th>\n",
       "    </tr>\n",
       "  </thead>\n",
       "  <tbody>\n",
       "    <tr>\n",
       "      <th>0</th>\n",
       "      <td>30-35 años</td>\n",
       "      <td>Michoacán</td>\n",
       "      <td>Ama de casa</td>\n",
       "      <td>Instituto tecnológico</td>\n",
       "      <td>Sí</td>\n",
       "      <td>Amigos</td>\n",
       "      <td>Iniciativas para el desarrollo económico para ...</td>\n",
       "      <td>No</td>\n",
       "    </tr>\n",
       "    <tr>\n",
       "      <th>1</th>\n",
       "      <td>24-29 años</td>\n",
       "      <td>Estado de México</td>\n",
       "      <td>Ama de casa</td>\n",
       "      <td>Escuela Privada</td>\n",
       "      <td>Sí</td>\n",
       "      <td>Escuela.</td>\n",
       "      <td>Cómo aprender a dialogar y a exponer opiniones...</td>\n",
       "      <td>Sí</td>\n",
       "    </tr>\n",
       "    <tr>\n",
       "      <th>2</th>\n",
       "      <td>24-29 años</td>\n",
       "      <td>Michoacan</td>\n",
       "      <td>Ama de casa</td>\n",
       "      <td>Escuela Privada</td>\n",
       "      <td>Sí</td>\n",
       "      <td>Redes Sociales</td>\n",
       "      <td>Iniciativas para el desarrollo económico para ...</td>\n",
       "      <td>Sí</td>\n",
       "    </tr>\n",
       "    <tr>\n",
       "      <th>3</th>\n",
       "      <td>24-29 años</td>\n",
       "      <td>Michoacán</td>\n",
       "      <td>Ama de casa con intención de emprendimiento po...</td>\n",
       "      <td>NaN</td>\n",
       "      <td>Sí</td>\n",
       "      <td>Amigos</td>\n",
       "      <td>Emprendimiento, Liderazgo</td>\n",
       "      <td>Sí</td>\n",
       "    </tr>\n",
       "    <tr>\n",
       "      <th>4</th>\n",
       "      <td>19-23 años</td>\n",
       "      <td>Toluca Estados de México</td>\n",
       "      <td>Busco trabajo</td>\n",
       "      <td>Escuela Privada</td>\n",
       "      <td>No</td>\n",
       "      <td>No me siento en libertad</td>\n",
       "      <td>Estrategias empresariales con perspectiva de g...</td>\n",
       "      <td>Sí</td>\n",
       "    </tr>\n",
       "  </tbody>\n",
       "</table>\n",
       "</div>"
      ],
      "text/plain": [
       "         Edad                     Estado  \\\n",
       "0  30-35 años                  Michoacán   \n",
       "1  24-29 años           Estado de México   \n",
       "2  24-29 años                 Michoacan    \n",
       "3  24-29 años                 Michoacán    \n",
       "4  19-23 años  Toluca Estados de México    \n",
       "\n",
       "                                    Situación actual            Institución  \\\n",
       "0                                        Ama de casa  Instituto tecnológico   \n",
       "1                                        Ama de casa        Escuela Privada   \n",
       "2                                       Ama de casa         Escuela Privada   \n",
       "3  Ama de casa con intención de emprendimiento po...                    NaN   \n",
       "4                                     Busco trabajo         Escuela Privada   \n",
       "\n",
       "  Libre de expresar            Lugar expresar  \\\n",
       "0                Sí                    Amigos   \n",
       "1                Sí                  Escuela.   \n",
       "2                Sí            Redes Sociales   \n",
       "3                Sí                    Amigos   \n",
       "4                No  No me siento en libertad   \n",
       "\n",
       "                                       Tema aprender Interés  \n",
       "0  Iniciativas para el desarrollo económico para ...      No  \n",
       "1  Cómo aprender a dialogar y a exponer opiniones...      Sí  \n",
       "2  Iniciativas para el desarrollo económico para ...      Sí  \n",
       "3                          Emprendimiento, Liderazgo      Sí  \n",
       "4  Estrategias empresariales con perspectiva de g...      Sí  "
      ]
     },
     "execution_count": 2,
     "metadata": {},
     "output_type": "execute_result"
    }
   ],
   "source": [
    "df.columns\n",
    "#We delete unnecesary columns\n",
    "df= df.drop(['Marca temporal', 'Nombre','Correo electrónico', 'Participación por estado', \n",
    "            '¿Sobre qué temas te da miedo o te sientes insegur@ de opinar? ',\n",
    "            '¿Sobre qué temas crees que hace falta que los jóvenes nos sentemos a hablar ?'], axis=1)\n",
    "df.rename(columns={'¿Te gustaría pertenecer a nuestra comunidad Inspira?': 'Interés',\n",
    "                    'Estado en el que vives': 'Estado',\n",
    "                    '¿Cuál es tu situación actual?': 'Situación actual',\n",
    "                    'La institución académica a la que perteneces es: ': 'Institución',\n",
    "                    '¿Te sientes con la libertad y la seguridad de hablar y cuestionar sobre tema de tu interés?': 'Libre de expresar',\n",
    "                    'Si tu respuesta fue SI, en donde encuentras libertad para expresarte': 'Lugar expresar',\n",
    "                    'Sobre qué temas te gustaría aprender más. Selecciona mínimo una:': 'Tema aprender'},\n",
    "                    inplace=True)\n",
    "df.head()"
   ]
  },
  {
   "cell_type": "markdown",
   "metadata": {},
   "source": [
    "### Edad"
   ]
  },
  {
   "cell_type": "code",
   "execution_count": 3,
   "metadata": {},
   "outputs": [
    {
     "data": {
      "application/vnd.plotly.v1+json": {
       "config": {
        "plotlyServerURL": "https://plot.ly"
       },
       "data": [
        {
         "alignmentgroup": "True",
         "bingroup": "x",
         "hovertemplate": "Edad=%{x}<br>count=%{y}<extra></extra>",
         "legendgroup": "",
         "marker": {
          "color": "darkred",
          "pattern": {
           "shape": ""
          }
         },
         "name": "",
         "offsetgroup": "",
         "orientation": "v",
         "showlegend": false,
         "texttemplate": "%{value}",
         "type": "histogram",
         "x": [
          "30-35 años",
          "24-29 años",
          "24-29 años",
          "24-29 años",
          "19-23 años",
          "24-29 años",
          "24-29 años",
          "24-29 años",
          "24-29 años",
          "30-35 años",
          "19-23 años",
          "30-35 años",
          "30-35 años",
          "30-35 años",
          "24-29 años",
          "30-35 años",
          "30-35 años",
          "15-18 años",
          "19-23 años",
          "19-23 años",
          "24-29 años",
          "30-35 años",
          "24-29 años",
          "30-35 años",
          "24-29 años",
          "24-29 años",
          "30-35 años",
          "30-35 años",
          "30-35 años",
          "19-23 años",
          "24-29 años",
          "30-35 años",
          "30-35 años",
          "30-35 años",
          "19-23 años",
          "19-23 años",
          "24-29 años",
          "30-35 años",
          "24-29 años",
          "24-29 años",
          "30-35 años",
          "19-23 años",
          "19-23 años",
          "24-29 años",
          "30-35 años",
          "24-29 años",
          "19-23 años",
          "30-35 años",
          "30-35 años",
          "30-35 años",
          "30-35 años",
          "19-23 años",
          "30-35 años",
          "24-29 años",
          "19-23 años",
          "24-29 años",
          "24-29 años",
          "30-35 años",
          "30-35 años",
          "24-29 años",
          "30-35 años",
          "30-35 años",
          "24-29 años",
          "30-35 años",
          "24-29 años",
          "19-23 años",
          "15-18 años",
          "19-23 años",
          "19-23 años",
          "19-23 años",
          "19-23 años",
          "24-29 años",
          "15-18 años",
          "19-23 años",
          "15-18 años",
          "15-18 años",
          "15-18 años",
          "15-18 años",
          "19-23 años",
          "19-23 años",
          "19-23 años",
          "19-23 años",
          "19-23 años",
          "15-18 años",
          "15-18 años",
          "15-18 años",
          "19-23 años",
          "19-23 años",
          "19-23 años",
          "19-23 años",
          "19-23 años",
          "19-23 años",
          "19-23 años",
          "19-23 años",
          "19-23 años",
          "24-29 años",
          "19-23 años",
          "19-23 años",
          "19-23 años",
          "15-18 años",
          "24-29 años",
          "15-18 años",
          "19-23 años",
          "19-23 años",
          "15-18 años",
          "19-23 años",
          "19-23 años",
          "24-29 años",
          "24-29 años",
          "15-18 años",
          "19-23 años",
          "15-18 años",
          "19-23 años",
          "19-23 años",
          "19-23 años",
          "19-23 años",
          "15-18 años",
          "15-18 años",
          "19-23 años",
          "19-23 años",
          "19-23 años",
          "15-18 años",
          "15-18 años",
          "19-23 años",
          "19-23 años",
          "19-23 años",
          "19-23 años",
          "19-23 años",
          "15-18 años",
          "15-18 años",
          "15-18 años",
          "19-23 años",
          "19-23 años",
          "19-23 años",
          "19-23 años",
          "15-18 años",
          "24-29 años",
          "15-18 años",
          "15-18 años",
          "24-29 años",
          "24-29 años",
          "24-29 años",
          "15-18 años",
          "19-23 años",
          "19-23 años",
          "19-23 años",
          "19-23 años",
          "15-18 años",
          "19-23 años",
          "24-29 años",
          "15-18 años",
          "15-18 años",
          "15-18 años",
          "19-23 años",
          "24-29 años",
          "24-29 años",
          "15-18 años",
          "19-23 años",
          "15-18 años",
          "15-18 años",
          "15-18 años",
          "19-23 años",
          "19-23 años",
          "15-18 años",
          "19-23 años",
          "15-18 años",
          "15-18 años",
          "30-35 años",
          "30-35 años",
          "24-29 años",
          "15-18 años",
          "19-23 años",
          "30-35 años",
          "19-23 años",
          "19-23 años",
          "30-35 años",
          "30-35 años",
          "19-23 años",
          "24-29 años",
          "19-23 años",
          "24-29 años",
          "19-23 años",
          "30-35 años",
          "15-18 años",
          "19-23 años",
          "24-29 años",
          "19-23 años",
          "19-23 años",
          "19-23 años",
          "19-23 años",
          "30-35 años",
          "24-29 años",
          "30-35 años",
          "19-23 años",
          "30-35 años",
          "19-23 años",
          "24-29 años",
          "24-29 años",
          "24-29 años",
          "19-23 años",
          "30-35 años",
          "19-23 años",
          "30-35 años",
          "19-23 años",
          "24-29 años",
          "19-23 años",
          "30-35 años",
          "30-35 años",
          "24-29 años",
          "24-29 años",
          "19-23 años",
          "19-23 años",
          "24-29 años",
          "19-23 años",
          "19-23 años",
          "30-35 años",
          "19-23 años",
          "24-29 años",
          "24-29 años",
          "24-29 años",
          "19-23 años",
          "24-29 años",
          "19-23 años",
          "19-23 años",
          "15-18 años",
          "24-29 años",
          "30-35 años",
          "19-23 años",
          "24-29 años",
          "24-29 años",
          "24-29 años",
          "19-23 años",
          "19-23 años",
          "19-23 años",
          "19-23 años",
          "19-23 años",
          "24-29 años",
          "24-29 años",
          "30-35 años",
          "30-35 años",
          "24-29 años",
          "19-23 años",
          "19-23 años",
          "30-35 años",
          "24-29 años",
          "24-29 años",
          "24-29 años",
          "24-29 años",
          "19-23 años",
          "19-23 años",
          "24-29 años",
          "24-29 años",
          "24-29 años",
          "19-23 años",
          "24-29 años",
          "24-29 años",
          "24-29 años",
          "24-29 años",
          "24-29 años",
          "30-35 años",
          "19-23 años",
          "30-35 años",
          "19-23 años",
          "19-23 años",
          "19-23 años",
          "30-35 años",
          "24-29 años",
          "24-29 años",
          "24-29 años",
          "19-23 años",
          "19-23 años",
          "24-29 años",
          "19-23 años",
          "24-29 años",
          "24-29 años",
          "19-23 años",
          "19-23 años",
          "24-29 años",
          "24-29 años",
          "24-29 años",
          "30-35 años",
          "30-35 años",
          "30-35 años",
          "30-35 años",
          "24-29 años",
          "19-23 años",
          "24-29 años",
          "24-29 años",
          "30-35 años",
          "30-35 años",
          "24-29 años",
          "24-29 años",
          "19-23 años",
          "30-35 años",
          "24-29 años",
          "30-35 años",
          "30-35 años",
          "24-29 años",
          "24-29 años",
          "24-29 años",
          "30-35 años",
          "30-35 años",
          "19-23 años",
          "30-35 años",
          "30-35 años",
          "24-29 años",
          "19-23 años",
          "24-29 años",
          "30-35 años",
          "30-35 años",
          "24-29 años",
          "24-29 años",
          "19-23 años",
          "24-29 años",
          "24-29 años",
          "30-35 años",
          "30-35 años",
          "30-35 años",
          "30-35 años",
          "24-29 años",
          "24-29 años",
          "24-29 años",
          "19-23 años",
          "24-29 años",
          "30-35 años",
          "24-29 años",
          "24-29 años",
          "30-35 años",
          "30-35 años",
          "24-29 años",
          "30-35 años",
          "30-35 años",
          "30-35 años",
          "30-35 años",
          "24-29 años",
          "24-29 años",
          "19-23 años",
          "30-35 años",
          "30-35 años",
          "19-23 años",
          "19-23 años",
          "24-29 años",
          "24-29 años",
          "30-35 años",
          "30-35 años",
          "24-29 años",
          "30-35 años",
          "24-29 años",
          "24-29 años",
          "30-35 años",
          "24-29 años",
          "30-35 años",
          "30-35 años",
          "24-29 años",
          "24-29 años",
          "24-29 años",
          "30-35 años",
          "30-35 años",
          "24-29 años",
          "24-29 años",
          "24-29 años",
          "24-29 años",
          "30-35 años",
          "30-35 años",
          "24-29 años",
          "19-23 años",
          "30-35 años",
          "30-35 años",
          "24-29 años",
          "19-23 años",
          "19-23 años",
          "24-29 años",
          "24-29 años",
          "24-29 años",
          "24-29 años",
          "19-23 años",
          "24-29 años",
          "30-35 años",
          "24-29 años",
          "24-29 años",
          "30-35 años",
          "30-35 años",
          "24-29 años",
          "24-29 años",
          "24-29 años",
          "24-29 años",
          "24-29 años",
          "24-29 años",
          "24-29 años",
          "24-29 años",
          "24-29 años",
          "24-29 años",
          "30-35 años",
          "24-29 años",
          "24-29 años",
          "30-35 años",
          "30-35 años",
          "30-35 años",
          "30-35 años",
          "24-29 años",
          "24-29 años",
          "30-35 años",
          "24-29 años",
          "24-29 años",
          "24-29 años",
          "30-35 años",
          "19-23 años",
          "30-35 años",
          "24-29 años",
          "30-35 años",
          "24-29 años",
          "24-29 años",
          "24-29 años",
          "24-29 años",
          "24-29 años",
          "19-23 años",
          "30-35 años",
          "19-23 años",
          "24-29 años",
          "24-29 años",
          "24-29 años",
          "19-23 años",
          "24-29 años",
          "30-35 años",
          "24-29 años",
          "30-35 años",
          "30-35 años",
          "30-35 años"
         ],
         "xaxis": "x",
         "yaxis": "y"
        }
       ],
       "layout": {
        "barmode": "relative",
        "legend": {
         "tracegroupgap": 0
        },
        "template": {
         "data": {
          "bar": [
           {
            "error_x": {
             "color": "#2a3f5f"
            },
            "error_y": {
             "color": "#2a3f5f"
            },
            "marker": {
             "line": {
              "color": "#E5ECF6",
              "width": 0.5
             },
             "pattern": {
              "fillmode": "overlay",
              "size": 10,
              "solidity": 0.2
             }
            },
            "type": "bar"
           }
          ],
          "barpolar": [
           {
            "marker": {
             "line": {
              "color": "#E5ECF6",
              "width": 0.5
             },
             "pattern": {
              "fillmode": "overlay",
              "size": 10,
              "solidity": 0.2
             }
            },
            "type": "barpolar"
           }
          ],
          "carpet": [
           {
            "aaxis": {
             "endlinecolor": "#2a3f5f",
             "gridcolor": "white",
             "linecolor": "white",
             "minorgridcolor": "white",
             "startlinecolor": "#2a3f5f"
            },
            "baxis": {
             "endlinecolor": "#2a3f5f",
             "gridcolor": "white",
             "linecolor": "white",
             "minorgridcolor": "white",
             "startlinecolor": "#2a3f5f"
            },
            "type": "carpet"
           }
          ],
          "choropleth": [
           {
            "colorbar": {
             "outlinewidth": 0,
             "ticks": ""
            },
            "type": "choropleth"
           }
          ],
          "contour": [
           {
            "colorbar": {
             "outlinewidth": 0,
             "ticks": ""
            },
            "colorscale": [
             [
              0,
              "#0d0887"
             ],
             [
              0.1111111111111111,
              "#46039f"
             ],
             [
              0.2222222222222222,
              "#7201a8"
             ],
             [
              0.3333333333333333,
              "#9c179e"
             ],
             [
              0.4444444444444444,
              "#bd3786"
             ],
             [
              0.5555555555555556,
              "#d8576b"
             ],
             [
              0.6666666666666666,
              "#ed7953"
             ],
             [
              0.7777777777777778,
              "#fb9f3a"
             ],
             [
              0.8888888888888888,
              "#fdca26"
             ],
             [
              1,
              "#f0f921"
             ]
            ],
            "type": "contour"
           }
          ],
          "contourcarpet": [
           {
            "colorbar": {
             "outlinewidth": 0,
             "ticks": ""
            },
            "type": "contourcarpet"
           }
          ],
          "heatmap": [
           {
            "colorbar": {
             "outlinewidth": 0,
             "ticks": ""
            },
            "colorscale": [
             [
              0,
              "#0d0887"
             ],
             [
              0.1111111111111111,
              "#46039f"
             ],
             [
              0.2222222222222222,
              "#7201a8"
             ],
             [
              0.3333333333333333,
              "#9c179e"
             ],
             [
              0.4444444444444444,
              "#bd3786"
             ],
             [
              0.5555555555555556,
              "#d8576b"
             ],
             [
              0.6666666666666666,
              "#ed7953"
             ],
             [
              0.7777777777777778,
              "#fb9f3a"
             ],
             [
              0.8888888888888888,
              "#fdca26"
             ],
             [
              1,
              "#f0f921"
             ]
            ],
            "type": "heatmap"
           }
          ],
          "heatmapgl": [
           {
            "colorbar": {
             "outlinewidth": 0,
             "ticks": ""
            },
            "colorscale": [
             [
              0,
              "#0d0887"
             ],
             [
              0.1111111111111111,
              "#46039f"
             ],
             [
              0.2222222222222222,
              "#7201a8"
             ],
             [
              0.3333333333333333,
              "#9c179e"
             ],
             [
              0.4444444444444444,
              "#bd3786"
             ],
             [
              0.5555555555555556,
              "#d8576b"
             ],
             [
              0.6666666666666666,
              "#ed7953"
             ],
             [
              0.7777777777777778,
              "#fb9f3a"
             ],
             [
              0.8888888888888888,
              "#fdca26"
             ],
             [
              1,
              "#f0f921"
             ]
            ],
            "type": "heatmapgl"
           }
          ],
          "histogram": [
           {
            "marker": {
             "pattern": {
              "fillmode": "overlay",
              "size": 10,
              "solidity": 0.2
             }
            },
            "type": "histogram"
           }
          ],
          "histogram2d": [
           {
            "colorbar": {
             "outlinewidth": 0,
             "ticks": ""
            },
            "colorscale": [
             [
              0,
              "#0d0887"
             ],
             [
              0.1111111111111111,
              "#46039f"
             ],
             [
              0.2222222222222222,
              "#7201a8"
             ],
             [
              0.3333333333333333,
              "#9c179e"
             ],
             [
              0.4444444444444444,
              "#bd3786"
             ],
             [
              0.5555555555555556,
              "#d8576b"
             ],
             [
              0.6666666666666666,
              "#ed7953"
             ],
             [
              0.7777777777777778,
              "#fb9f3a"
             ],
             [
              0.8888888888888888,
              "#fdca26"
             ],
             [
              1,
              "#f0f921"
             ]
            ],
            "type": "histogram2d"
           }
          ],
          "histogram2dcontour": [
           {
            "colorbar": {
             "outlinewidth": 0,
             "ticks": ""
            },
            "colorscale": [
             [
              0,
              "#0d0887"
             ],
             [
              0.1111111111111111,
              "#46039f"
             ],
             [
              0.2222222222222222,
              "#7201a8"
             ],
             [
              0.3333333333333333,
              "#9c179e"
             ],
             [
              0.4444444444444444,
              "#bd3786"
             ],
             [
              0.5555555555555556,
              "#d8576b"
             ],
             [
              0.6666666666666666,
              "#ed7953"
             ],
             [
              0.7777777777777778,
              "#fb9f3a"
             ],
             [
              0.8888888888888888,
              "#fdca26"
             ],
             [
              1,
              "#f0f921"
             ]
            ],
            "type": "histogram2dcontour"
           }
          ],
          "mesh3d": [
           {
            "colorbar": {
             "outlinewidth": 0,
             "ticks": ""
            },
            "type": "mesh3d"
           }
          ],
          "parcoords": [
           {
            "line": {
             "colorbar": {
              "outlinewidth": 0,
              "ticks": ""
             }
            },
            "type": "parcoords"
           }
          ],
          "pie": [
           {
            "automargin": true,
            "type": "pie"
           }
          ],
          "scatter": [
           {
            "marker": {
             "colorbar": {
              "outlinewidth": 0,
              "ticks": ""
             }
            },
            "type": "scatter"
           }
          ],
          "scatter3d": [
           {
            "line": {
             "colorbar": {
              "outlinewidth": 0,
              "ticks": ""
             }
            },
            "marker": {
             "colorbar": {
              "outlinewidth": 0,
              "ticks": ""
             }
            },
            "type": "scatter3d"
           }
          ],
          "scattercarpet": [
           {
            "marker": {
             "colorbar": {
              "outlinewidth": 0,
              "ticks": ""
             }
            },
            "type": "scattercarpet"
           }
          ],
          "scattergeo": [
           {
            "marker": {
             "colorbar": {
              "outlinewidth": 0,
              "ticks": ""
             }
            },
            "type": "scattergeo"
           }
          ],
          "scattergl": [
           {
            "marker": {
             "colorbar": {
              "outlinewidth": 0,
              "ticks": ""
             }
            },
            "type": "scattergl"
           }
          ],
          "scattermapbox": [
           {
            "marker": {
             "colorbar": {
              "outlinewidth": 0,
              "ticks": ""
             }
            },
            "type": "scattermapbox"
           }
          ],
          "scatterpolar": [
           {
            "marker": {
             "colorbar": {
              "outlinewidth": 0,
              "ticks": ""
             }
            },
            "type": "scatterpolar"
           }
          ],
          "scatterpolargl": [
           {
            "marker": {
             "colorbar": {
              "outlinewidth": 0,
              "ticks": ""
             }
            },
            "type": "scatterpolargl"
           }
          ],
          "scatterternary": [
           {
            "marker": {
             "colorbar": {
              "outlinewidth": 0,
              "ticks": ""
             }
            },
            "type": "scatterternary"
           }
          ],
          "surface": [
           {
            "colorbar": {
             "outlinewidth": 0,
             "ticks": ""
            },
            "colorscale": [
             [
              0,
              "#0d0887"
             ],
             [
              0.1111111111111111,
              "#46039f"
             ],
             [
              0.2222222222222222,
              "#7201a8"
             ],
             [
              0.3333333333333333,
              "#9c179e"
             ],
             [
              0.4444444444444444,
              "#bd3786"
             ],
             [
              0.5555555555555556,
              "#d8576b"
             ],
             [
              0.6666666666666666,
              "#ed7953"
             ],
             [
              0.7777777777777778,
              "#fb9f3a"
             ],
             [
              0.8888888888888888,
              "#fdca26"
             ],
             [
              1,
              "#f0f921"
             ]
            ],
            "type": "surface"
           }
          ],
          "table": [
           {
            "cells": {
             "fill": {
              "color": "#EBF0F8"
             },
             "line": {
              "color": "white"
             }
            },
            "header": {
             "fill": {
              "color": "#C8D4E3"
             },
             "line": {
              "color": "white"
             }
            },
            "type": "table"
           }
          ]
         },
         "layout": {
          "annotationdefaults": {
           "arrowcolor": "#2a3f5f",
           "arrowhead": 0,
           "arrowwidth": 1
          },
          "autotypenumbers": "strict",
          "coloraxis": {
           "colorbar": {
            "outlinewidth": 0,
            "ticks": ""
           }
          },
          "colorscale": {
           "diverging": [
            [
             0,
             "#8e0152"
            ],
            [
             0.1,
             "#c51b7d"
            ],
            [
             0.2,
             "#de77ae"
            ],
            [
             0.3,
             "#f1b6da"
            ],
            [
             0.4,
             "#fde0ef"
            ],
            [
             0.5,
             "#f7f7f7"
            ],
            [
             0.6,
             "#e6f5d0"
            ],
            [
             0.7,
             "#b8e186"
            ],
            [
             0.8,
             "#7fbc41"
            ],
            [
             0.9,
             "#4d9221"
            ],
            [
             1,
             "#276419"
            ]
           ],
           "sequential": [
            [
             0,
             "#0d0887"
            ],
            [
             0.1111111111111111,
             "#46039f"
            ],
            [
             0.2222222222222222,
             "#7201a8"
            ],
            [
             0.3333333333333333,
             "#9c179e"
            ],
            [
             0.4444444444444444,
             "#bd3786"
            ],
            [
             0.5555555555555556,
             "#d8576b"
            ],
            [
             0.6666666666666666,
             "#ed7953"
            ],
            [
             0.7777777777777778,
             "#fb9f3a"
            ],
            [
             0.8888888888888888,
             "#fdca26"
            ],
            [
             1,
             "#f0f921"
            ]
           ],
           "sequentialminus": [
            [
             0,
             "#0d0887"
            ],
            [
             0.1111111111111111,
             "#46039f"
            ],
            [
             0.2222222222222222,
             "#7201a8"
            ],
            [
             0.3333333333333333,
             "#9c179e"
            ],
            [
             0.4444444444444444,
             "#bd3786"
            ],
            [
             0.5555555555555556,
             "#d8576b"
            ],
            [
             0.6666666666666666,
             "#ed7953"
            ],
            [
             0.7777777777777778,
             "#fb9f3a"
            ],
            [
             0.8888888888888888,
             "#fdca26"
            ],
            [
             1,
             "#f0f921"
            ]
           ]
          },
          "colorway": [
           "#636efa",
           "#EF553B",
           "#00cc96",
           "#ab63fa",
           "#FFA15A",
           "#19d3f3",
           "#FF6692",
           "#B6E880",
           "#FF97FF",
           "#FECB52"
          ],
          "font": {
           "color": "#2a3f5f"
          },
          "geo": {
           "bgcolor": "white",
           "lakecolor": "white",
           "landcolor": "#E5ECF6",
           "showlakes": true,
           "showland": true,
           "subunitcolor": "white"
          },
          "hoverlabel": {
           "align": "left"
          },
          "hovermode": "closest",
          "mapbox": {
           "style": "light"
          },
          "paper_bgcolor": "white",
          "plot_bgcolor": "#E5ECF6",
          "polar": {
           "angularaxis": {
            "gridcolor": "white",
            "linecolor": "white",
            "ticks": ""
           },
           "bgcolor": "#E5ECF6",
           "radialaxis": {
            "gridcolor": "white",
            "linecolor": "white",
            "ticks": ""
           }
          },
          "scene": {
           "xaxis": {
            "backgroundcolor": "#E5ECF6",
            "gridcolor": "white",
            "gridwidth": 2,
            "linecolor": "white",
            "showbackground": true,
            "ticks": "",
            "zerolinecolor": "white"
           },
           "yaxis": {
            "backgroundcolor": "#E5ECF6",
            "gridcolor": "white",
            "gridwidth": 2,
            "linecolor": "white",
            "showbackground": true,
            "ticks": "",
            "zerolinecolor": "white"
           },
           "zaxis": {
            "backgroundcolor": "#E5ECF6",
            "gridcolor": "white",
            "gridwidth": 2,
            "linecolor": "white",
            "showbackground": true,
            "ticks": "",
            "zerolinecolor": "white"
           }
          },
          "shapedefaults": {
           "line": {
            "color": "#2a3f5f"
           }
          },
          "ternary": {
           "aaxis": {
            "gridcolor": "white",
            "linecolor": "white",
            "ticks": ""
           },
           "baxis": {
            "gridcolor": "white",
            "linecolor": "white",
            "ticks": ""
           },
           "bgcolor": "#E5ECF6",
           "caxis": {
            "gridcolor": "white",
            "linecolor": "white",
            "ticks": ""
           }
          },
          "title": {
           "x": 0.05
          },
          "xaxis": {
           "automargin": true,
           "gridcolor": "white",
           "linecolor": "white",
           "ticks": "",
           "title": {
            "standoff": 15
           },
           "zerolinecolor": "white",
           "zerolinewidth": 2
          },
          "yaxis": {
           "automargin": true,
           "gridcolor": "white",
           "linecolor": "white",
           "ticks": "",
           "title": {
            "standoff": 15
           },
           "zerolinecolor": "white",
           "zerolinewidth": 2
          }
         }
        },
        "title": {
         "text": "Participación por edad"
        },
        "xaxis": {
         "anchor": "y",
         "categoryorder": "total descending",
         "domain": [
          0,
          1
         ],
         "title": {
          "text": "Edad"
         }
        },
        "yaxis": {
         "anchor": "x",
         "domain": [
          0,
          1
         ],
         "title": {
          "text": "count"
         },
         "type": "log"
        }
       }
      }
     },
     "metadata": {},
     "output_type": "display_data"
    }
   ],
   "source": [
    "df['Edad'].fillna(\"30-35 años\", inplace = True)\n",
    "\n",
    "fig = px.histogram(df, x=\"Edad\",\n",
    "                   title='Participación por edad',\n",
    "                   color_discrete_sequence=['darkred'],\n",
    "                   log_y=True, # represent bars with log scale\n",
    "                   text_auto= True\n",
    "                   ).update_xaxes(categoryorder='total descending')\n",
    "                   \n",
    "fig.show()\n",
    "fig.write_image(\"images/edad.png\")"
   ]
  },
  {
   "cell_type": "markdown",
   "metadata": {},
   "source": [
    "### Estado"
   ]
  },
  {
   "cell_type": "code",
   "execution_count": 4,
   "metadata": {},
   "outputs": [
    {
     "data": {
      "application/vnd.plotly.v1+json": {
       "config": {
        "plotlyServerURL": "https://plot.ly"
       },
       "data": [
        {
         "alignmentgroup": "True",
         "bingroup": "x",
         "hovertemplate": "Estado=%{x}<br>count=%{y}<extra></extra>",
         "legendgroup": "",
         "marker": {
          "color": "darkred",
          "pattern": {
           "shape": ""
          }
         },
         "name": "",
         "offsetgroup": "",
         "orientation": "v",
         "showlegend": false,
         "texttemplate": "%{value}",
         "type": "histogram",
         "x": [
          "Michoacán",
          "Estado de México",
          "Michoacán",
          "Michoacán",
          "Estado de México",
          "Estado de México",
          "Michoacán",
          "Estado de México",
          "Estado de México",
          "Estado de México",
          "Veracruz",
          "Michoacán",
          "Michoacán",
          "Michoacán",
          "Veracruz",
          "Veracruz",
          "Michoacán",
          "Estado de México",
          "Chiapas",
          "Querétaro",
          "Veracruz",
          "Michoacán",
          "Estado de México",
          "Michoacán",
          "San Luis Potosí",
          "Michoacán",
          "Michoacán",
          "Estado de México",
          "Estado de México",
          "Estado de México",
          "Estado de México",
          "Michoacán",
          "Estado de México",
          "Michoacán",
          "Estado de México",
          "San Luis Potosí",
          "Jalisco",
          "Chihuahua",
          "Estado de México",
          "Estado de México",
          "Michoacán",
          "Estado de México",
          "Estado de México",
          "Michoacán",
          "Michoacán",
          "Estado de México",
          "Michoacán",
          "Ciudad de México",
          "Estado de México",
          "Michoacán",
          "Michoacán",
          "Chiapas",
          "Michoacán",
          "Estado de México",
          "Jalisco",
          "Michoacán",
          "Estado de México",
          "Ciudad de México",
          "Estado de México",
          "Michoacán",
          "Estado de México",
          "Estado de México",
          "Michoacán",
          "Veracruz",
          "Michoacán",
          "Estado de México",
          "Veracruz",
          "Estado de México",
          "Estado de México",
          "Estado de México",
          "Veracruz",
          "Estado de México",
          "Ciudad de México",
          "Estado de México",
          "Estado de México",
          "Estado de México",
          "Ciudad de México",
          "Estado de México",
          "Estado de México",
          "Estado de México",
          "Estado de México",
          "Estado de México",
          "Puebla",
          "Estado de México",
          "Estado de México",
          "Estado de México",
          "Estado de México",
          "Estado de México",
          "Nuevo León",
          "Estado de México",
          "Chiapas",
          "Ciudad de México",
          "Estado de México",
          "Ciudad de México",
          "Estado de México",
          "Querétaro",
          "Estado de México",
          "Estado de México",
          "Estado de México",
          "Estado de México",
          "Ciudad de México",
          "Estado de México",
          "Veracruz",
          "Estado de México",
          "Estado de México",
          "Estado de México",
          "Estado de México",
          "Ciudad de México",
          "Michoacán",
          "Estado de México",
          "Estado de México",
          "Estado de México",
          "Estado de México",
          "Chiapas",
          "Estado de México",
          "Estado de México",
          "Estado de México",
          "Ciudad de México",
          "Michoacán",
          "Guanajuato",
          "Estado de México",
          "Estado de México",
          "Estado de México",
          "Sinaloa",
          "Veracruz",
          "Veracruz",
          "Estado de México",
          "Estado de México",
          "Estado de México",
          "Estado de México",
          "Ciudad de México",
          "Veracruz",
          "Morelos ",
          "Estado de México",
          "Estado de México",
          "Estado de México",
          "Estado de México",
          "Ciudad de México",
          "Estado de México",
          "Nuevo León",
          "Michoacán",
          "Estado de México",
          "Estado de México",
          "Aguascalientes",
          "Guerrero",
          "Estado de México",
          "Estado de México",
          "Ciudad de México",
          "Guerrero",
          "Estado de México",
          "Estado de México",
          "Estado de México",
          "Estado de México",
          "Estado de México",
          "Estado de México",
          "Estado de México",
          "Ciudad de México",
          "Veracruz",
          "Estado de México",
          "Estado de México",
          "Estado de México",
          "Estado de México",
          "Estado de México",
          "Ciudad de México",
          "Estado de México",
          "Estado de México",
          "Ciudad de México",
          "Ciudad de México",
          "Michoacán",
          "Estado de México",
          "Ciudad de México",
          "Veracruz",
          "Estado de México",
          "Estado de México",
          "Ciudad de México",
          "Ciudad de México",
          "Michoacán",
          "Estado de México",
          "Michoacán",
          "Estado de México",
          "Ciudad de México",
          "Michoacán",
          "Estado de México",
          "Estado de México",
          "Veracruz",
          "Estado de México",
          "Estado de México",
          "Michoacán",
          "Chiapas",
          "Estado de México",
          "Estado de México",
          "Estado de México",
          "Estado de México",
          "Jalisco",
          "Ciudad de México",
          "Estado de México",
          "Querétaro",
          "Hidalgo",
          "Estado de México",
          "Estado de México",
          "Michoacán",
          "Michoacán",
          "Estado de México",
          "Querétaro",
          "Michoacán",
          "Estado de México",
          "Estado de México",
          "Estado de México",
          "Michoacán",
          "Michoacán",
          "Ciudad de México",
          "Estado de México",
          "Ciudad de México",
          "Estado de México",
          "Estado de México",
          "Michoacán",
          "Veracruz",
          "Michoacán",
          "Michoacán",
          "Estado de México",
          "Estado de México",
          "Michoacán",
          "Veracruz",
          "Estado de México",
          "Estado de México",
          "Michoacán",
          "Estado de México",
          "Estado de México",
          "Michoacán",
          "Guanajuato",
          "Estado de México",
          "Jalisco",
          "Michoacán",
          "Estado de México",
          "Ciudad de México",
          "Chiapas",
          "Ciudad de México",
          "Michoacán",
          "Estado de México",
          "Estado de México",
          "Michoacán",
          "Estado de México",
          "Veracruz",
          "Michoacán",
          "Estado de México",
          "Estado de México",
          "Estado de México",
          "Estado de México",
          "Estado de México",
          "Michoacán",
          "Ciudad de México",
          "Michoacán",
          "Ciudad de México",
          "Michoacán",
          "Estado de México",
          "Jalisco",
          "Estado de México",
          "Estado de México",
          "Michoacán",
          "Estado de México",
          "Jalisco",
          "Ciudad de México",
          "Veracruz",
          "Estado de México",
          "Estado de México",
          "Michoacán",
          "Estado de México",
          "Michoacán",
          "Estado de México",
          "Nuevo León",
          "Veracruz",
          "Estado de México",
          "Estado de México",
          "Michoacán",
          "Michoacán",
          "San Luis Potosí",
          "Estado de México",
          "Estado de México",
          "Jalisco",
          "Estado de México",
          "Veracruz",
          "Michoacán",
          "Michoacán",
          "Michoacán",
          "Veracruz",
          "Michoacán",
          "Michoacán",
          "Estado de México",
          "Estado de México",
          "Estado de México",
          "Estado de México",
          "Ciudad de México",
          "Estado de México",
          "Estado de México",
          "Ciudad de México",
          "Ciudad de México",
          "Ciudad de México",
          "Estado de México",
          "Veracruz",
          "Estado de México",
          "Estado de México",
          "Estado de México",
          "Tabasco",
          "Michoacán",
          "Jalisco",
          "Estado de México",
          "Estado de México",
          "Michoacán",
          "Ciudad de México",
          "Estado de México",
          "Estado de México",
          "Michoacán",
          "Michoacán",
          "Michoacán",
          "Estado de México",
          "Michoacán",
          "Estado de México",
          "Michoacán",
          "Estado de México",
          "Estado de México",
          "Ciudad de México",
          "Jalisco",
          "Ciudad de México",
          "Estado de México",
          "Michoacán",
          "Estado de México",
          "Estado de México",
          "Ciudad de México",
          "Estado de México",
          "Michoacán",
          "Nuevo León",
          "Estado de México",
          "Michoacán",
          "Estado de México",
          "Michoacán",
          "Querétaro",
          "Chiapas",
          "Michoacán",
          "Estado de México",
          "Estado de México",
          "Estado de México",
          "Estado de México",
          "Michoacán",
          "Michoacán",
          "Michoacán",
          "Veracruz",
          "Ciudad de México",
          "Estado de México",
          "Querétaro",
          "Ciudad de México",
          "Ciudad de México",
          "Estado de México",
          "Estado de México",
          "Ciudad de México",
          "Guanajuato",
          "Michoacán",
          "Estado de México",
          "Ciudad de México",
          "Michoacán",
          "Jalisco",
          "Jalisco",
          "Estado de México",
          "Estado de México",
          "Estado de México",
          "Estado de México",
          "Jalisco",
          "Michoacán",
          "Michoacán",
          "Estado de México",
          "Michoacán",
          "Estado de México",
          "Estado de México",
          "Estado de México",
          "Michoacán",
          "Estado de México",
          "Michoacán",
          "Estado de México",
          "Michoacán",
          "Estado de México",
          "Michoacán",
          "Michoacán",
          "Estado de México",
          "Estado de México",
          "Michoacán",
          "Michoacán",
          "Ciudad de México",
          "Estado de México",
          "Estado de México",
          "Estado de México",
          "Aguascalientes",
          "Jalisco",
          "Michoacán",
          "Michoacán",
          "Jalisco",
          "Estado de México",
          "Estado de México",
          "Michoacán",
          "Michoacán",
          "Jalisco",
          "Estado de México",
          "Estado de México",
          "Michoacán",
          "Michoacán",
          "Jalisco",
          "Estado de México",
          "Ciudad de México",
          "Ciudad de México",
          "Estado de México",
          "Ciudad de México",
          "Ciudad de México",
          "Ciudad de México",
          "Ciudad de México",
          "Ciudad de México",
          "Michoacán",
          "Estado de México",
          "Ciudad de México",
          "Ciudad de México",
          "Veracruz",
          "Estado de México",
          "Michoacán",
          "Estado de México",
          "Ciudad de México",
          "Michoacán",
          "Jalisco",
          "Michoacán",
          "Estado de México",
          "Jalisco",
          "Jalisco"
         ],
         "xaxis": "x",
         "yaxis": "y"
        }
       ],
       "layout": {
        "barmode": "relative",
        "legend": {
         "tracegroupgap": 0
        },
        "template": {
         "data": {
          "bar": [
           {
            "error_x": {
             "color": "#2a3f5f"
            },
            "error_y": {
             "color": "#2a3f5f"
            },
            "marker": {
             "line": {
              "color": "#E5ECF6",
              "width": 0.5
             },
             "pattern": {
              "fillmode": "overlay",
              "size": 10,
              "solidity": 0.2
             }
            },
            "type": "bar"
           }
          ],
          "barpolar": [
           {
            "marker": {
             "line": {
              "color": "#E5ECF6",
              "width": 0.5
             },
             "pattern": {
              "fillmode": "overlay",
              "size": 10,
              "solidity": 0.2
             }
            },
            "type": "barpolar"
           }
          ],
          "carpet": [
           {
            "aaxis": {
             "endlinecolor": "#2a3f5f",
             "gridcolor": "white",
             "linecolor": "white",
             "minorgridcolor": "white",
             "startlinecolor": "#2a3f5f"
            },
            "baxis": {
             "endlinecolor": "#2a3f5f",
             "gridcolor": "white",
             "linecolor": "white",
             "minorgridcolor": "white",
             "startlinecolor": "#2a3f5f"
            },
            "type": "carpet"
           }
          ],
          "choropleth": [
           {
            "colorbar": {
             "outlinewidth": 0,
             "ticks": ""
            },
            "type": "choropleth"
           }
          ],
          "contour": [
           {
            "colorbar": {
             "outlinewidth": 0,
             "ticks": ""
            },
            "colorscale": [
             [
              0,
              "#0d0887"
             ],
             [
              0.1111111111111111,
              "#46039f"
             ],
             [
              0.2222222222222222,
              "#7201a8"
             ],
             [
              0.3333333333333333,
              "#9c179e"
             ],
             [
              0.4444444444444444,
              "#bd3786"
             ],
             [
              0.5555555555555556,
              "#d8576b"
             ],
             [
              0.6666666666666666,
              "#ed7953"
             ],
             [
              0.7777777777777778,
              "#fb9f3a"
             ],
             [
              0.8888888888888888,
              "#fdca26"
             ],
             [
              1,
              "#f0f921"
             ]
            ],
            "type": "contour"
           }
          ],
          "contourcarpet": [
           {
            "colorbar": {
             "outlinewidth": 0,
             "ticks": ""
            },
            "type": "contourcarpet"
           }
          ],
          "heatmap": [
           {
            "colorbar": {
             "outlinewidth": 0,
             "ticks": ""
            },
            "colorscale": [
             [
              0,
              "#0d0887"
             ],
             [
              0.1111111111111111,
              "#46039f"
             ],
             [
              0.2222222222222222,
              "#7201a8"
             ],
             [
              0.3333333333333333,
              "#9c179e"
             ],
             [
              0.4444444444444444,
              "#bd3786"
             ],
             [
              0.5555555555555556,
              "#d8576b"
             ],
             [
              0.6666666666666666,
              "#ed7953"
             ],
             [
              0.7777777777777778,
              "#fb9f3a"
             ],
             [
              0.8888888888888888,
              "#fdca26"
             ],
             [
              1,
              "#f0f921"
             ]
            ],
            "type": "heatmap"
           }
          ],
          "heatmapgl": [
           {
            "colorbar": {
             "outlinewidth": 0,
             "ticks": ""
            },
            "colorscale": [
             [
              0,
              "#0d0887"
             ],
             [
              0.1111111111111111,
              "#46039f"
             ],
             [
              0.2222222222222222,
              "#7201a8"
             ],
             [
              0.3333333333333333,
              "#9c179e"
             ],
             [
              0.4444444444444444,
              "#bd3786"
             ],
             [
              0.5555555555555556,
              "#d8576b"
             ],
             [
              0.6666666666666666,
              "#ed7953"
             ],
             [
              0.7777777777777778,
              "#fb9f3a"
             ],
             [
              0.8888888888888888,
              "#fdca26"
             ],
             [
              1,
              "#f0f921"
             ]
            ],
            "type": "heatmapgl"
           }
          ],
          "histogram": [
           {
            "marker": {
             "pattern": {
              "fillmode": "overlay",
              "size": 10,
              "solidity": 0.2
             }
            },
            "type": "histogram"
           }
          ],
          "histogram2d": [
           {
            "colorbar": {
             "outlinewidth": 0,
             "ticks": ""
            },
            "colorscale": [
             [
              0,
              "#0d0887"
             ],
             [
              0.1111111111111111,
              "#46039f"
             ],
             [
              0.2222222222222222,
              "#7201a8"
             ],
             [
              0.3333333333333333,
              "#9c179e"
             ],
             [
              0.4444444444444444,
              "#bd3786"
             ],
             [
              0.5555555555555556,
              "#d8576b"
             ],
             [
              0.6666666666666666,
              "#ed7953"
             ],
             [
              0.7777777777777778,
              "#fb9f3a"
             ],
             [
              0.8888888888888888,
              "#fdca26"
             ],
             [
              1,
              "#f0f921"
             ]
            ],
            "type": "histogram2d"
           }
          ],
          "histogram2dcontour": [
           {
            "colorbar": {
             "outlinewidth": 0,
             "ticks": ""
            },
            "colorscale": [
             [
              0,
              "#0d0887"
             ],
             [
              0.1111111111111111,
              "#46039f"
             ],
             [
              0.2222222222222222,
              "#7201a8"
             ],
             [
              0.3333333333333333,
              "#9c179e"
             ],
             [
              0.4444444444444444,
              "#bd3786"
             ],
             [
              0.5555555555555556,
              "#d8576b"
             ],
             [
              0.6666666666666666,
              "#ed7953"
             ],
             [
              0.7777777777777778,
              "#fb9f3a"
             ],
             [
              0.8888888888888888,
              "#fdca26"
             ],
             [
              1,
              "#f0f921"
             ]
            ],
            "type": "histogram2dcontour"
           }
          ],
          "mesh3d": [
           {
            "colorbar": {
             "outlinewidth": 0,
             "ticks": ""
            },
            "type": "mesh3d"
           }
          ],
          "parcoords": [
           {
            "line": {
             "colorbar": {
              "outlinewidth": 0,
              "ticks": ""
             }
            },
            "type": "parcoords"
           }
          ],
          "pie": [
           {
            "automargin": true,
            "type": "pie"
           }
          ],
          "scatter": [
           {
            "marker": {
             "colorbar": {
              "outlinewidth": 0,
              "ticks": ""
             }
            },
            "type": "scatter"
           }
          ],
          "scatter3d": [
           {
            "line": {
             "colorbar": {
              "outlinewidth": 0,
              "ticks": ""
             }
            },
            "marker": {
             "colorbar": {
              "outlinewidth": 0,
              "ticks": ""
             }
            },
            "type": "scatter3d"
           }
          ],
          "scattercarpet": [
           {
            "marker": {
             "colorbar": {
              "outlinewidth": 0,
              "ticks": ""
             }
            },
            "type": "scattercarpet"
           }
          ],
          "scattergeo": [
           {
            "marker": {
             "colorbar": {
              "outlinewidth": 0,
              "ticks": ""
             }
            },
            "type": "scattergeo"
           }
          ],
          "scattergl": [
           {
            "marker": {
             "colorbar": {
              "outlinewidth": 0,
              "ticks": ""
             }
            },
            "type": "scattergl"
           }
          ],
          "scattermapbox": [
           {
            "marker": {
             "colorbar": {
              "outlinewidth": 0,
              "ticks": ""
             }
            },
            "type": "scattermapbox"
           }
          ],
          "scatterpolar": [
           {
            "marker": {
             "colorbar": {
              "outlinewidth": 0,
              "ticks": ""
             }
            },
            "type": "scatterpolar"
           }
          ],
          "scatterpolargl": [
           {
            "marker": {
             "colorbar": {
              "outlinewidth": 0,
              "ticks": ""
             }
            },
            "type": "scatterpolargl"
           }
          ],
          "scatterternary": [
           {
            "marker": {
             "colorbar": {
              "outlinewidth": 0,
              "ticks": ""
             }
            },
            "type": "scatterternary"
           }
          ],
          "surface": [
           {
            "colorbar": {
             "outlinewidth": 0,
             "ticks": ""
            },
            "colorscale": [
             [
              0,
              "#0d0887"
             ],
             [
              0.1111111111111111,
              "#46039f"
             ],
             [
              0.2222222222222222,
              "#7201a8"
             ],
             [
              0.3333333333333333,
              "#9c179e"
             ],
             [
              0.4444444444444444,
              "#bd3786"
             ],
             [
              0.5555555555555556,
              "#d8576b"
             ],
             [
              0.6666666666666666,
              "#ed7953"
             ],
             [
              0.7777777777777778,
              "#fb9f3a"
             ],
             [
              0.8888888888888888,
              "#fdca26"
             ],
             [
              1,
              "#f0f921"
             ]
            ],
            "type": "surface"
           }
          ],
          "table": [
           {
            "cells": {
             "fill": {
              "color": "#EBF0F8"
             },
             "line": {
              "color": "white"
             }
            },
            "header": {
             "fill": {
              "color": "#C8D4E3"
             },
             "line": {
              "color": "white"
             }
            },
            "type": "table"
           }
          ]
         },
         "layout": {
          "annotationdefaults": {
           "arrowcolor": "#2a3f5f",
           "arrowhead": 0,
           "arrowwidth": 1
          },
          "autotypenumbers": "strict",
          "coloraxis": {
           "colorbar": {
            "outlinewidth": 0,
            "ticks": ""
           }
          },
          "colorscale": {
           "diverging": [
            [
             0,
             "#8e0152"
            ],
            [
             0.1,
             "#c51b7d"
            ],
            [
             0.2,
             "#de77ae"
            ],
            [
             0.3,
             "#f1b6da"
            ],
            [
             0.4,
             "#fde0ef"
            ],
            [
             0.5,
             "#f7f7f7"
            ],
            [
             0.6,
             "#e6f5d0"
            ],
            [
             0.7,
             "#b8e186"
            ],
            [
             0.8,
             "#7fbc41"
            ],
            [
             0.9,
             "#4d9221"
            ],
            [
             1,
             "#276419"
            ]
           ],
           "sequential": [
            [
             0,
             "#0d0887"
            ],
            [
             0.1111111111111111,
             "#46039f"
            ],
            [
             0.2222222222222222,
             "#7201a8"
            ],
            [
             0.3333333333333333,
             "#9c179e"
            ],
            [
             0.4444444444444444,
             "#bd3786"
            ],
            [
             0.5555555555555556,
             "#d8576b"
            ],
            [
             0.6666666666666666,
             "#ed7953"
            ],
            [
             0.7777777777777778,
             "#fb9f3a"
            ],
            [
             0.8888888888888888,
             "#fdca26"
            ],
            [
             1,
             "#f0f921"
            ]
           ],
           "sequentialminus": [
            [
             0,
             "#0d0887"
            ],
            [
             0.1111111111111111,
             "#46039f"
            ],
            [
             0.2222222222222222,
             "#7201a8"
            ],
            [
             0.3333333333333333,
             "#9c179e"
            ],
            [
             0.4444444444444444,
             "#bd3786"
            ],
            [
             0.5555555555555556,
             "#d8576b"
            ],
            [
             0.6666666666666666,
             "#ed7953"
            ],
            [
             0.7777777777777778,
             "#fb9f3a"
            ],
            [
             0.8888888888888888,
             "#fdca26"
            ],
            [
             1,
             "#f0f921"
            ]
           ]
          },
          "colorway": [
           "#636efa",
           "#EF553B",
           "#00cc96",
           "#ab63fa",
           "#FFA15A",
           "#19d3f3",
           "#FF6692",
           "#B6E880",
           "#FF97FF",
           "#FECB52"
          ],
          "font": {
           "color": "#2a3f5f"
          },
          "geo": {
           "bgcolor": "white",
           "lakecolor": "white",
           "landcolor": "#E5ECF6",
           "showlakes": true,
           "showland": true,
           "subunitcolor": "white"
          },
          "hoverlabel": {
           "align": "left"
          },
          "hovermode": "closest",
          "mapbox": {
           "style": "light"
          },
          "paper_bgcolor": "white",
          "plot_bgcolor": "#E5ECF6",
          "polar": {
           "angularaxis": {
            "gridcolor": "white",
            "linecolor": "white",
            "ticks": ""
           },
           "bgcolor": "#E5ECF6",
           "radialaxis": {
            "gridcolor": "white",
            "linecolor": "white",
            "ticks": ""
           }
          },
          "scene": {
           "xaxis": {
            "backgroundcolor": "#E5ECF6",
            "gridcolor": "white",
            "gridwidth": 2,
            "linecolor": "white",
            "showbackground": true,
            "ticks": "",
            "zerolinecolor": "white"
           },
           "yaxis": {
            "backgroundcolor": "#E5ECF6",
            "gridcolor": "white",
            "gridwidth": 2,
            "linecolor": "white",
            "showbackground": true,
            "ticks": "",
            "zerolinecolor": "white"
           },
           "zaxis": {
            "backgroundcolor": "#E5ECF6",
            "gridcolor": "white",
            "gridwidth": 2,
            "linecolor": "white",
            "showbackground": true,
            "ticks": "",
            "zerolinecolor": "white"
           }
          },
          "shapedefaults": {
           "line": {
            "color": "#2a3f5f"
           }
          },
          "ternary": {
           "aaxis": {
            "gridcolor": "white",
            "linecolor": "white",
            "ticks": ""
           },
           "baxis": {
            "gridcolor": "white",
            "linecolor": "white",
            "ticks": ""
           },
           "bgcolor": "#E5ECF6",
           "caxis": {
            "gridcolor": "white",
            "linecolor": "white",
            "ticks": ""
           }
          },
          "title": {
           "x": 0.05
          },
          "xaxis": {
           "automargin": true,
           "gridcolor": "white",
           "linecolor": "white",
           "ticks": "",
           "title": {
            "standoff": 15
           },
           "zerolinecolor": "white",
           "zerolinewidth": 2
          },
          "yaxis": {
           "automargin": true,
           "gridcolor": "white",
           "linecolor": "white",
           "ticks": "",
           "title": {
            "standoff": 15
           },
           "zerolinecolor": "white",
           "zerolinewidth": 2
          }
         }
        },
        "title": {
         "text": "Participación por estado"
        },
        "xaxis": {
         "anchor": "y",
         "categoryorder": "total descending",
         "domain": [
          0,
          1
         ],
         "title": {
          "text": "Estado"
         }
        },
        "yaxis": {
         "anchor": "x",
         "domain": [
          0,
          1
         ],
         "title": {
          "text": "count"
         },
         "type": "log"
        }
       }
      }
     },
     "metadata": {},
     "output_type": "display_data"
    }
   ],
   "source": [
    "df['Estado'].fillna(\"Jalisco\", inplace = True)\n",
    "df['Estado'] = df['Estado'].replace(['Michoacan', \n",
    "                                        'Michoacan ',\n",
    "                                        'Michoacán ', \n",
    "                                        'michoacan',\n",
    "                                        'Soy de michoacan, termporalmente resido fuera del pais '],\n",
    "                                        'Michoacán')\n",
    "df['Estado'] = df['Estado'].replace(['Toluca Estados de México ', \n",
    "                                        'Edomex', \n",
    "                                        'Toluca ', \n",
    "                                        'EDO mex ', \n",
    "                                        'Estado de México, Toluca',\n",
    "                                        'Edo mex',\n",
    "                                        'Estado de México ',\n",
    "                                        'Edo Mex ',\n",
    "                                        'Edo. Méx.',\n",
    "                                        'Edo mexico ',\n",
    "                                        'toluca ',\n",
    "                                        'Toluca  edo de México ',\n",
    "                                        'Estado de Mexico',\n",
    "                                        'De Mexico ',\n",
    "                                        'Toluca estado de México ',\n",
    "                                        'Toluca, edomex.',\n",
    "                                        'estado de mexico',\n",
    "                                        'EdoMex pero resido en el extranjero temporalmente',\n",
    "                                        'ESTADO DE MÉXICO'],\n",
    "                                        'Estado de México')\n",
    "df['Estado'] = df['Estado'].replace(['Querétaro '],'Querétaro')\n",
    "df['Estado'] = df['Estado'].replace(['S.L.P.'],'San Luis Potosí')\n",
    "df['Estado'] = df['Estado'].replace(['Jalisco '],'Jalisco')\n",
    "df['Estado'] = df['Estado'].replace(['Guanajuato '],'Guanajuato')\n",
    "df['Estado'] = df['Estado'].replace(['Mexico ', 'México ', 'México  ', 'Mexico', 'Ciudad de México ', 'México'],'Ciudad de México')\n",
    "\n",
    "fig = px.histogram(df, x=\"Estado\",\n",
    "                   title='Participación por estado',\n",
    "                   color_discrete_sequence=['darkred'],\n",
    "                   log_y=True, # represent bars with log scale\n",
    "                   text_auto= True\n",
    "                   ).update_xaxes(categoryorder='total descending')\n",
    "                   \n",
    "fig.show()"
   ]
  },
  {
   "cell_type": "markdown",
   "metadata": {},
   "source": [
    "### Institución"
   ]
  },
  {
   "cell_type": "code",
   "execution_count": 5,
   "metadata": {},
   "outputs": [
    {
     "data": {
      "application/vnd.plotly.v1+json": {
       "config": {
        "plotlyServerURL": "https://plot.ly"
       },
       "data": [
        {
         "alignmentgroup": "True",
         "bingroup": "x",
         "hovertemplate": "Institución=%{x}<br>count=%{y}<extra></extra>",
         "legendgroup": "",
         "marker": {
          "color": "darkred",
          "pattern": {
           "shape": ""
          }
         },
         "name": "",
         "offsetgroup": "",
         "orientation": "v",
         "showlegend": false,
         "texttemplate": "%{value}",
         "type": "histogram",
         "x": [
          "Instituto tecnológico",
          "Escuela privada",
          "Escuela privada",
          "Escuela privada",
          "Escuela privada",
          "Escuela federal",
          "Instituto tecnológico",
          "Escuela federal",
          "Escuela privada",
          "Escuela privada",
          "Escuela privada",
          "Escuela privada",
          "Escuela privada",
          "Escuela privada",
          "Escuela privada",
          "Escuela privada",
          "Escuela privada",
          "Escuela privada",
          "Escuela privada",
          "Escuela privada",
          "Escuela privada",
          "Escuela privada",
          "Escuela privada",
          "Escuela privada",
          "Escuela privada",
          "Escuela privada",
          "Escuela privada",
          "Escuela privada",
          "Escuela privada",
          "Escuela federal",
          "Escuela privada",
          "Escuela privada",
          "Escuela privada",
          "Escuela federal",
          "Escuela federal",
          "Escuela privada",
          "Escuela federal",
          "Escuela federal",
          "Escuela privada",
          "Instituto tecnológico",
          "Escuela federal",
          "Escuela federal",
          "Escuela federal",
          "Escuela privada",
          "Escuela privada",
          "Escuela privada",
          "Escuela privada",
          "Escuela federal",
          "Escuela privada",
          "Escuela privada",
          "Escuela privada",
          "Escuela privada",
          "Escuela privada",
          "Escuela privada",
          "Escuela privada",
          "Escuela privada",
          "Escuela privada",
          "Escuela privada",
          "Escuela privada",
          "Escuela privada",
          "Escuela federal",
          "Escuela federal",
          "Escuela privada",
          "Escuela privada",
          "Escuela federal",
          "Escuela privada",
          "Escuela federal",
          "Escuela privada",
          "Escuela federal",
          "Instituto tecnológico",
          "Escuela privada",
          "Escuela federal",
          "Escuela federal",
          "Escuela privada",
          "Escuela federal",
          "Escuela privada",
          "Escuela federal",
          "Escuela federal",
          "Instituto tecnológico",
          "Instituto tecnológico",
          "Escuela privada",
          "Instituto tecnológico",
          "Escuela privada",
          "Instituto tecnológico",
          "Escuela privada",
          "Escuela privada",
          "Escuela privada",
          "Escuela privada",
          "Escuela privada",
          "Escuela privada",
          "Escuela privada",
          "Escuela privada",
          "Instituto tecnológico",
          "Escuela privada",
          "Escuela federal",
          "Escuela federal",
          "Escuela privada",
          "Escuela federal",
          "Instituto tecnológico",
          "Instituto tecnológico",
          "Escuela federal",
          "Escuela federal",
          "Escuela privada",
          "Instituto tecnológico",
          "Instituto tecnológico",
          "Escuela privada",
          "Escuela privada",
          "Escuela federal",
          "Instituto tecnológico",
          "Escuela privada",
          "Instituto tecnológico",
          "Escuela privada",
          "Instituto tecnológico",
          "Instituto tecnológico",
          "Instituto tecnológico",
          "Escuela privada",
          "Escuela federal",
          "Escuela privada",
          "Escuela federal",
          "Escuela federal",
          "Instituto tecnológico",
          "Escuela privada",
          "Instituto tecnológico",
          "Escuela privada",
          "Escuela privada",
          "Escuela privada",
          "Escuela privada",
          "Instituto tecnológico",
          "Instituto tecnológico",
          "Escuela federal",
          "Escuela privada",
          "Escuela privada",
          "Escuela federal",
          "Instituto tecnológico",
          "Escuela privada",
          "Escuela privada",
          "Escuela privada",
          "Escuela federal",
          "Escuela privada",
          "Escuela privada",
          "Escuela privada",
          "Escuela privada",
          "Instituto tecnológico",
          "Instituto tecnológico",
          "Escuela federal",
          "Escuela privada",
          "Instituto tecnológico",
          "Escuela privada",
          "Escuela federal",
          "Escuela privada",
          "Escuela privada",
          "Escuela federal",
          "Escuela privada",
          "Escuela privada",
          "Escuela privada",
          "Escuela federal",
          "Escuela privada",
          "Escuela federal",
          "Escuela privada",
          "Instituto tecnológico",
          "Escuela privada",
          "Escuela privada",
          "Escuela privada",
          "Escuela privada",
          "Escuela privada",
          "Instituto tecnológico",
          "Escuela privada",
          "Escuela privada",
          "Escuela privada",
          "Escuela privada",
          "Escuela privada",
          "Escuela federal",
          "Escuela privada",
          "Instituto tecnológico",
          "Escuela privada",
          "Escuela privada",
          "Escuela privada",
          "Instituto tecnológico",
          "Escuela privada",
          "Escuela privada",
          "Escuela federal",
          "Escuela privada",
          "Escuela privada",
          "Escuela privada",
          "Escuela privada",
          "Escuela privada",
          "Escuela privada",
          "Escuela privada",
          "Escuela privada",
          "Escuela privada",
          "Escuela privada",
          "Escuela privada",
          "Escuela privada",
          "Instituto tecnológico",
          "Escuela privada",
          "Escuela federal",
          "Escuela privada",
          "Escuela privada",
          "Escuela privada",
          "Escuela federal",
          "Escuela privada",
          "Instituto tecnológico",
          "Escuela privada",
          "Escuela privada",
          "Escuela federal",
          "Escuela privada",
          "Escuela privada",
          "Escuela privada",
          "Escuela federal",
          "Escuela privada",
          "Escuela privada",
          "Escuela federal",
          "Escuela privada",
          "Instituto tecnológico",
          "Escuela privada",
          "Escuela privada",
          "Escuela privada",
          "Escuela federal",
          "Escuela privada",
          "Escuela privada",
          "Escuela privada",
          "Escuela federal",
          "Escuela privada",
          "Escuela privada",
          "Escuela federal",
          "Escuela federal",
          "Escuela privada",
          "Escuela privada",
          "Escuela privada",
          "Escuela privada",
          "Escuela federal",
          "Escuela privada",
          "Escuela privada",
          "Escuela privada",
          "Escuela privada",
          "Escuela federal",
          "Escuela privada",
          "Escuela federal",
          "Instituto tecnológico",
          "Escuela privada",
          "Escuela privada",
          "Escuela privada",
          "Escuela privada",
          "Escuela privada",
          "Escuela privada",
          "Escuela privada",
          "Escuela privada",
          "Escuela privada",
          "Instituto tecnológico",
          "Escuela privada",
          "Escuela privada",
          "Escuela federal",
          "Escuela privada",
          "Escuela federal",
          "Escuela privada",
          "Escuela privada",
          "Escuela federal",
          "Escuela privada",
          "Escuela privada",
          "Escuela federal",
          "Escuela privada",
          "Instituto tecnológico",
          "Escuela privada",
          "Instituto tecnológico",
          "Instituto tecnológico",
          "Escuela privada",
          "Escuela privada",
          "Escuela privada",
          "Escuela privada",
          "Instituto tecnológico",
          "Escuela privada",
          "Escuela privada",
          "Escuela privada",
          "Escuela privada",
          "Escuela privada",
          "Escuela privada",
          "Escuela privada",
          "Escuela federal",
          "Escuela privada",
          "Escuela federal",
          "Escuela privada",
          "Instituto tecnológico",
          "Instituto tecnológico",
          "Escuela privada",
          "Escuela privada",
          "Escuela federal",
          "Escuela privada",
          "Escuela privada",
          "Instituto tecnológico",
          "Instituto tecnológico",
          "Escuela federal",
          "Escuela privada",
          "Escuela privada",
          "Escuela privada",
          "Instituto tecnológico",
          "Escuela privada",
          "Escuela federal",
          "Escuela privada",
          "Escuela privada",
          "Escuela privada",
          "Escuela privada",
          "Escuela privada",
          "Escuela privada",
          "Escuela privada",
          "Escuela privada",
          "Escuela privada",
          "Escuela privada",
          "Escuela privada",
          "Escuela privada",
          "Escuela privada",
          "Escuela privada",
          "Instituto tecnológico",
          "Instituto tecnológico",
          "Escuela privada",
          "Escuela federal",
          "Escuela privada",
          "Escuela federal",
          "Escuela privada",
          "Escuela privada",
          "Escuela privada",
          "Escuela federal",
          "Escuela privada",
          "Escuela privada",
          "Escuela federal",
          "Escuela privada",
          "Instituto tecnológico",
          "Instituto tecnológico",
          "Escuela federal",
          "Escuela federal",
          "Escuela privada",
          "Escuela privada",
          "Escuela privada",
          "Escuela privada",
          "Escuela privada",
          "Escuela federal",
          "Escuela privada",
          "Escuela federal",
          "Escuela privada",
          "Escuela privada",
          "Escuela privada",
          "Escuela privada",
          "Escuela privada",
          "Escuela privada",
          "Escuela privada",
          "Instituto tecnológico",
          "Escuela privada",
          "Escuela privada",
          "Escuela federal",
          "Escuela privada",
          "Escuela privada",
          "Escuela privada",
          "Escuela federal",
          "Escuela federal",
          "Escuela privada",
          "Escuela federal",
          "Escuela privada",
          "Escuela privada",
          "Escuela federal",
          "Escuela federal",
          "Escuela privada",
          "Escuela federal",
          "Escuela privada",
          "Escuela federal",
          "Escuela privada",
          "Escuela privada",
          "Escuela federal",
          "Escuela privada",
          "Escuela privada",
          "Escuela federal",
          "Escuela privada",
          "Escuela privada",
          "Escuela federal",
          "Escuela privada",
          "Instituto tecnológico",
          "Escuela privada",
          "Escuela privada",
          "Escuela privada",
          "Escuela privada",
          "Instituto tecnológico",
          "Escuela privada",
          "Escuela privada",
          "Escuela privada",
          "Escuela federal",
          "Instituto tecnológico",
          "Escuela privada",
          "Escuela privada",
          "Instituto tecnológico",
          "Escuela privada",
          "Escuela federal",
          "Instituto tecnológico",
          "Escuela federal",
          "Escuela privada",
          "Escuela federal",
          "Escuela privada",
          "Escuela privada",
          "Escuela privada",
          "Escuela federal",
          "Escuela federal",
          "Escuela federal",
          "Escuela privada",
          "Escuela federal",
          "Escuela privada",
          "Escuela privada",
          "Escuela federal",
          "Escuela privada",
          "Escuela privada",
          "Escuela privada",
          "Escuela federal",
          "Escuela privada",
          "Escuela privada",
          "Escuela privada",
          "Escuela privada",
          "Escuela privada",
          "Escuela privada",
          "Escuela privada",
          "Escuela federal",
          "Escuela privada",
          "Escuela privada",
          "Escuela privada",
          "Escuela privada",
          "Escuela federal",
          "Escuela privada",
          "Escuela privada",
          "Escuela privada",
          "Instituto tecnológico",
          "Escuela privada",
          "Escuela privada",
          "Escuela privada"
         ],
         "xaxis": "x",
         "yaxis": "y"
        }
       ],
       "layout": {
        "barmode": "relative",
        "legend": {
         "tracegroupgap": 0
        },
        "template": {
         "data": {
          "bar": [
           {
            "error_x": {
             "color": "#2a3f5f"
            },
            "error_y": {
             "color": "#2a3f5f"
            },
            "marker": {
             "line": {
              "color": "#E5ECF6",
              "width": 0.5
             },
             "pattern": {
              "fillmode": "overlay",
              "size": 10,
              "solidity": 0.2
             }
            },
            "type": "bar"
           }
          ],
          "barpolar": [
           {
            "marker": {
             "line": {
              "color": "#E5ECF6",
              "width": 0.5
             },
             "pattern": {
              "fillmode": "overlay",
              "size": 10,
              "solidity": 0.2
             }
            },
            "type": "barpolar"
           }
          ],
          "carpet": [
           {
            "aaxis": {
             "endlinecolor": "#2a3f5f",
             "gridcolor": "white",
             "linecolor": "white",
             "minorgridcolor": "white",
             "startlinecolor": "#2a3f5f"
            },
            "baxis": {
             "endlinecolor": "#2a3f5f",
             "gridcolor": "white",
             "linecolor": "white",
             "minorgridcolor": "white",
             "startlinecolor": "#2a3f5f"
            },
            "type": "carpet"
           }
          ],
          "choropleth": [
           {
            "colorbar": {
             "outlinewidth": 0,
             "ticks": ""
            },
            "type": "choropleth"
           }
          ],
          "contour": [
           {
            "colorbar": {
             "outlinewidth": 0,
             "ticks": ""
            },
            "colorscale": [
             [
              0,
              "#0d0887"
             ],
             [
              0.1111111111111111,
              "#46039f"
             ],
             [
              0.2222222222222222,
              "#7201a8"
             ],
             [
              0.3333333333333333,
              "#9c179e"
             ],
             [
              0.4444444444444444,
              "#bd3786"
             ],
             [
              0.5555555555555556,
              "#d8576b"
             ],
             [
              0.6666666666666666,
              "#ed7953"
             ],
             [
              0.7777777777777778,
              "#fb9f3a"
             ],
             [
              0.8888888888888888,
              "#fdca26"
             ],
             [
              1,
              "#f0f921"
             ]
            ],
            "type": "contour"
           }
          ],
          "contourcarpet": [
           {
            "colorbar": {
             "outlinewidth": 0,
             "ticks": ""
            },
            "type": "contourcarpet"
           }
          ],
          "heatmap": [
           {
            "colorbar": {
             "outlinewidth": 0,
             "ticks": ""
            },
            "colorscale": [
             [
              0,
              "#0d0887"
             ],
             [
              0.1111111111111111,
              "#46039f"
             ],
             [
              0.2222222222222222,
              "#7201a8"
             ],
             [
              0.3333333333333333,
              "#9c179e"
             ],
             [
              0.4444444444444444,
              "#bd3786"
             ],
             [
              0.5555555555555556,
              "#d8576b"
             ],
             [
              0.6666666666666666,
              "#ed7953"
             ],
             [
              0.7777777777777778,
              "#fb9f3a"
             ],
             [
              0.8888888888888888,
              "#fdca26"
             ],
             [
              1,
              "#f0f921"
             ]
            ],
            "type": "heatmap"
           }
          ],
          "heatmapgl": [
           {
            "colorbar": {
             "outlinewidth": 0,
             "ticks": ""
            },
            "colorscale": [
             [
              0,
              "#0d0887"
             ],
             [
              0.1111111111111111,
              "#46039f"
             ],
             [
              0.2222222222222222,
              "#7201a8"
             ],
             [
              0.3333333333333333,
              "#9c179e"
             ],
             [
              0.4444444444444444,
              "#bd3786"
             ],
             [
              0.5555555555555556,
              "#d8576b"
             ],
             [
              0.6666666666666666,
              "#ed7953"
             ],
             [
              0.7777777777777778,
              "#fb9f3a"
             ],
             [
              0.8888888888888888,
              "#fdca26"
             ],
             [
              1,
              "#f0f921"
             ]
            ],
            "type": "heatmapgl"
           }
          ],
          "histogram": [
           {
            "marker": {
             "pattern": {
              "fillmode": "overlay",
              "size": 10,
              "solidity": 0.2
             }
            },
            "type": "histogram"
           }
          ],
          "histogram2d": [
           {
            "colorbar": {
             "outlinewidth": 0,
             "ticks": ""
            },
            "colorscale": [
             [
              0,
              "#0d0887"
             ],
             [
              0.1111111111111111,
              "#46039f"
             ],
             [
              0.2222222222222222,
              "#7201a8"
             ],
             [
              0.3333333333333333,
              "#9c179e"
             ],
             [
              0.4444444444444444,
              "#bd3786"
             ],
             [
              0.5555555555555556,
              "#d8576b"
             ],
             [
              0.6666666666666666,
              "#ed7953"
             ],
             [
              0.7777777777777778,
              "#fb9f3a"
             ],
             [
              0.8888888888888888,
              "#fdca26"
             ],
             [
              1,
              "#f0f921"
             ]
            ],
            "type": "histogram2d"
           }
          ],
          "histogram2dcontour": [
           {
            "colorbar": {
             "outlinewidth": 0,
             "ticks": ""
            },
            "colorscale": [
             [
              0,
              "#0d0887"
             ],
             [
              0.1111111111111111,
              "#46039f"
             ],
             [
              0.2222222222222222,
              "#7201a8"
             ],
             [
              0.3333333333333333,
              "#9c179e"
             ],
             [
              0.4444444444444444,
              "#bd3786"
             ],
             [
              0.5555555555555556,
              "#d8576b"
             ],
             [
              0.6666666666666666,
              "#ed7953"
             ],
             [
              0.7777777777777778,
              "#fb9f3a"
             ],
             [
              0.8888888888888888,
              "#fdca26"
             ],
             [
              1,
              "#f0f921"
             ]
            ],
            "type": "histogram2dcontour"
           }
          ],
          "mesh3d": [
           {
            "colorbar": {
             "outlinewidth": 0,
             "ticks": ""
            },
            "type": "mesh3d"
           }
          ],
          "parcoords": [
           {
            "line": {
             "colorbar": {
              "outlinewidth": 0,
              "ticks": ""
             }
            },
            "type": "parcoords"
           }
          ],
          "pie": [
           {
            "automargin": true,
            "type": "pie"
           }
          ],
          "scatter": [
           {
            "marker": {
             "colorbar": {
              "outlinewidth": 0,
              "ticks": ""
             }
            },
            "type": "scatter"
           }
          ],
          "scatter3d": [
           {
            "line": {
             "colorbar": {
              "outlinewidth": 0,
              "ticks": ""
             }
            },
            "marker": {
             "colorbar": {
              "outlinewidth": 0,
              "ticks": ""
             }
            },
            "type": "scatter3d"
           }
          ],
          "scattercarpet": [
           {
            "marker": {
             "colorbar": {
              "outlinewidth": 0,
              "ticks": ""
             }
            },
            "type": "scattercarpet"
           }
          ],
          "scattergeo": [
           {
            "marker": {
             "colorbar": {
              "outlinewidth": 0,
              "ticks": ""
             }
            },
            "type": "scattergeo"
           }
          ],
          "scattergl": [
           {
            "marker": {
             "colorbar": {
              "outlinewidth": 0,
              "ticks": ""
             }
            },
            "type": "scattergl"
           }
          ],
          "scattermapbox": [
           {
            "marker": {
             "colorbar": {
              "outlinewidth": 0,
              "ticks": ""
             }
            },
            "type": "scattermapbox"
           }
          ],
          "scatterpolar": [
           {
            "marker": {
             "colorbar": {
              "outlinewidth": 0,
              "ticks": ""
             }
            },
            "type": "scatterpolar"
           }
          ],
          "scatterpolargl": [
           {
            "marker": {
             "colorbar": {
              "outlinewidth": 0,
              "ticks": ""
             }
            },
            "type": "scatterpolargl"
           }
          ],
          "scatterternary": [
           {
            "marker": {
             "colorbar": {
              "outlinewidth": 0,
              "ticks": ""
             }
            },
            "type": "scatterternary"
           }
          ],
          "surface": [
           {
            "colorbar": {
             "outlinewidth": 0,
             "ticks": ""
            },
            "colorscale": [
             [
              0,
              "#0d0887"
             ],
             [
              0.1111111111111111,
              "#46039f"
             ],
             [
              0.2222222222222222,
              "#7201a8"
             ],
             [
              0.3333333333333333,
              "#9c179e"
             ],
             [
              0.4444444444444444,
              "#bd3786"
             ],
             [
              0.5555555555555556,
              "#d8576b"
             ],
             [
              0.6666666666666666,
              "#ed7953"
             ],
             [
              0.7777777777777778,
              "#fb9f3a"
             ],
             [
              0.8888888888888888,
              "#fdca26"
             ],
             [
              1,
              "#f0f921"
             ]
            ],
            "type": "surface"
           }
          ],
          "table": [
           {
            "cells": {
             "fill": {
              "color": "#EBF0F8"
             },
             "line": {
              "color": "white"
             }
            },
            "header": {
             "fill": {
              "color": "#C8D4E3"
             },
             "line": {
              "color": "white"
             }
            },
            "type": "table"
           }
          ]
         },
         "layout": {
          "annotationdefaults": {
           "arrowcolor": "#2a3f5f",
           "arrowhead": 0,
           "arrowwidth": 1
          },
          "autotypenumbers": "strict",
          "coloraxis": {
           "colorbar": {
            "outlinewidth": 0,
            "ticks": ""
           }
          },
          "colorscale": {
           "diverging": [
            [
             0,
             "#8e0152"
            ],
            [
             0.1,
             "#c51b7d"
            ],
            [
             0.2,
             "#de77ae"
            ],
            [
             0.3,
             "#f1b6da"
            ],
            [
             0.4,
             "#fde0ef"
            ],
            [
             0.5,
             "#f7f7f7"
            ],
            [
             0.6,
             "#e6f5d0"
            ],
            [
             0.7,
             "#b8e186"
            ],
            [
             0.8,
             "#7fbc41"
            ],
            [
             0.9,
             "#4d9221"
            ],
            [
             1,
             "#276419"
            ]
           ],
           "sequential": [
            [
             0,
             "#0d0887"
            ],
            [
             0.1111111111111111,
             "#46039f"
            ],
            [
             0.2222222222222222,
             "#7201a8"
            ],
            [
             0.3333333333333333,
             "#9c179e"
            ],
            [
             0.4444444444444444,
             "#bd3786"
            ],
            [
             0.5555555555555556,
             "#d8576b"
            ],
            [
             0.6666666666666666,
             "#ed7953"
            ],
            [
             0.7777777777777778,
             "#fb9f3a"
            ],
            [
             0.8888888888888888,
             "#fdca26"
            ],
            [
             1,
             "#f0f921"
            ]
           ],
           "sequentialminus": [
            [
             0,
             "#0d0887"
            ],
            [
             0.1111111111111111,
             "#46039f"
            ],
            [
             0.2222222222222222,
             "#7201a8"
            ],
            [
             0.3333333333333333,
             "#9c179e"
            ],
            [
             0.4444444444444444,
             "#bd3786"
            ],
            [
             0.5555555555555556,
             "#d8576b"
            ],
            [
             0.6666666666666666,
             "#ed7953"
            ],
            [
             0.7777777777777778,
             "#fb9f3a"
            ],
            [
             0.8888888888888888,
             "#fdca26"
            ],
            [
             1,
             "#f0f921"
            ]
           ]
          },
          "colorway": [
           "#636efa",
           "#EF553B",
           "#00cc96",
           "#ab63fa",
           "#FFA15A",
           "#19d3f3",
           "#FF6692",
           "#B6E880",
           "#FF97FF",
           "#FECB52"
          ],
          "font": {
           "color": "#2a3f5f"
          },
          "geo": {
           "bgcolor": "white",
           "lakecolor": "white",
           "landcolor": "#E5ECF6",
           "showlakes": true,
           "showland": true,
           "subunitcolor": "white"
          },
          "hoverlabel": {
           "align": "left"
          },
          "hovermode": "closest",
          "mapbox": {
           "style": "light"
          },
          "paper_bgcolor": "white",
          "plot_bgcolor": "#E5ECF6",
          "polar": {
           "angularaxis": {
            "gridcolor": "white",
            "linecolor": "white",
            "ticks": ""
           },
           "bgcolor": "#E5ECF6",
           "radialaxis": {
            "gridcolor": "white",
            "linecolor": "white",
            "ticks": ""
           }
          },
          "scene": {
           "xaxis": {
            "backgroundcolor": "#E5ECF6",
            "gridcolor": "white",
            "gridwidth": 2,
            "linecolor": "white",
            "showbackground": true,
            "ticks": "",
            "zerolinecolor": "white"
           },
           "yaxis": {
            "backgroundcolor": "#E5ECF6",
            "gridcolor": "white",
            "gridwidth": 2,
            "linecolor": "white",
            "showbackground": true,
            "ticks": "",
            "zerolinecolor": "white"
           },
           "zaxis": {
            "backgroundcolor": "#E5ECF6",
            "gridcolor": "white",
            "gridwidth": 2,
            "linecolor": "white",
            "showbackground": true,
            "ticks": "",
            "zerolinecolor": "white"
           }
          },
          "shapedefaults": {
           "line": {
            "color": "#2a3f5f"
           }
          },
          "ternary": {
           "aaxis": {
            "gridcolor": "white",
            "linecolor": "white",
            "ticks": ""
           },
           "baxis": {
            "gridcolor": "white",
            "linecolor": "white",
            "ticks": ""
           },
           "bgcolor": "#E5ECF6",
           "caxis": {
            "gridcolor": "white",
            "linecolor": "white",
            "ticks": ""
           }
          },
          "title": {
           "x": 0.05
          },
          "xaxis": {
           "automargin": true,
           "gridcolor": "white",
           "linecolor": "white",
           "ticks": "",
           "title": {
            "standoff": 15
           },
           "zerolinecolor": "white",
           "zerolinewidth": 2
          },
          "yaxis": {
           "automargin": true,
           "gridcolor": "white",
           "linecolor": "white",
           "ticks": "",
           "title": {
            "standoff": 15
           },
           "zerolinecolor": "white",
           "zerolinewidth": 2
          }
         }
        },
        "title": {
         "text": "Participación por tipo de institución"
        },
        "xaxis": {
         "anchor": "y",
         "categoryorder": "total descending",
         "domain": [
          0,
          1
         ],
         "title": {
          "text": "Institución"
         }
        },
        "yaxis": {
         "anchor": "x",
         "domain": [
          0,
          1
         ],
         "title": {
          "text": "count"
         },
         "type": "log"
        }
       }
      }
     },
     "metadata": {},
     "output_type": "display_data"
    }
   ],
   "source": [
    "df['Institución'].fillna(\"Escuela privada\", inplace = True)\n",
    "df['Institución'] = df['Institución'].replace(['Escuela Privada'],'Escuela privada')\n",
    "\n",
    "fig = px.histogram(df, x=\"Institución\",\n",
    "                   title='Participación por tipo de institución',\n",
    "                   color_discrete_sequence=['darkred'],\n",
    "                   log_y=True, # represent bars with log scale\n",
    "                   text_auto= True\n",
    "                   ).update_xaxes(categoryorder='total descending')\n",
    "                   \n",
    "fig.show()"
   ]
  },
  {
   "cell_type": "markdown",
   "metadata": {},
   "source": [
    "### Situación actual"
   ]
  },
  {
   "cell_type": "code",
   "execution_count": 6,
   "metadata": {},
   "outputs": [
    {
     "data": {
      "application/vnd.plotly.v1+json": {
       "config": {
        "plotlyServerURL": "https://plot.ly"
       },
       "data": [
        {
         "alignmentgroup": "True",
         "bingroup": "x",
         "hovertemplate": "Situación actual=%{x}<br>count=%{y}<extra></extra>",
         "legendgroup": "",
         "marker": {
          "color": "darkred",
          "pattern": {
           "shape": ""
          }
         },
         "name": "",
         "offsetgroup": "",
         "orientation": "v",
         "showlegend": false,
         "texttemplate": "%{value}",
         "type": "histogram",
         "x": [
          "Ama de casa",
          "Ama de casa",
          "Ama de casa",
          "Ama de casa",
          "Desemplead@",
          "Desemplead@",
          "Desemplead@",
          "Desemplead@",
          "Desemplead@",
          "Desemplead@",
          "Desemplead@",
          "Trabajo y emprendo",
          "Emprendo",
          "Emprendo",
          "Emprendo",
          "Emprendo",
          "Emprendo",
          "Emprendo",
          "Emprendo",
          "Emprendo",
          "Emprendo",
          "Emprendo",
          "Emprendo",
          "Emprendo",
          "Emprendo",
          "Emprendo",
          "Emprendo",
          "Emprendo",
          "Emprendo",
          "Emprendo",
          "Emprendo",
          "Emprendo",
          "Emprendo",
          "Emprendo",
          "Emprendo",
          "Emprendo",
          "Emprendo",
          "Emprendo",
          "Emprendo",
          "Emprendo",
          "Emprendo",
          "Emprendo",
          "Emprendo",
          "Emprendo",
          "Emprendo",
          "Emprendo",
          "Emprendo",
          "Emprendo",
          "Emprendo",
          "Emprendo",
          "Emprendo",
          "Emprendo",
          "Emprendo",
          "Emprendo",
          "Emprendo",
          "Emprendo",
          "Emprendo",
          "Emprendo",
          "Emprendo",
          "Emprendo",
          "Emprendo",
          "Emprendo",
          "Emprendo",
          "Emprendo",
          "Emprendo y estudio",
          "Estudio",
          "Estudio",
          "Estudio",
          "Estudio",
          "Estudio",
          "Estudio",
          "Estudio",
          "Estudio",
          "Estudio",
          "Estudio",
          "Estudio",
          "Estudio",
          "Estudio",
          "Estudio",
          "Estudio",
          "Estudio",
          "Estudio",
          "Estudio",
          "Estudio",
          "Estudio",
          "Estudio",
          "Estudio",
          "Estudio",
          "Estudio",
          "Estudio",
          "Estudio",
          "Estudio",
          "Estudio",
          "Estudio",
          "Estudio",
          "Estudio",
          "Estudio",
          "Estudio",
          "Estudio",
          "Estudio",
          "Estudio",
          "Estudio",
          "Estudio",
          "Estudio",
          "Estudio",
          "Estudio",
          "Estudio",
          "Estudio",
          "Estudio",
          "Estudio",
          "Estudio",
          "Estudio",
          "Estudio",
          "Estudio",
          "Estudio",
          "Estudio",
          "Estudio",
          "Estudio",
          "Estudio",
          "Estudio",
          "Estudio",
          "Estudio",
          "Estudio",
          "Estudio",
          "Estudio",
          "Estudio",
          "Estudio",
          "Estudio",
          "Estudio",
          "Estudio",
          "Estudio",
          "Estudio",
          "Estudio",
          "Estudio",
          "Estudio",
          "Estudio",
          "Estudio",
          "Estudio",
          "Estudio",
          "Estudio",
          "Estudio",
          "Estudio",
          "Estudio",
          "Estudio",
          "Estudio",
          "Estudio",
          "Estudio",
          "Estudio",
          "Estudio",
          "Estudio",
          "Estudio",
          "Estudio",
          "Estudio",
          "Estudio",
          "Estudio",
          "Estudio",
          "Estudio",
          "Estudio",
          "Estudio",
          "Estudio",
          "Estudio",
          "Estudio",
          "Estudio",
          "Estudio",
          "Estudio",
          "Estudio",
          "Estudio",
          "Trabajo, emprendo y estudio",
          "Emprendo y estudio",
          "Emprendo y estudio",
          "Emprendo y estudio",
          "Emprendo y estudio",
          "Trabajo y estudio",
          "Trabajo y estudio",
          "Trabajo y estudio",
          "Trabajo y estudio",
          "Trabajo y estudio",
          "Trabajo y estudio",
          "Trabajo y estudio",
          "Trabajo y estudio",
          "Trabajo y estudio",
          "Trabajo y estudio",
          "Trabajo y estudio",
          "Trabajo y estudio",
          "Trabajo y estudio",
          "Trabajo y estudio",
          "Trabajo y estudio",
          "Trabajo y estudio",
          "Trabajo y estudio",
          "Trabajo y estudio",
          "Trabajo y estudio",
          "Trabajo y estudio",
          "Trabajo y estudio",
          "Trabajo y estudio",
          "Trabajo y estudio",
          "Trabajo y estudio",
          "Trabajo y estudio",
          "Trabajo y estudio",
          "Trabajo y estudio",
          "Trabajo y estudio",
          "Trabajo y estudio",
          "Trabajo y estudio",
          "Trabajo y estudio",
          "Trabajo y estudio",
          "Trabajo y estudio",
          "Trabajo y estudio",
          "Trabajo y estudio",
          "Trabajo y estudio",
          "Trabajo y estudio",
          "Trabajo y estudio",
          "Trabajo y estudio",
          "Trabajo y estudio",
          "Trabajo y estudio",
          "Trabajo y estudio",
          "Trabajo y estudio",
          "Trabajo y estudio",
          "Trabajo y estudio",
          "Trabajo y estudio",
          "Trabajo y estudio",
          "Trabajo y estudio",
          "Trabajo y estudio",
          "Trabajo y estudio",
          "Trabajo y estudio",
          "Trabajo y estudio",
          "Trabajo y estudio",
          "Trabajo y estudio",
          "Trabajo y estudio",
          "Trabajo y estudio",
          "Trabajo y estudio",
          "Trabajo y estudio",
          "Trabajo y estudio",
          "Trabajo y estudio",
          "Trabajo y estudio",
          "Trabajo y estudio",
          "Trabajo y estudio",
          "Trabajo y estudio",
          "Trabajo y estudio",
          "Trabajo y estudio",
          "Trabajo y estudio",
          "Trabajo y estudio",
          "Trabajo y estudio",
          "Trabajo y estudio",
          "Trabajo y estudio",
          "Trabajo y estudio",
          "Trabajo y estudio",
          "Trabajo y estudio",
          "Trabajo y estudio",
          "Trabajo y estudio",
          "Trabajo y estudio",
          "Trabajo y estudio",
          "Trabajo y estudio",
          "Trabajo y estudio",
          "Trabajo y estudio",
          "Trabajo y estudio",
          "Trabajo y estudio",
          "Trabajo y estudio",
          "Trabajo y estudio",
          "Trabajo y estudio",
          "Trabajo y estudio",
          "Trabajo y estudio",
          "Trabajo y estudio",
          "Trabajo y estudio",
          "Trabajo y estudio",
          "Trabajo y estudio",
          "Trabajo y estudio",
          "Trabajo y estudio",
          "Trabajo y estudio",
          "Trabajo y estudio",
          "Trabajo y estudio",
          "Trabajo y estudio",
          "Trabajo y estudio",
          "Trabajo y estudio",
          "Trabajo y estudio",
          "Trabajo y estudio",
          "Trabajo y estudio",
          "Trabajo y estudio",
          "Trabajo, emprendo y estudio",
          "Trabajo, emprendo y estudio",
          "Trabajo, emprendo y estudio",
          "Servicio Social",
          "Trabajo",
          "Trabajo",
          "Trabajo",
          "Trabajo",
          "Trabajo",
          "Trabajo",
          "Trabajo",
          "Trabajo",
          "Trabajo",
          "Trabajo",
          "Trabajo",
          "Trabajo",
          "Trabajo",
          "Trabajo",
          "Trabajo",
          "Trabajo",
          "Trabajo",
          "Trabajo",
          "Trabajo",
          "Trabajo",
          "Trabajo",
          "Trabajo",
          "Trabajo",
          "Trabajo",
          "Trabajo",
          "Trabajo",
          "Trabajo",
          "Trabajo",
          "Trabajo",
          "Trabajo",
          "Trabajo",
          "Trabajo",
          "Trabajo",
          "Trabajo",
          "Trabajo",
          "Trabajo",
          "Trabajo",
          "Trabajo",
          "Trabajo",
          "Trabajo",
          "Trabajo",
          "Trabajo",
          "Trabajo",
          "Trabajo",
          "Trabajo",
          "Trabajo",
          "Trabajo",
          "Trabajo",
          "Trabajo",
          "Trabajo",
          "Trabajo",
          "Trabajo",
          "Trabajo",
          "Trabajo",
          "Trabajo",
          "Trabajo",
          "Trabajo",
          "Trabajo",
          "Trabajo",
          "Trabajo",
          "Trabajo",
          "Trabajo",
          "Trabajo",
          "Trabajo",
          "Trabajo",
          "Trabajo",
          "Trabajo",
          "Trabajo",
          "Trabajo",
          "Trabajo",
          "Trabajo",
          "Trabajo",
          "Trabajo",
          "Trabajo",
          "Trabajo",
          "Trabajo",
          "Trabajo",
          "Trabajo",
          "Trabajo",
          "Trabajo",
          "Trabajo",
          "Trabajo",
          "Trabajo",
          "Trabajo",
          "Trabajo",
          "Trabajo",
          "Trabajo",
          "Trabajo",
          "Trabajo",
          "Trabajo",
          "Trabajo",
          "Trabajo",
          "Trabajo",
          "Trabajo",
          "Trabajo",
          "Trabajo",
          "Trabajo",
          "Trabajo",
          "Trabajo",
          "Trabajo",
          "Trabajo",
          "Trabajo",
          "Trabajo",
          "Trabajo",
          "Trabajo",
          "Trabajo",
          "Trabajo",
          "Trabajo",
          "Trabajo",
          "Trabajo",
          "Trabajo",
          "Trabajo",
          "Trabajo",
          "Trabajo",
          "Trabajo",
          "Trabajo",
          "Trabajo",
          "Trabajo",
          "Trabajo",
          "Trabajo",
          "Trabajo",
          "Trabajo",
          "Trabajo",
          "Trabajo",
          "Trabajo",
          "Trabajo",
          "Trabajo",
          "Trabajo",
          "Trabajo",
          "Trabajo",
          "Trabajo",
          "Trabajo",
          "Trabajo",
          "Trabajo",
          "Trabajo",
          "Trabajo",
          "Trabajo",
          "Trabajo",
          "Trabajo",
          "Trabajo",
          "Trabajo",
          "Trabajo",
          "Trabajo",
          "Trabajo",
          "Trabajo",
          "Trabajo y emprendo",
          "Estudio",
          "Estudio"
         ],
         "xaxis": "x",
         "yaxis": "y"
        }
       ],
       "layout": {
        "barmode": "relative",
        "legend": {
         "tracegroupgap": 0
        },
        "template": {
         "data": {
          "bar": [
           {
            "error_x": {
             "color": "#2a3f5f"
            },
            "error_y": {
             "color": "#2a3f5f"
            },
            "marker": {
             "line": {
              "color": "#E5ECF6",
              "width": 0.5
             },
             "pattern": {
              "fillmode": "overlay",
              "size": 10,
              "solidity": 0.2
             }
            },
            "type": "bar"
           }
          ],
          "barpolar": [
           {
            "marker": {
             "line": {
              "color": "#E5ECF6",
              "width": 0.5
             },
             "pattern": {
              "fillmode": "overlay",
              "size": 10,
              "solidity": 0.2
             }
            },
            "type": "barpolar"
           }
          ],
          "carpet": [
           {
            "aaxis": {
             "endlinecolor": "#2a3f5f",
             "gridcolor": "white",
             "linecolor": "white",
             "minorgridcolor": "white",
             "startlinecolor": "#2a3f5f"
            },
            "baxis": {
             "endlinecolor": "#2a3f5f",
             "gridcolor": "white",
             "linecolor": "white",
             "minorgridcolor": "white",
             "startlinecolor": "#2a3f5f"
            },
            "type": "carpet"
           }
          ],
          "choropleth": [
           {
            "colorbar": {
             "outlinewidth": 0,
             "ticks": ""
            },
            "type": "choropleth"
           }
          ],
          "contour": [
           {
            "colorbar": {
             "outlinewidth": 0,
             "ticks": ""
            },
            "colorscale": [
             [
              0,
              "#0d0887"
             ],
             [
              0.1111111111111111,
              "#46039f"
             ],
             [
              0.2222222222222222,
              "#7201a8"
             ],
             [
              0.3333333333333333,
              "#9c179e"
             ],
             [
              0.4444444444444444,
              "#bd3786"
             ],
             [
              0.5555555555555556,
              "#d8576b"
             ],
             [
              0.6666666666666666,
              "#ed7953"
             ],
             [
              0.7777777777777778,
              "#fb9f3a"
             ],
             [
              0.8888888888888888,
              "#fdca26"
             ],
             [
              1,
              "#f0f921"
             ]
            ],
            "type": "contour"
           }
          ],
          "contourcarpet": [
           {
            "colorbar": {
             "outlinewidth": 0,
             "ticks": ""
            },
            "type": "contourcarpet"
           }
          ],
          "heatmap": [
           {
            "colorbar": {
             "outlinewidth": 0,
             "ticks": ""
            },
            "colorscale": [
             [
              0,
              "#0d0887"
             ],
             [
              0.1111111111111111,
              "#46039f"
             ],
             [
              0.2222222222222222,
              "#7201a8"
             ],
             [
              0.3333333333333333,
              "#9c179e"
             ],
             [
              0.4444444444444444,
              "#bd3786"
             ],
             [
              0.5555555555555556,
              "#d8576b"
             ],
             [
              0.6666666666666666,
              "#ed7953"
             ],
             [
              0.7777777777777778,
              "#fb9f3a"
             ],
             [
              0.8888888888888888,
              "#fdca26"
             ],
             [
              1,
              "#f0f921"
             ]
            ],
            "type": "heatmap"
           }
          ],
          "heatmapgl": [
           {
            "colorbar": {
             "outlinewidth": 0,
             "ticks": ""
            },
            "colorscale": [
             [
              0,
              "#0d0887"
             ],
             [
              0.1111111111111111,
              "#46039f"
             ],
             [
              0.2222222222222222,
              "#7201a8"
             ],
             [
              0.3333333333333333,
              "#9c179e"
             ],
             [
              0.4444444444444444,
              "#bd3786"
             ],
             [
              0.5555555555555556,
              "#d8576b"
             ],
             [
              0.6666666666666666,
              "#ed7953"
             ],
             [
              0.7777777777777778,
              "#fb9f3a"
             ],
             [
              0.8888888888888888,
              "#fdca26"
             ],
             [
              1,
              "#f0f921"
             ]
            ],
            "type": "heatmapgl"
           }
          ],
          "histogram": [
           {
            "marker": {
             "pattern": {
              "fillmode": "overlay",
              "size": 10,
              "solidity": 0.2
             }
            },
            "type": "histogram"
           }
          ],
          "histogram2d": [
           {
            "colorbar": {
             "outlinewidth": 0,
             "ticks": ""
            },
            "colorscale": [
             [
              0,
              "#0d0887"
             ],
             [
              0.1111111111111111,
              "#46039f"
             ],
             [
              0.2222222222222222,
              "#7201a8"
             ],
             [
              0.3333333333333333,
              "#9c179e"
             ],
             [
              0.4444444444444444,
              "#bd3786"
             ],
             [
              0.5555555555555556,
              "#d8576b"
             ],
             [
              0.6666666666666666,
              "#ed7953"
             ],
             [
              0.7777777777777778,
              "#fb9f3a"
             ],
             [
              0.8888888888888888,
              "#fdca26"
             ],
             [
              1,
              "#f0f921"
             ]
            ],
            "type": "histogram2d"
           }
          ],
          "histogram2dcontour": [
           {
            "colorbar": {
             "outlinewidth": 0,
             "ticks": ""
            },
            "colorscale": [
             [
              0,
              "#0d0887"
             ],
             [
              0.1111111111111111,
              "#46039f"
             ],
             [
              0.2222222222222222,
              "#7201a8"
             ],
             [
              0.3333333333333333,
              "#9c179e"
             ],
             [
              0.4444444444444444,
              "#bd3786"
             ],
             [
              0.5555555555555556,
              "#d8576b"
             ],
             [
              0.6666666666666666,
              "#ed7953"
             ],
             [
              0.7777777777777778,
              "#fb9f3a"
             ],
             [
              0.8888888888888888,
              "#fdca26"
             ],
             [
              1,
              "#f0f921"
             ]
            ],
            "type": "histogram2dcontour"
           }
          ],
          "mesh3d": [
           {
            "colorbar": {
             "outlinewidth": 0,
             "ticks": ""
            },
            "type": "mesh3d"
           }
          ],
          "parcoords": [
           {
            "line": {
             "colorbar": {
              "outlinewidth": 0,
              "ticks": ""
             }
            },
            "type": "parcoords"
           }
          ],
          "pie": [
           {
            "automargin": true,
            "type": "pie"
           }
          ],
          "scatter": [
           {
            "marker": {
             "colorbar": {
              "outlinewidth": 0,
              "ticks": ""
             }
            },
            "type": "scatter"
           }
          ],
          "scatter3d": [
           {
            "line": {
             "colorbar": {
              "outlinewidth": 0,
              "ticks": ""
             }
            },
            "marker": {
             "colorbar": {
              "outlinewidth": 0,
              "ticks": ""
             }
            },
            "type": "scatter3d"
           }
          ],
          "scattercarpet": [
           {
            "marker": {
             "colorbar": {
              "outlinewidth": 0,
              "ticks": ""
             }
            },
            "type": "scattercarpet"
           }
          ],
          "scattergeo": [
           {
            "marker": {
             "colorbar": {
              "outlinewidth": 0,
              "ticks": ""
             }
            },
            "type": "scattergeo"
           }
          ],
          "scattergl": [
           {
            "marker": {
             "colorbar": {
              "outlinewidth": 0,
              "ticks": ""
             }
            },
            "type": "scattergl"
           }
          ],
          "scattermapbox": [
           {
            "marker": {
             "colorbar": {
              "outlinewidth": 0,
              "ticks": ""
             }
            },
            "type": "scattermapbox"
           }
          ],
          "scatterpolar": [
           {
            "marker": {
             "colorbar": {
              "outlinewidth": 0,
              "ticks": ""
             }
            },
            "type": "scatterpolar"
           }
          ],
          "scatterpolargl": [
           {
            "marker": {
             "colorbar": {
              "outlinewidth": 0,
              "ticks": ""
             }
            },
            "type": "scatterpolargl"
           }
          ],
          "scatterternary": [
           {
            "marker": {
             "colorbar": {
              "outlinewidth": 0,
              "ticks": ""
             }
            },
            "type": "scatterternary"
           }
          ],
          "surface": [
           {
            "colorbar": {
             "outlinewidth": 0,
             "ticks": ""
            },
            "colorscale": [
             [
              0,
              "#0d0887"
             ],
             [
              0.1111111111111111,
              "#46039f"
             ],
             [
              0.2222222222222222,
              "#7201a8"
             ],
             [
              0.3333333333333333,
              "#9c179e"
             ],
             [
              0.4444444444444444,
              "#bd3786"
             ],
             [
              0.5555555555555556,
              "#d8576b"
             ],
             [
              0.6666666666666666,
              "#ed7953"
             ],
             [
              0.7777777777777778,
              "#fb9f3a"
             ],
             [
              0.8888888888888888,
              "#fdca26"
             ],
             [
              1,
              "#f0f921"
             ]
            ],
            "type": "surface"
           }
          ],
          "table": [
           {
            "cells": {
             "fill": {
              "color": "#EBF0F8"
             },
             "line": {
              "color": "white"
             }
            },
            "header": {
             "fill": {
              "color": "#C8D4E3"
             },
             "line": {
              "color": "white"
             }
            },
            "type": "table"
           }
          ]
         },
         "layout": {
          "annotationdefaults": {
           "arrowcolor": "#2a3f5f",
           "arrowhead": 0,
           "arrowwidth": 1
          },
          "autotypenumbers": "strict",
          "coloraxis": {
           "colorbar": {
            "outlinewidth": 0,
            "ticks": ""
           }
          },
          "colorscale": {
           "diverging": [
            [
             0,
             "#8e0152"
            ],
            [
             0.1,
             "#c51b7d"
            ],
            [
             0.2,
             "#de77ae"
            ],
            [
             0.3,
             "#f1b6da"
            ],
            [
             0.4,
             "#fde0ef"
            ],
            [
             0.5,
             "#f7f7f7"
            ],
            [
             0.6,
             "#e6f5d0"
            ],
            [
             0.7,
             "#b8e186"
            ],
            [
             0.8,
             "#7fbc41"
            ],
            [
             0.9,
             "#4d9221"
            ],
            [
             1,
             "#276419"
            ]
           ],
           "sequential": [
            [
             0,
             "#0d0887"
            ],
            [
             0.1111111111111111,
             "#46039f"
            ],
            [
             0.2222222222222222,
             "#7201a8"
            ],
            [
             0.3333333333333333,
             "#9c179e"
            ],
            [
             0.4444444444444444,
             "#bd3786"
            ],
            [
             0.5555555555555556,
             "#d8576b"
            ],
            [
             0.6666666666666666,
             "#ed7953"
            ],
            [
             0.7777777777777778,
             "#fb9f3a"
            ],
            [
             0.8888888888888888,
             "#fdca26"
            ],
            [
             1,
             "#f0f921"
            ]
           ],
           "sequentialminus": [
            [
             0,
             "#0d0887"
            ],
            [
             0.1111111111111111,
             "#46039f"
            ],
            [
             0.2222222222222222,
             "#7201a8"
            ],
            [
             0.3333333333333333,
             "#9c179e"
            ],
            [
             0.4444444444444444,
             "#bd3786"
            ],
            [
             0.5555555555555556,
             "#d8576b"
            ],
            [
             0.6666666666666666,
             "#ed7953"
            ],
            [
             0.7777777777777778,
             "#fb9f3a"
            ],
            [
             0.8888888888888888,
             "#fdca26"
            ],
            [
             1,
             "#f0f921"
            ]
           ]
          },
          "colorway": [
           "#636efa",
           "#EF553B",
           "#00cc96",
           "#ab63fa",
           "#FFA15A",
           "#19d3f3",
           "#FF6692",
           "#B6E880",
           "#FF97FF",
           "#FECB52"
          ],
          "font": {
           "color": "#2a3f5f"
          },
          "geo": {
           "bgcolor": "white",
           "lakecolor": "white",
           "landcolor": "#E5ECF6",
           "showlakes": true,
           "showland": true,
           "subunitcolor": "white"
          },
          "hoverlabel": {
           "align": "left"
          },
          "hovermode": "closest",
          "mapbox": {
           "style": "light"
          },
          "paper_bgcolor": "white",
          "plot_bgcolor": "#E5ECF6",
          "polar": {
           "angularaxis": {
            "gridcolor": "white",
            "linecolor": "white",
            "ticks": ""
           },
           "bgcolor": "#E5ECF6",
           "radialaxis": {
            "gridcolor": "white",
            "linecolor": "white",
            "ticks": ""
           }
          },
          "scene": {
           "xaxis": {
            "backgroundcolor": "#E5ECF6",
            "gridcolor": "white",
            "gridwidth": 2,
            "linecolor": "white",
            "showbackground": true,
            "ticks": "",
            "zerolinecolor": "white"
           },
           "yaxis": {
            "backgroundcolor": "#E5ECF6",
            "gridcolor": "white",
            "gridwidth": 2,
            "linecolor": "white",
            "showbackground": true,
            "ticks": "",
            "zerolinecolor": "white"
           },
           "zaxis": {
            "backgroundcolor": "#E5ECF6",
            "gridcolor": "white",
            "gridwidth": 2,
            "linecolor": "white",
            "showbackground": true,
            "ticks": "",
            "zerolinecolor": "white"
           }
          },
          "shapedefaults": {
           "line": {
            "color": "#2a3f5f"
           }
          },
          "ternary": {
           "aaxis": {
            "gridcolor": "white",
            "linecolor": "white",
            "ticks": ""
           },
           "baxis": {
            "gridcolor": "white",
            "linecolor": "white",
            "ticks": ""
           },
           "bgcolor": "#E5ECF6",
           "caxis": {
            "gridcolor": "white",
            "linecolor": "white",
            "ticks": ""
           }
          },
          "title": {
           "x": 0.05
          },
          "xaxis": {
           "automargin": true,
           "gridcolor": "white",
           "linecolor": "white",
           "ticks": "",
           "title": {
            "standoff": 15
           },
           "zerolinecolor": "white",
           "zerolinewidth": 2
          },
          "yaxis": {
           "automargin": true,
           "gridcolor": "white",
           "linecolor": "white",
           "ticks": "",
           "title": {
            "standoff": 15
           },
           "zerolinecolor": "white",
           "zerolinewidth": 2
          }
         }
        },
        "title": {
         "text": "Participación por situación actual"
        },
        "xaxis": {
         "anchor": "y",
         "categoryorder": "total descending",
         "domain": [
          0,
          1
         ],
         "title": {
          "text": "Situación actual"
         }
        },
        "yaxis": {
         "anchor": "x",
         "domain": [
          0,
          1
         ],
         "title": {
          "text": "count"
         },
         "type": "log"
        }
       }
      }
     },
     "metadata": {},
     "output_type": "display_data"
    }
   ],
   "source": [
    "df['Situación actual'].fillna(\"Estudio\", inplace = True)\n",
    "df['Situación actual'] = df['Situación actual'].replace(['Desempleada ', 'Desempleado', 'Desempleada', 'Busco trabajo '],'Desemplead@')\n",
    "df['Situación actual'] = df['Situación actual'].replace(['Estudio, Trabajo y emprendo',\n",
    "                                                            'Estudio, trabajo y emprendo ',\n",
    "                                                            'Estudio, trabajo y emprendo'],'Trabajo, emprendo y estudio')\n",
    "df['Situación actual'] = df['Situación actual'].replace(['Estudio y emprendo ',\n",
    "                                                            'Emprendo y estudio ',\n",
    "                                                            'Estudio y emprendo'],'Emprendo y estudio')\n",
    "df['Situación actual'] = df['Situación actual'].replace(['Emprendiendo y trabajando ', 'Trabajo y emprendo '],'Trabajo y emprendo')\n",
    "df['Situación actual'] = df['Situación actual'].replace(['Ama de casa ',\n",
    "                                                            'Ama de casa con intención de emprendimiento posterior '],'Ama de casa')\n",
    "df['Situación actual'] = df['Situación actual'].replace(['Estudio y Trabajo'],'Trabajo y estudio')\n",
    "\n",
    "fig = px.histogram(df, x=\"Situación actual\",\n",
    "                   title='Participación por situación actual',\n",
    "                   color_discrete_sequence=['darkred'],\n",
    "                   log_y=True, # represent bars with log scale\n",
    "                   text_auto= True\n",
    "                   ).update_xaxes(categoryorder='total descending')\n",
    "                   \n",
    "fig.show()"
   ]
  },
  {
   "cell_type": "markdown",
   "metadata": {},
   "source": [
    "### Lugar seguro para expresar libertad"
   ]
  },
  {
   "cell_type": "code",
   "execution_count": 7,
   "metadata": {},
   "outputs": [
    {
     "data": {
      "application/vnd.plotly.v1+json": {
       "config": {
        "plotlyServerURL": "https://plot.ly"
       },
       "data": [
        {
         "alignmentgroup": "True",
         "bingroup": "x",
         "hovertemplate": "Lugar expresar=%{x}<br>count=%{y}<extra></extra>",
         "legendgroup": "",
         "marker": {
          "color": "darkred",
          "pattern": {
           "shape": ""
          }
         },
         "name": "",
         "offsetgroup": "",
         "orientation": "v",
         "showlegend": false,
         "texttemplate": "%{value}",
         "type": "histogram",
         "x": [
          "Amigos",
          "Escuela",
          "Redes sociales",
          "Amigos",
          "No me siento en libertad",
          "Redes sociales",
          "En cualquier situación",
          "Casa",
          "Casa",
          "Casa",
          "Redes sociales",
          "En cualquier situación",
          "Bar",
          "Casa",
          "Redes sociales",
          "Casa",
          "No me siento en libertad",
          "Escuela",
          "Escuela",
          "En cualquier situación",
          "Sector social",
          "Casa",
          "Redes sociales",
          "Redes sociales",
          "En cualquier situación",
          "Redes sociales",
          "Redes sociales",
          "Casa",
          "Escuela",
          "Redes sociales",
          "Escuela",
          "Redes sociales",
          "Movimiento ambiental",
          "No me siento en libertad",
          "Redes sociales",
          "Redes sociales",
          "Bar",
          "Bar",
          "Amigos",
          "Escuela",
          "Escuela",
          "Redes sociales",
          "En cualquier situación",
          "Redes sociales",
          "Casa",
          "Redes sociales",
          "Escuela",
          "Trabajo",
          "Casa",
          "Redes sociales",
          "Redes sociales",
          "Casa",
          "Casa",
          "En cualquier situación",
          "Redes sociales",
          "Redes sociales",
          "Escuela",
          "Casa",
          "Redes sociales",
          "Redes sociales",
          "Casa",
          "Amigos",
          "Casa",
          "En cualquier situación",
          "Casa",
          "Casa",
          "Casa",
          "No me siento en libertad",
          "Redes sociales",
          "Casa",
          "Casa",
          "Casa",
          "Escuela",
          "Escuela",
          "Escuela",
          "Casa",
          "Escuela",
          "Casa",
          "Amigos",
          "Escuela",
          "Escuela",
          "Casa",
          "Escuela",
          "Escuela",
          "No me siento en libertad",
          "Redes sociales",
          "Casa",
          "Amigos",
          "Escuela",
          "Casa",
          "Escuela",
          "Redes sociales",
          "Escuela",
          "No me siento en libertad",
          "Redes sociales",
          "Casa",
          "Casa",
          "Casa",
          "Redes sociales",
          "Escuela",
          "Casa",
          "Casa",
          "En cualquier situación",
          "Casa",
          "Bar",
          "No me siento en libertad",
          "Redes sociales",
          "No me siento en libertad",
          "Casa",
          "Escuela",
          "Escuela",
          "Casa",
          "Casa",
          "Escuela",
          "Escuela",
          "Casa",
          "Casa",
          "Escuela",
          "Casa",
          "Escuela",
          "Amigos",
          "Escuela",
          "Redes sociales",
          "Trabajo",
          "Escuela",
          "Escuela",
          "Redes sociales",
          "Casa",
          "Escuela",
          "Casa",
          "Casa",
          "Redes sociales",
          "Escuela",
          "Escuela",
          "Redes sociales",
          "Escuela",
          "Casa",
          "Escuela",
          "Casa",
          "En cualquier situación",
          "Casa",
          "Casa",
          "Escuela",
          "Casa",
          "Escuela",
          "En cualquier situación",
          "Redes sociales",
          "Casa",
          "Redes sociales",
          "Escuela",
          "Casa",
          "Escuela",
          "Casa",
          "Casa",
          "Escuela",
          "Escuela",
          "Casa",
          "Casa",
          "Escuela",
          "Escuela",
          "Escuela",
          "Escuela",
          "Casa",
          "Casa",
          "En cualquier situación",
          "Escuela",
          "Redes sociales",
          "En cualquier situación",
          "En cualquier situación",
          "Redes sociales",
          "Escuela y casa ",
          "Casa",
          "Casa",
          "Escuela",
          "En cualquier situación",
          "Casa",
          "Redes sociales",
          "No me siento en libertad",
          "Casa",
          "Escuela",
          "Escuela",
          "No me siento en libertad",
          "Escuela",
          "Casa",
          "Escuela",
          "Redes sociales",
          "Casa",
          "Casa",
          "Casa",
          "Escuela",
          "Casa",
          "Casa",
          "En cualquier situación",
          "Redes sociales",
          "Casa",
          "Casa",
          "Casa",
          "Casa",
          "Casa",
          "Escuela",
          "Casa",
          "No me siento en libertad",
          "No me siento en libertad",
          "Escuela",
          "En cualquier situación",
          "Escuela",
          "Casa",
          "Escuela",
          "Bar",
          "Escuela",
          "Redes sociales",
          "No me siento en libertad",
          "Casa",
          "No me siento en libertad",
          "Casa",
          "Casa",
          "Casa",
          "Casa",
          "Casa",
          "Amigos",
          "Redes sociales",
          "Escuela",
          "Redes sociales",
          "Escuela",
          "En cualquier situación",
          "Casa",
          "Casa",
          "No me siento en libertad",
          "Casa",
          "Escuela",
          "Casa",
          "Redes sociales",
          "Redes sociales",
          "Casa",
          "Casa",
          "Redes sociales",
          "Casa",
          "Casa",
          "Casa",
          "Casa",
          "Escuela",
          "Casa",
          "Redes sociales",
          "En cualquier situación",
          "Casa",
          "Casa",
          "Casa",
          "No me siento en libertad",
          "Casa",
          "Redes sociales",
          "Amigos",
          "No me siento en libertad",
          "Escuela",
          "Casa",
          "Redes sociales",
          "Trabajo y amigos ",
          "En cualquier situación",
          "Casa",
          "Casa",
          "Escuela",
          "Escuela",
          "Redes sociales",
          "Escuela",
          "Casa",
          "Escuela",
          "Trabajo",
          "No me siento en libertad",
          "Casa",
          "Casa",
          "En cualquier situación",
          "En cualquier situación",
          "En cualquier situación",
          "Escuela",
          "Redes sociales",
          "Redes sociales",
          "Casa",
          "En cualquier situación",
          "Casa",
          "En cualquier situación",
          "Casa",
          "No me siento en libertad",
          "Casa",
          "Bar",
          "Terapia",
          "Amigos",
          "Casa",
          "Casa",
          "Redes sociales",
          "Casa",
          "Casa",
          "Casa",
          "Casa",
          "Casa",
          "Redes sociales",
          "Casa",
          "Redes sociales",
          "Bar",
          "Casa",
          "Casa",
          "Bar",
          "Casa",
          "Redes sociales",
          "En cualquier situación",
          "Redes sociales",
          "Escuela",
          "Casa",
          "Casa",
          "Trabajo",
          "Casa",
          "Casa",
          "Casa",
          "Casa",
          "Trabajo",
          "Casa",
          "Escuela",
          "En cualquier situación",
          "Casa",
          "Amigos",
          "No me siento en libertad",
          "Casa",
          "Casa",
          "Casa",
          "Casa",
          "Casa",
          "Casa",
          "Redes sociales",
          "Escuela",
          "Casa",
          "Casa",
          "Redes sociales",
          "Trabajo",
          "Redes sociales",
          "No me siento en libertad",
          "Casa",
          "Casa",
          "Casa",
          "Casa",
          "Casa",
          "Casa",
          "En cualquier situación",
          "Casa",
          "En cualquier situación",
          "Casa",
          "Redes sociales",
          "Redes sociales",
          "Redes sociales",
          "En cualquier situación",
          "Bar",
          "Casa",
          "Casa",
          "Casa",
          "Redes sociales",
          "Redes sociales",
          "No me siento en libertad",
          "Casa",
          "Casa",
          "Casa",
          "Escuela",
          "Casa",
          "Casa",
          "Casa",
          "Redes sociales",
          "Escuela",
          "Redes sociales",
          "Trabajo",
          "Redes sociales",
          "No me siento en libertad",
          "En cualquier situación",
          "Casa",
          "En cualquier situación",
          "Casa",
          "Casa",
          "En cualquier situación",
          "Casa",
          "Bar",
          "Casa",
          "Casa",
          "Bar",
          "Redes sociales",
          "Redes sociales",
          "Casa",
          "Casa",
          "Casa",
          "Redes sociales",
          "No me siento en libertad",
          "Casa",
          "No me siento en libertad",
          "Trabajo",
          "Casa",
          "En cualquier situación",
          "Redes sociales",
          "Escuela",
          "Redes sociales",
          "En cualquier situación",
          "Casa",
          "No me siento en libertad",
          "Casa",
          "Trabajo",
          "Casa",
          "Casa",
          "Casa",
          "Casa",
          "Casa",
          "Redes sociales",
          "Casa",
          "Redes sociales",
          "Casa",
          "Casa",
          "Casa",
          "En cualquier situación",
          "En cualquier situación",
          "Casa",
          "Redes sociales",
          "Redes sociales",
          "Redes sociales",
          "Redes sociales",
          "Casa",
          "Casa",
          "Casa",
          "Casa",
          "Redes sociales",
          "Casa",
          "Redes sociales",
          "Redes sociales",
          "Redes sociales",
          "En cualquier situación",
          "Amigos",
          "Amigos"
         ],
         "xaxis": "x",
         "yaxis": "y"
        }
       ],
       "layout": {
        "barmode": "relative",
        "legend": {
         "tracegroupgap": 0
        },
        "template": {
         "data": {
          "bar": [
           {
            "error_x": {
             "color": "#2a3f5f"
            },
            "error_y": {
             "color": "#2a3f5f"
            },
            "marker": {
             "line": {
              "color": "#E5ECF6",
              "width": 0.5
             },
             "pattern": {
              "fillmode": "overlay",
              "size": 10,
              "solidity": 0.2
             }
            },
            "type": "bar"
           }
          ],
          "barpolar": [
           {
            "marker": {
             "line": {
              "color": "#E5ECF6",
              "width": 0.5
             },
             "pattern": {
              "fillmode": "overlay",
              "size": 10,
              "solidity": 0.2
             }
            },
            "type": "barpolar"
           }
          ],
          "carpet": [
           {
            "aaxis": {
             "endlinecolor": "#2a3f5f",
             "gridcolor": "white",
             "linecolor": "white",
             "minorgridcolor": "white",
             "startlinecolor": "#2a3f5f"
            },
            "baxis": {
             "endlinecolor": "#2a3f5f",
             "gridcolor": "white",
             "linecolor": "white",
             "minorgridcolor": "white",
             "startlinecolor": "#2a3f5f"
            },
            "type": "carpet"
           }
          ],
          "choropleth": [
           {
            "colorbar": {
             "outlinewidth": 0,
             "ticks": ""
            },
            "type": "choropleth"
           }
          ],
          "contour": [
           {
            "colorbar": {
             "outlinewidth": 0,
             "ticks": ""
            },
            "colorscale": [
             [
              0,
              "#0d0887"
             ],
             [
              0.1111111111111111,
              "#46039f"
             ],
             [
              0.2222222222222222,
              "#7201a8"
             ],
             [
              0.3333333333333333,
              "#9c179e"
             ],
             [
              0.4444444444444444,
              "#bd3786"
             ],
             [
              0.5555555555555556,
              "#d8576b"
             ],
             [
              0.6666666666666666,
              "#ed7953"
             ],
             [
              0.7777777777777778,
              "#fb9f3a"
             ],
             [
              0.8888888888888888,
              "#fdca26"
             ],
             [
              1,
              "#f0f921"
             ]
            ],
            "type": "contour"
           }
          ],
          "contourcarpet": [
           {
            "colorbar": {
             "outlinewidth": 0,
             "ticks": ""
            },
            "type": "contourcarpet"
           }
          ],
          "heatmap": [
           {
            "colorbar": {
             "outlinewidth": 0,
             "ticks": ""
            },
            "colorscale": [
             [
              0,
              "#0d0887"
             ],
             [
              0.1111111111111111,
              "#46039f"
             ],
             [
              0.2222222222222222,
              "#7201a8"
             ],
             [
              0.3333333333333333,
              "#9c179e"
             ],
             [
              0.4444444444444444,
              "#bd3786"
             ],
             [
              0.5555555555555556,
              "#d8576b"
             ],
             [
              0.6666666666666666,
              "#ed7953"
             ],
             [
              0.7777777777777778,
              "#fb9f3a"
             ],
             [
              0.8888888888888888,
              "#fdca26"
             ],
             [
              1,
              "#f0f921"
             ]
            ],
            "type": "heatmap"
           }
          ],
          "heatmapgl": [
           {
            "colorbar": {
             "outlinewidth": 0,
             "ticks": ""
            },
            "colorscale": [
             [
              0,
              "#0d0887"
             ],
             [
              0.1111111111111111,
              "#46039f"
             ],
             [
              0.2222222222222222,
              "#7201a8"
             ],
             [
              0.3333333333333333,
              "#9c179e"
             ],
             [
              0.4444444444444444,
              "#bd3786"
             ],
             [
              0.5555555555555556,
              "#d8576b"
             ],
             [
              0.6666666666666666,
              "#ed7953"
             ],
             [
              0.7777777777777778,
              "#fb9f3a"
             ],
             [
              0.8888888888888888,
              "#fdca26"
             ],
             [
              1,
              "#f0f921"
             ]
            ],
            "type": "heatmapgl"
           }
          ],
          "histogram": [
           {
            "marker": {
             "pattern": {
              "fillmode": "overlay",
              "size": 10,
              "solidity": 0.2
             }
            },
            "type": "histogram"
           }
          ],
          "histogram2d": [
           {
            "colorbar": {
             "outlinewidth": 0,
             "ticks": ""
            },
            "colorscale": [
             [
              0,
              "#0d0887"
             ],
             [
              0.1111111111111111,
              "#46039f"
             ],
             [
              0.2222222222222222,
              "#7201a8"
             ],
             [
              0.3333333333333333,
              "#9c179e"
             ],
             [
              0.4444444444444444,
              "#bd3786"
             ],
             [
              0.5555555555555556,
              "#d8576b"
             ],
             [
              0.6666666666666666,
              "#ed7953"
             ],
             [
              0.7777777777777778,
              "#fb9f3a"
             ],
             [
              0.8888888888888888,
              "#fdca26"
             ],
             [
              1,
              "#f0f921"
             ]
            ],
            "type": "histogram2d"
           }
          ],
          "histogram2dcontour": [
           {
            "colorbar": {
             "outlinewidth": 0,
             "ticks": ""
            },
            "colorscale": [
             [
              0,
              "#0d0887"
             ],
             [
              0.1111111111111111,
              "#46039f"
             ],
             [
              0.2222222222222222,
              "#7201a8"
             ],
             [
              0.3333333333333333,
              "#9c179e"
             ],
             [
              0.4444444444444444,
              "#bd3786"
             ],
             [
              0.5555555555555556,
              "#d8576b"
             ],
             [
              0.6666666666666666,
              "#ed7953"
             ],
             [
              0.7777777777777778,
              "#fb9f3a"
             ],
             [
              0.8888888888888888,
              "#fdca26"
             ],
             [
              1,
              "#f0f921"
             ]
            ],
            "type": "histogram2dcontour"
           }
          ],
          "mesh3d": [
           {
            "colorbar": {
             "outlinewidth": 0,
             "ticks": ""
            },
            "type": "mesh3d"
           }
          ],
          "parcoords": [
           {
            "line": {
             "colorbar": {
              "outlinewidth": 0,
              "ticks": ""
             }
            },
            "type": "parcoords"
           }
          ],
          "pie": [
           {
            "automargin": true,
            "type": "pie"
           }
          ],
          "scatter": [
           {
            "marker": {
             "colorbar": {
              "outlinewidth": 0,
              "ticks": ""
             }
            },
            "type": "scatter"
           }
          ],
          "scatter3d": [
           {
            "line": {
             "colorbar": {
              "outlinewidth": 0,
              "ticks": ""
             }
            },
            "marker": {
             "colorbar": {
              "outlinewidth": 0,
              "ticks": ""
             }
            },
            "type": "scatter3d"
           }
          ],
          "scattercarpet": [
           {
            "marker": {
             "colorbar": {
              "outlinewidth": 0,
              "ticks": ""
             }
            },
            "type": "scattercarpet"
           }
          ],
          "scattergeo": [
           {
            "marker": {
             "colorbar": {
              "outlinewidth": 0,
              "ticks": ""
             }
            },
            "type": "scattergeo"
           }
          ],
          "scattergl": [
           {
            "marker": {
             "colorbar": {
              "outlinewidth": 0,
              "ticks": ""
             }
            },
            "type": "scattergl"
           }
          ],
          "scattermapbox": [
           {
            "marker": {
             "colorbar": {
              "outlinewidth": 0,
              "ticks": ""
             }
            },
            "type": "scattermapbox"
           }
          ],
          "scatterpolar": [
           {
            "marker": {
             "colorbar": {
              "outlinewidth": 0,
              "ticks": ""
             }
            },
            "type": "scatterpolar"
           }
          ],
          "scatterpolargl": [
           {
            "marker": {
             "colorbar": {
              "outlinewidth": 0,
              "ticks": ""
             }
            },
            "type": "scatterpolargl"
           }
          ],
          "scatterternary": [
           {
            "marker": {
             "colorbar": {
              "outlinewidth": 0,
              "ticks": ""
             }
            },
            "type": "scatterternary"
           }
          ],
          "surface": [
           {
            "colorbar": {
             "outlinewidth": 0,
             "ticks": ""
            },
            "colorscale": [
             [
              0,
              "#0d0887"
             ],
             [
              0.1111111111111111,
              "#46039f"
             ],
             [
              0.2222222222222222,
              "#7201a8"
             ],
             [
              0.3333333333333333,
              "#9c179e"
             ],
             [
              0.4444444444444444,
              "#bd3786"
             ],
             [
              0.5555555555555556,
              "#d8576b"
             ],
             [
              0.6666666666666666,
              "#ed7953"
             ],
             [
              0.7777777777777778,
              "#fb9f3a"
             ],
             [
              0.8888888888888888,
              "#fdca26"
             ],
             [
              1,
              "#f0f921"
             ]
            ],
            "type": "surface"
           }
          ],
          "table": [
           {
            "cells": {
             "fill": {
              "color": "#EBF0F8"
             },
             "line": {
              "color": "white"
             }
            },
            "header": {
             "fill": {
              "color": "#C8D4E3"
             },
             "line": {
              "color": "white"
             }
            },
            "type": "table"
           }
          ]
         },
         "layout": {
          "annotationdefaults": {
           "arrowcolor": "#2a3f5f",
           "arrowhead": 0,
           "arrowwidth": 1
          },
          "autotypenumbers": "strict",
          "coloraxis": {
           "colorbar": {
            "outlinewidth": 0,
            "ticks": ""
           }
          },
          "colorscale": {
           "diverging": [
            [
             0,
             "#8e0152"
            ],
            [
             0.1,
             "#c51b7d"
            ],
            [
             0.2,
             "#de77ae"
            ],
            [
             0.3,
             "#f1b6da"
            ],
            [
             0.4,
             "#fde0ef"
            ],
            [
             0.5,
             "#f7f7f7"
            ],
            [
             0.6,
             "#e6f5d0"
            ],
            [
             0.7,
             "#b8e186"
            ],
            [
             0.8,
             "#7fbc41"
            ],
            [
             0.9,
             "#4d9221"
            ],
            [
             1,
             "#276419"
            ]
           ],
           "sequential": [
            [
             0,
             "#0d0887"
            ],
            [
             0.1111111111111111,
             "#46039f"
            ],
            [
             0.2222222222222222,
             "#7201a8"
            ],
            [
             0.3333333333333333,
             "#9c179e"
            ],
            [
             0.4444444444444444,
             "#bd3786"
            ],
            [
             0.5555555555555556,
             "#d8576b"
            ],
            [
             0.6666666666666666,
             "#ed7953"
            ],
            [
             0.7777777777777778,
             "#fb9f3a"
            ],
            [
             0.8888888888888888,
             "#fdca26"
            ],
            [
             1,
             "#f0f921"
            ]
           ],
           "sequentialminus": [
            [
             0,
             "#0d0887"
            ],
            [
             0.1111111111111111,
             "#46039f"
            ],
            [
             0.2222222222222222,
             "#7201a8"
            ],
            [
             0.3333333333333333,
             "#9c179e"
            ],
            [
             0.4444444444444444,
             "#bd3786"
            ],
            [
             0.5555555555555556,
             "#d8576b"
            ],
            [
             0.6666666666666666,
             "#ed7953"
            ],
            [
             0.7777777777777778,
             "#fb9f3a"
            ],
            [
             0.8888888888888888,
             "#fdca26"
            ],
            [
             1,
             "#f0f921"
            ]
           ]
          },
          "colorway": [
           "#636efa",
           "#EF553B",
           "#00cc96",
           "#ab63fa",
           "#FFA15A",
           "#19d3f3",
           "#FF6692",
           "#B6E880",
           "#FF97FF",
           "#FECB52"
          ],
          "font": {
           "color": "#2a3f5f"
          },
          "geo": {
           "bgcolor": "white",
           "lakecolor": "white",
           "landcolor": "#E5ECF6",
           "showlakes": true,
           "showland": true,
           "subunitcolor": "white"
          },
          "hoverlabel": {
           "align": "left"
          },
          "hovermode": "closest",
          "mapbox": {
           "style": "light"
          },
          "paper_bgcolor": "white",
          "plot_bgcolor": "#E5ECF6",
          "polar": {
           "angularaxis": {
            "gridcolor": "white",
            "linecolor": "white",
            "ticks": ""
           },
           "bgcolor": "#E5ECF6",
           "radialaxis": {
            "gridcolor": "white",
            "linecolor": "white",
            "ticks": ""
           }
          },
          "scene": {
           "xaxis": {
            "backgroundcolor": "#E5ECF6",
            "gridcolor": "white",
            "gridwidth": 2,
            "linecolor": "white",
            "showbackground": true,
            "ticks": "",
            "zerolinecolor": "white"
           },
           "yaxis": {
            "backgroundcolor": "#E5ECF6",
            "gridcolor": "white",
            "gridwidth": 2,
            "linecolor": "white",
            "showbackground": true,
            "ticks": "",
            "zerolinecolor": "white"
           },
           "zaxis": {
            "backgroundcolor": "#E5ECF6",
            "gridcolor": "white",
            "gridwidth": 2,
            "linecolor": "white",
            "showbackground": true,
            "ticks": "",
            "zerolinecolor": "white"
           }
          },
          "shapedefaults": {
           "line": {
            "color": "#2a3f5f"
           }
          },
          "ternary": {
           "aaxis": {
            "gridcolor": "white",
            "linecolor": "white",
            "ticks": ""
           },
           "baxis": {
            "gridcolor": "white",
            "linecolor": "white",
            "ticks": ""
           },
           "bgcolor": "#E5ECF6",
           "caxis": {
            "gridcolor": "white",
            "linecolor": "white",
            "ticks": ""
           }
          },
          "title": {
           "x": 0.05
          },
          "xaxis": {
           "automargin": true,
           "gridcolor": "white",
           "linecolor": "white",
           "ticks": "",
           "title": {
            "standoff": 15
           },
           "zerolinecolor": "white",
           "zerolinewidth": 2
          },
          "yaxis": {
           "automargin": true,
           "gridcolor": "white",
           "linecolor": "white",
           "ticks": "",
           "title": {
            "standoff": 15
           },
           "zerolinecolor": "white",
           "zerolinewidth": 2
          }
         }
        },
        "title": {
         "text": "Lugar donde encuentran libertad para expresar"
        },
        "xaxis": {
         "anchor": "y",
         "categoryorder": "total descending",
         "domain": [
          0,
          1
         ],
         "title": {
          "text": "Lugar expresar"
         }
        },
        "yaxis": {
         "anchor": "x",
         "domain": [
          0,
          1
         ],
         "title": {
          "text": "count"
         },
         "type": "log"
        }
       }
      }
     },
     "metadata": {},
     "output_type": "display_data"
    }
   ],
   "source": [
    "df['Lugar expresar'].fillna(\"Amigos\", inplace = True)\n",
    "df['Lugar expresar'] = df['Lugar expresar'].replace(['En todos lados', \n",
    "                                                        'Cualquier ámbito ',\n",
    "                                                        'En todos lados ', \n",
    "                                                        'En todos lados menos en el trabajo',\n",
    "                                                        'En todos lados menos redes sociales ',\n",
    "                                                        'Algunas veces me siento cómoda con lo que digo ',\n",
    "                                                        'En diferentes ámbitos '],'En cualquier situación')\n",
    "df['Lugar expresar'] = df['Lugar expresar'].replace(['Escuela.'],'Escuela')\n",
    "df['Lugar expresar'] = df['Lugar expresar'].replace(['Amigos '],'Amigos')\n",
    "df['Lugar expresar'] = df['Lugar expresar'].replace(['Trabajo '],'Trabajo')\n",
    "df['Lugar expresar'] = df['Lugar expresar'].replace(['Depende '],'No me siento en libertad')\n",
    "df['Lugar expresar'] = df['Lugar expresar'].replace(['Emprender'],'Trabajo')\n",
    "df['Lugar expresar'] = df['Lugar expresar'].replace(['Blog personal', 'Redes Sociales'],'Redes sociales')\n",
    "\n",
    "fig = px.histogram(df, x=\"Lugar expresar\",\n",
    "                   title='Lugar donde encuentran libertad para expresar',\n",
    "                   color_discrete_sequence=['darkred'],\n",
    "                   log_y=True, # represent bars with log scale\n",
    "                   text_auto= True\n",
    "                   ).update_xaxes(categoryorder='total descending')\n",
    "                   \n",
    "fig.show()"
   ]
  },
  {
   "cell_type": "markdown",
   "metadata": {},
   "source": [
    "### Temas que quieren aprender"
   ]
  },
  {
   "cell_type": "code",
   "execution_count": 8,
   "metadata": {},
   "outputs": [
    {
     "data": {
      "application/vnd.plotly.v1+json": {
       "config": {
        "plotlyServerURL": "https://plot.ly"
       },
       "data": [
        {
         "alignmentgroup": "True",
         "bingroup": "x",
         "hovertemplate": "Tema aprender=%{x}<br>count=%{y}<extra></extra>",
         "legendgroup": "",
         "marker": {
          "color": "darkred",
          "pattern": {
           "shape": ""
          }
         },
         "name": "",
         "offsetgroup": "",
         "orientation": "v",
         "showlegend": false,
         "texttemplate": "%{value}",
         "type": "histogram",
         "x": [
          "Iniciativas para el desarrollo económico para todas y todos, Emprendimiento",
          "Cómo aprender a dialogar y a exponer opiniones, Miedos y deseos  de hombres y mujeres en el campo laboral, Liderazgo, Como participar en el mundo laboral",
          "Iniciativas para el desarrollo económico para todas y todos, Cómo aprender a dialogar y a exponer opiniones, Responsabilidad social, Sostenibilidad, Liderazgo y acciones sociales, Emprendimiento, Liderazgo, Como participar en el mundo laboral",
          "Emprendimiento, Liderazgo",
          "Estrategias empresariales con perspectiva de género, Iniciativas para el desarrollo económico para todas y todos, Miedos y deseos  de hombres y mujeres en el campo laboral, Sostenibilidad, Emprendimiento, Como participar en el mundo laboral",
          "Iniciativas para el desarrollo económico para todas y todos, Miedos y deseos  de hombres y mujeres en el campo laboral, Responsabilidad social, Sostenibilidad, Liderazgo y acciones sociales, Emprendimiento, Liderazgo",
          "Iniciativas para el desarrollo económico para todas y todos",
          "Iniciativas para el desarrollo económico para todas y todos",
          "Liderazgo y acciones sociales",
          "Liderazgo y acciones sociales",
          "Iniciativas para el desarrollo económico para todas y todos, Cómo aprender a dialogar y a exponer opiniones, Miedos y deseos  de hombres y mujeres en el campo laboral, Emprendimiento, Liderazgo, Como participar en el mundo laboral",
          "Cómo aprender a dialogar y a exponer opiniones, Responsabilidad social, Liderazgo, Como participar en el mundo laboral",
          "Agenda 2030, Responsabilidad social, Sostenibilidad",
          "Agenda 2030, Sostenibilidad, Liderazgo y acciones sociales",
          "Emprendimiento",
          "Emprendimiento",
          "Miedos y deseos  de hombres y mujeres en el campo laboral",
          "Miedos y deseos  de hombres y mujeres en el campo laboral, Responsabilidad social, Liderazgo y acciones sociales",
          "Agenda 2030, Emprendimiento, Como participar en el mundo laboral",
          "Agenda 2030, Iniciativas para el desarrollo económico para todas y todos, Responsabilidad social, Sostenibilidad, Liderazgo y acciones sociales, Emprendimiento, Como participar en el mundo laboral",
          "Agenda 2030, Liderazgo y acciones sociales",
          "Cómo aprender a dialogar y a exponer opiniones, Responsabilidad social, Liderazgo y acciones sociales, Emprendimiento",
          "Emprendimiento",
          "Emprendimiento, Liderazgo",
          "Emprendimiento, Liderazgo, Como participar en el mundo laboral",
          "Estrategias empresariales con perspectiva de género",
          "Estrategias empresariales con perspectiva de género",
          "Estrategias empresariales con perspectiva de género",
          "Estrategias empresariales con perspectiva de género",
          "Estrategias empresariales con perspectiva de género",
          "Estrategias empresariales con perspectiva de género, Agenda 2030, Emprendimiento, Liderazgo, Como participar en el mundo laboral",
          "Estrategias empresariales con perspectiva de género, Agenda 2030, Iniciativas para el desarrollo económico para todas y todos",
          "Estrategias empresariales con perspectiva de género, Agenda 2030, Iniciativas para el desarrollo económico para todas y todos, Cómo aprender a dialogar y a exponer opiniones, Miedos y deseos  de hombres y mujeres en el campo laboral, Responsabilidad social, Sostenibilidad, Liderazgo y acciones sociales, Emprendimiento, Liderazgo, Como participar en el mundo laboral",
          "Estrategias empresariales con perspectiva de género, Agenda 2030, Iniciativas para el desarrollo económico para todas y todos, Cómo aprender a dialogar y a exponer opiniones, Miedos y deseos  de hombres y mujeres en el campo laboral, Responsabilidad social, Sostenibilidad, Liderazgo y acciones sociales, Emprendimiento, Liderazgo, Como participar en el mundo laboral",
          "Estrategias empresariales con perspectiva de género, Agenda 2030, Iniciativas para el desarrollo económico para todas y todos, Cómo aprender a dialogar y a exponer opiniones, Miedos y deseos  de hombres y mujeres en el campo laboral, Responsabilidad social, Sostenibilidad, Liderazgo y acciones sociales, Emprendimiento, Liderazgo, Como participar en el mundo laboral",
          "Estrategias empresariales con perspectiva de género, Agenda 2030, Iniciativas para el desarrollo económico para todas y todos, Liderazgo y acciones sociales, Emprendimiento, Liderazgo",
          "Estrategias empresariales con perspectiva de género, Agenda 2030, Liderazgo y acciones sociales, Emprendimiento, Inteligencia emocional en los negocios",
          "Estrategias empresariales con perspectiva de género, Agenda 2030, Sostenibilidad, Liderazgo y acciones sociales",
          "Estrategias empresariales con perspectiva de género, Cómo aprender a dialogar y a exponer opiniones, Miedos y deseos  de hombres y mujeres en el campo laboral, Sostenibilidad, Liderazgo y acciones sociales, Emprendimiento, Liderazgo, Como participar en el mundo laboral",
          "Estrategias empresariales con perspectiva de género, Cómo aprender a dialogar y a exponer opiniones, Responsabilidad social, Liderazgo y acciones sociales, Emprendimiento, Como participar en el mundo laboral",
          "Estrategias empresariales con perspectiva de género, Emprendimiento",
          "Estrategias empresariales con perspectiva de género, Iniciativas para el desarrollo económico para todas y todos, Cómo aprender a dialogar y a exponer opiniones, Miedos y deseos  de hombres y mujeres en el campo laboral, Emprendimiento, Como participar en el mundo laboral",
          "Estrategias empresariales con perspectiva de género, Iniciativas para el desarrollo económico para todas y todos, Cómo aprender a dialogar y a exponer opiniones, Miedos y deseos  de hombres y mujeres en el campo laboral, Responsabilidad social, Sostenibilidad, Liderazgo y acciones sociales, Emprendimiento, Liderazgo",
          "Estrategias empresariales con perspectiva de género, Iniciativas para el desarrollo económico para todas y todos, Emprendimiento, Como participar en el mundo laboral",
          "Estrategias empresariales con perspectiva de género, Iniciativas para el desarrollo económico para todas y todos, Responsabilidad social, Sostenibilidad, Liderazgo y acciones sociales, Emprendimiento, Liderazgo",
          "Estrategias empresariales con perspectiva de género, Liderazgo y acciones sociales, Emprendimiento",
          "Estrategias empresariales con perspectiva de género, Liderazgo y acciones sociales, Emprendimiento",
          "Estrategias empresariales con perspectiva de género, Responsabilidad social, Liderazgo y acciones sociales",
          "Estrategias empresariales con perspectiva de género, Responsabilidad social, Liderazgo y acciones sociales, Emprendimiento",
          "Iniciativas para el desarrollo económico para todas y todos",
          "Iniciativas para el desarrollo económico para todas y todos",
          "Iniciativas para el desarrollo económico para todas y todos",
          "Iniciativas para el desarrollo económico para todas y todos, Cómo aprender a dialogar y a exponer opiniones, Liderazgo y acciones sociales, Emprendimiento, Liderazgo",
          "Iniciativas para el desarrollo económico para todas y todos, Emprendimiento, Liderazgo",
          "Iniciativas para el desarrollo económico para todas y todos, Miedos y deseos  de hombres y mujeres en el campo laboral, Liderazgo",
          "Iniciativas para el desarrollo económico para todas y todos, Miedos y deseos  de hombres y mujeres en el campo laboral, Sostenibilidad, Liderazgo y acciones sociales, Emprendimiento, Liderazgo, Como participar en el mundo laboral",
          "Iniciativas para el desarrollo económico para todas y todos, Responsabilidad social, Sostenibilidad, Emprendimiento, Liderazgo",
          "Iniciativas para el desarrollo económico para todas y todos, Responsabilidad social, Sostenibilidad, Emprendimiento, Liderazgo, Como participar en el mundo laboral",
          "Iniciativas para el desarrollo económico para todas y todos, Sostenibilidad, Emprendimiento, Liderazgo",
          "Liderazgo",
          "Liderazgo y acciones sociales, Emprendimiento, Liderazgo",
          "Miedos y deseos  de hombres y mujeres en el campo laboral, Liderazgo y acciones sociales, Emprendimiento",
          "Responsabilidad social",
          "Responsabilidad social, Liderazgo y acciones sociales, Liderazgo, Como participar en el mundo laboral",
          "Iniciativas para el desarrollo económico para todas y todos, Liderazgo y acciones sociales, Emprendimiento",
          "Agenda 2030, Miedos y deseos  de hombres y mujeres en el campo laboral, Liderazgo y acciones sociales",
          "Cómo aprender a dialogar y a exponer opiniones",
          "Cómo aprender a dialogar y a exponer opiniones, Liderazgo y acciones sociales, Emprendimiento, Como participar en el mundo laboral",
          "Cómo aprender a dialogar y a exponer opiniones, Miedos y deseos  de hombres y mujeres en el campo laboral",
          "Cómo aprender a dialogar y a exponer opiniones, Miedos y deseos  de hombres y mujeres en el campo laboral, Emprendimiento, Liderazgo",
          "Cómo aprender a dialogar y a exponer opiniones, Miedos y deseos  de hombres y mujeres en el campo laboral, Emprendimiento, Liderazgo",
          "Cómo aprender a dialogar y a exponer opiniones, Miedos y deseos  de hombres y mujeres en el campo laboral, Sostenibilidad",
          "Cómo aprender a dialogar y a exponer opiniones, Responsabilidad social, Liderazgo y acciones sociales, Liderazgo",
          "Como participar en el mundo laboral",
          "Estrategias empresariales con perspectiva de género",
          "Estrategias empresariales con perspectiva de género, Agenda 2030, Cómo aprender a dialogar y a exponer opiniones, Responsabilidad social, Sostenibilidad, Emprendimiento, Como participar en el mundo laboral",
          "Estrategias empresariales con perspectiva de género, Cómo aprender a dialogar y a exponer opiniones, Miedos y deseos  de hombres y mujeres en el campo laboral",
          "Estrategias empresariales con perspectiva de género, Como participar en el mundo laboral",
          "Estrategias empresariales con perspectiva de género, Iniciativas para el desarrollo económico para todas y todos, Cómo aprender a dialogar y a exponer opiniones, Responsabilidad social, Liderazgo, Como participar en el mundo laboral",
          "Estrategias empresariales con perspectiva de género, Iniciativas para el desarrollo económico para todas y todos, Liderazgo y acciones sociales, Emprendimiento, Liderazgo",
          "Estrategias empresariales con perspectiva de género, Iniciativas para el desarrollo económico para todas y todos, Sostenibilidad, Como participar en el mundo laboral",
          "Estrategias empresariales con perspectiva de género, Miedos y deseos  de hombres y mujeres en el campo laboral, Responsabilidad social, Sostenibilidad, Liderazgo y acciones sociales, Como participar en el mundo laboral",
          "Estrategias empresariales con perspectiva de género, Responsabilidad social, Sostenibilidad",
          "Iniciativas para el desarrollo económico para todas y todos, Cómo aprender a dialogar y a exponer opiniones, Emprendimiento, Como participar en el mundo laboral",
          "Iniciativas para el desarrollo económico para todas y todos, Cómo aprender a dialogar y a exponer opiniones, Miedos y deseos  de hombres y mujeres en el campo laboral, Los antes mencionados.",
          "Iniciativas para el desarrollo económico para todas y todos, Cómo aprender a dialogar y a exponer opiniones, Miedos y deseos  de hombres y mujeres en el campo laboral, Sostenibilidad",
          "Iniciativas para el desarrollo económico para todas y todos, Cómo aprender a dialogar y a exponer opiniones, Responsabilidad social, Liderazgo y acciones sociales, Emprendimiento",
          "Iniciativas para el desarrollo económico para todas y todos, Miedos y deseos  de hombres y mujeres en el campo laboral",
          "Iniciativas para el desarrollo económico para todas y todos, Miedos y deseos  de hombres y mujeres en el campo laboral, Como participar en el mundo laboral",
          "Iniciativas para el desarrollo económico para todas y todos, Responsabilidad social, Emprendimiento",
          "Iniciativas para el desarrollo económico para todas y todos, Sostenibilidad, Emprendimiento, Liderazgo, Como participar en el mundo laboral",
          "Liderazgo y acciones sociales, Emprendimiento, Liderazgo",
          "Miedos y deseos  de hombres y mujeres en el campo laboral",
          "Sostenibilidad",
          "Agenda 2030",
          "Agenda 2030, Cómo aprender a dialogar y a exponer opiniones, Responsabilidad social, Liderazgo y acciones sociales, Liderazgo",
          "Agenda 2030, Iniciativas para el desarrollo económico para todas y todos, Cómo aprender a dialogar y a exponer opiniones, Miedos y deseos  de hombres y mujeres en el campo laboral, Liderazgo y acciones sociales, Emprendimiento, Liderazgo",
          "Agenda 2030, Iniciativas para el desarrollo económico para todas y todos, Cómo aprender a dialogar y a exponer opiniones, Miedos y deseos  de hombres y mujeres en el campo laboral, Sostenibilidad, Liderazgo y acciones sociales, Liderazgo, Como participar en el mundo laboral",
          "Agenda 2030, Miedos y deseos  de hombres y mujeres en el campo laboral, Responsabilidad social, Liderazgo y acciones sociales, Liderazgo, Como participar en el mundo laboral",
          "Agenda 2030, Sostenibilidad, Emprendimiento",
          "Cómo aprender a dialogar y a exponer opiniones",
          "Cómo aprender a dialogar y a exponer opiniones",
          "Cómo aprender a dialogar y a exponer opiniones, Liderazgo y acciones sociales, Emprendimiento, Liderazgo, Como participar en el mundo laboral",
          "Cómo aprender a dialogar y a exponer opiniones, Liderazgo y acciones sociales, Liderazgo",
          "Cómo aprender a dialogar y a exponer opiniones, Miedos y deseos  de hombres y mujeres en el campo laboral, Emprendimiento",
          "Cómo aprender a dialogar y a exponer opiniones, Miedos y deseos  de hombres y mujeres en el campo laboral, Responsabilidad social, Liderazgo",
          "Cómo aprender a dialogar y a exponer opiniones, Miedos y deseos  de hombres y mujeres en el campo laboral, Responsabilidad social, Liderazgo y acciones sociales, Emprendimiento, Liderazgo",
          "Cómo aprender a dialogar y a exponer opiniones, Miedos y deseos  de hombres y mujeres en el campo laboral, Responsabilidad social, Liderazgo y acciones sociales, Emprendimiento, Liderazgo, Como participar en el mundo laboral",
          "Cómo aprender a dialogar y a exponer opiniones, Miedos y deseos  de hombres y mujeres en el campo laboral, Responsabilidad social, Sostenibilidad, Liderazgo y acciones sociales, Como participar en el mundo laboral",
          "Cómo aprender a dialogar y a exponer opiniones, Responsabilidad social, Emprendimiento",
          "Cómo aprender a dialogar y a exponer opiniones, Responsabilidad social, Emprendimiento, Liderazgo, Como participar en el mundo laboral",
          "Cómo aprender a dialogar y a exponer opiniones, Responsabilidad social, Liderazgo y acciones sociales",
          "Cómo aprender a dialogar y a exponer opiniones, Responsabilidad social, Liderazgo y acciones sociales",
          "Cómo aprender a dialogar y a exponer opiniones, Responsabilidad social, Liderazgo y acciones sociales, Como participar en el mundo laboral",
          "Cómo aprender a dialogar y a exponer opiniones, Responsabilidad social, Sostenibilidad, Emprendimiento, Como participar en el mundo laboral",
          "Como participar en el mundo laboral",
          "Emprendimiento",
          "Emprendimiento",
          "Emprendimiento, Liderazgo, Como participar en el mundo laboral",
          "Estrategias empresariales con perspectiva de género",
          "Estrategias empresariales con perspectiva de género, Agenda 2030, Cómo aprender a dialogar y a exponer opiniones, Miedos y deseos  de hombres y mujeres en el campo laboral, Sostenibilidad, Como participar en el mundo laboral, Cómo funcionan los impuestos hahah",
          "Estrategias empresariales con perspectiva de género, Agenda 2030, Iniciativas para el desarrollo económico para todas y todos, Cómo aprender a dialogar y a exponer opiniones, Miedos y deseos  de hombres y mujeres en el campo laboral, Responsabilidad social, Sostenibilidad, Liderazgo y acciones sociales, Emprendimiento, Liderazgo",
          "Estrategias empresariales con perspectiva de género, Agenda 2030, Iniciativas para el desarrollo económico para todas y todos, Cómo aprender a dialogar y a exponer opiniones, Miedos y deseos  de hombres y mujeres en el campo laboral, Responsabilidad social, Sostenibilidad, Liderazgo y acciones sociales, Emprendimiento, Liderazgo, Como participar en el mundo laboral",
          "Estrategias empresariales con perspectiva de género, Agenda 2030, Iniciativas para el desarrollo económico para todas y todos, Cómo aprender a dialogar y a exponer opiniones, Miedos y deseos  de hombres y mujeres en el campo laboral, Responsabilidad social, Sostenibilidad, Liderazgo y acciones sociales, Emprendimiento, Liderazgo, Como participar en el mundo laboral",
          "Estrategias empresariales con perspectiva de género, Agenda 2030, Iniciativas para el desarrollo económico para todas y todos, Cómo aprender a dialogar y a exponer opiniones, Miedos y deseos  de hombres y mujeres en el campo laboral, Responsabilidad social, Sostenibilidad, Liderazgo y acciones sociales, Emprendimiento, Liderazgo, Como participar en el mundo laboral",
          "Estrategias empresariales con perspectiva de género, Agenda 2030, Iniciativas para el desarrollo económico para todas y todos, Cómo aprender a dialogar y a exponer opiniones, Miedos y deseos  de hombres y mujeres en el campo laboral, Responsabilidad social, Sostenibilidad, Liderazgo y acciones sociales, Emprendimiento, Liderazgo, Como participar en el mundo laboral",
          "Estrategias empresariales con perspectiva de género, Agenda 2030, Iniciativas para el desarrollo económico para todas y todos, Cómo aprender a dialogar y a exponer opiniones, Miedos y deseos  de hombres y mujeres en el campo laboral, Responsabilidad social, Sostenibilidad, Liderazgo y acciones sociales, Emprendimiento, Liderazgo, Como participar en el mundo laboral",
          "Estrategias empresariales con perspectiva de género, Agenda 2030, Iniciativas para el desarrollo económico para todas y todos, Cómo aprender a dialogar y a exponer opiniones, Responsabilidad social, Como participar en el mundo laboral",
          "Estrategias empresariales con perspectiva de género, Agenda 2030, Iniciativas para el desarrollo económico para todas y todos, Miedos y deseos  de hombres y mujeres en el campo laboral, Sostenibilidad, Emprendimiento",
          "Estrategias empresariales con perspectiva de género, Cómo aprender a dialogar y a exponer opiniones, Miedos y deseos  de hombres y mujeres en el campo laboral",
          "Estrategias empresariales con perspectiva de género, Cómo aprender a dialogar y a exponer opiniones, Miedos y deseos  de hombres y mujeres en el campo laboral, Liderazgo y acciones sociales, Emprendimiento, Liderazgo, Como participar en el mundo laboral",
          "Estrategias empresariales con perspectiva de género, Iniciativas para el desarrollo económico para todas y todos, Cómo aprender a dialogar y a exponer opiniones, Liderazgo y acciones sociales, Emprendimiento, Liderazgo, Como participar en el mundo laboral",
          "Estrategias empresariales con perspectiva de género, Iniciativas para el desarrollo económico para todas y todos, Cómo aprender a dialogar y a exponer opiniones, Miedos y deseos  de hombres y mujeres en el campo laboral, Responsabilidad social, Liderazgo y acciones sociales, Emprendimiento, Liderazgo",
          "Estrategias empresariales con perspectiva de género, Iniciativas para el desarrollo económico para todas y todos, Cómo aprender a dialogar y a exponer opiniones, Miedos y deseos  de hombres y mujeres en el campo laboral, Responsabilidad social, Sostenibilidad, Liderazgo y acciones sociales, Emprendimiento, Liderazgo, Como participar en el mundo laboral",
          "Estrategias empresariales con perspectiva de género, Iniciativas para el desarrollo económico para todas y todos, Cómo aprender a dialogar y a exponer opiniones, Responsabilidad social",
          "Estrategias empresariales con perspectiva de género, Iniciativas para el desarrollo económico para todas y todos, Miedos y deseos  de hombres y mujeres en el campo laboral, Emprendimiento, Como participar en el mundo laboral",
          "Estrategias empresariales con perspectiva de género, Iniciativas para el desarrollo económico para todas y todos, Miedos y deseos  de hombres y mujeres en el campo laboral, Responsabilidad social, Liderazgo y acciones sociales, Emprendimiento, Liderazgo, Como participar en el mundo laboral",
          "Estrategias empresariales con perspectiva de género, Iniciativas para el desarrollo económico para todas y todos, Miedos y deseos  de hombres y mujeres en el campo laboral, Sostenibilidad, Liderazgo",
          "Estrategias empresariales con perspectiva de género, Iniciativas para el desarrollo económico para todas y todos, Responsabilidad social, Sostenibilidad, Liderazgo y acciones sociales, Emprendimiento, Liderazgo",
          "Estrategias empresariales con perspectiva de género, Liderazgo y acciones sociales, Emprendimiento, Como participar en el mundo laboral",
          "Estrategias empresariales con perspectiva de género, Miedos y deseos  de hombres y mujeres en el campo laboral, Responsabilidad social, Emprendimiento, Como participar en el mundo laboral",
          "Estrategias empresariales con perspectiva de género, Miedos y deseos  de hombres y mujeres en el campo laboral, Responsabilidad social, Liderazgo y acciones sociales, Emprendimiento",
          "Estrategias empresariales con perspectiva de género, Responsabilidad social, Emprendimiento, Liderazgo",
          "Estrategias empresariales con perspectiva de género, Sostenibilidad, Como participar en el mundo laboral",
          "Estrategias empresariales con perspectiva de género, Sostenibilidad, Emprendimiento, Liderazgo, Como participar en el mundo laboral",
          "Iniciativas para el desarrollo económico para todas y todos",
          "Iniciativas para el desarrollo económico para todas y todos",
          "Iniciativas para el desarrollo económico para todas y todos, Cómo aprender a dialogar y a exponer opiniones, Emprendimiento, Como participar en el mundo laboral",
          "Iniciativas para el desarrollo económico para todas y todos, Cómo aprender a dialogar y a exponer opiniones, Liderazgo y acciones sociales",
          "Iniciativas para el desarrollo económico para todas y todos, Cómo aprender a dialogar y a exponer opiniones, Miedos y deseos  de hombres y mujeres en el campo laboral, Responsabilidad social, Sostenibilidad, Liderazgo y acciones sociales, Emprendimiento, Liderazgo, Como participar en el mundo laboral",
          "Iniciativas para el desarrollo económico para todas y todos, Cómo aprender a dialogar y a exponer opiniones, Responsabilidad social, Liderazgo y acciones sociales, Emprendimiento, Liderazgo",
          "Iniciativas para el desarrollo económico para todas y todos, Cómo aprender a dialogar y a exponer opiniones, Sostenibilidad, Liderazgo y acciones sociales, Emprendimiento, Liderazgo",
          "Iniciativas para el desarrollo económico para todas y todos, Miedos y deseos  de hombres y mujeres en el campo laboral, Liderazgo y acciones sociales, Liderazgo, Como participar en el mundo laboral",
          "Iniciativas para el desarrollo económico para todas y todos, Responsabilidad social, Sostenibilidad, Emprendimiento",
          "Iniciativas para el desarrollo económico para todas y todos, Responsabilidad social, Sostenibilidad, Emprendimiento, Liderazgo, Como participar en el mundo laboral",
          "Liderazgo y acciones sociales",
          "Liderazgo y acciones sociales, Emprendimiento, Como participar en el mundo laboral",
          "Miedos y deseos  de hombres y mujeres en el campo laboral",
          "Miedos y deseos  de hombres y mujeres en el campo laboral, Emprendimiento, Liderazgo",
          "Miedos y deseos  de hombres y mujeres en el campo laboral, Responsabilidad social, Como participar en el mundo laboral",
          "Miedos y deseos  de hombres y mujeres en el campo laboral, Responsabilidad social, Sostenibilidad, Emprendimiento, Como participar en el mundo laboral",
          "Miedos y deseos  de hombres y mujeres en el campo laboral, Responsabilidad social, Sostenibilidad, Liderazgo y acciones sociales, Emprendimiento, Liderazgo",
          "Responsabilidad social",
          "Responsabilidad social, Como participar en el mundo laboral",
          "Responsabilidad social, Liderazgo y acciones sociales, Emprendimiento",
          "Responsabilidad social, Sostenibilidad, Liderazgo y acciones sociales, Emprendimiento",
          "Sostenibilidad",
          "Estrategias empresariales con perspectiva de género, Agenda 2030, Iniciativas para el desarrollo económico para todas y todos, Cómo aprender a dialogar y a exponer opiniones, Miedos y deseos  de hombres y mujeres en el campo laboral, Responsabilidad social, Sostenibilidad, Liderazgo y acciones sociales, Emprendimiento, Liderazgo, Como participar en el mundo laboral",
          "Emprendimiento",
          "Sostenibilidad",
          "Estrategias empresariales con perspectiva de género, Iniciativas para el desarrollo económico para todas y todos, Cómo aprender a dialogar y a exponer opiniones, Miedos y deseos  de hombres y mujeres en el campo laboral, Responsabilidad social",
          "Agenda 2030, Iniciativas para el desarrollo económico para todas y todos, Cómo aprender a dialogar y a exponer opiniones, Liderazgo y acciones sociales, Emprendimiento, Como participar en el mundo laboral",
          "Agenda 2030, Cómo aprender a dialogar y a exponer opiniones, Como participar en el mundo laboral",
          "Agenda 2030, Iniciativas para el desarrollo económico para todas y todos, Responsabilidad social",
          "Agenda 2030, Iniciativas para el desarrollo económico para todas y todos, Responsabilidad social",
          "Agenda 2030, Responsabilidad social, Sostenibilidad",
          "Cómo aprender a dialogar y a exponer opiniones",
          "Cómo aprender a dialogar y a exponer opiniones",
          "Cómo aprender a dialogar y a exponer opiniones, Liderazgo y acciones sociales, Emprendimiento, Liderazgo",
          "Cómo aprender a dialogar y a exponer opiniones, Liderazgo y acciones sociales, Emprendimiento, Liderazgo",
          "Cómo aprender a dialogar y a exponer opiniones, Miedos y deseos  de hombres y mujeres en el campo laboral, Responsabilidad social, Sostenibilidad",
          "Emprendimiento, Liderazgo",
          "Estrategias empresariales con perspectiva de género, Agenda 2030, Cómo aprender a dialogar y a exponer opiniones, Miedos y deseos  de hombres y mujeres en el campo laboral, Responsabilidad social, Sostenibilidad, Liderazgo y acciones sociales, Emprendimiento",
          "Estrategias empresariales con perspectiva de género, Agenda 2030, Iniciativas para el desarrollo económico para todas y todos, Cómo aprender a dialogar y a exponer opiniones, Sostenibilidad, Liderazgo y acciones sociales, Emprendimiento",
          "Estrategias empresariales con perspectiva de género, Iniciativas para el desarrollo económico para todas y todos, Como participar en el mundo laboral",
          "Iniciativas para el desarrollo económico para todas y todos",
          "Iniciativas para el desarrollo económico para todas y todos",
          "Iniciativas para el desarrollo económico para todas y todos, Cómo aprender a dialogar y a exponer opiniones, Miedos y deseos  de hombres y mujeres en el campo laboral, Responsabilidad social, Sostenibilidad, Emprendimiento, Como participar en el mundo laboral",
          "Iniciativas para el desarrollo económico para todas y todos, Responsabilidad social, Sostenibilidad, Liderazgo y acciones sociales, Emprendimiento, Liderazgo, Como participar en el mundo laboral",
          "Iniciativas para el desarrollo económico para todas y todos, Responsabilidad social, Sostenibilidad, Liderazgo y acciones sociales, Emprendimiento, Liderazgo, Como participar en el mundo laboral",
          "Iniciativas para el desarrollo económico para todas y todos, Sostenibilidad, Liderazgo y acciones sociales, Emprendimiento, Liderazgo",
          "Liderazgo",
          "Liderazgo y acciones sociales, Emprendimiento, Liderazgo, Como participar en el mundo laboral",
          "Miedos y deseos  de hombres y mujeres en el campo laboral, Liderazgo y acciones sociales, Emprendimiento, Liderazgo",
          "Responsabilidad social",
          "Responsabilidad social, Sostenibilidad",
          "Responsabilidad social, Sostenibilidad, Emprendimiento, Liderazgo",
          "Responsabilidad social, Sostenibilidad, Liderazgo y acciones sociales",
          "Agenda 2030, Cómo aprender a dialogar y a exponer opiniones, Miedos y deseos  de hombres y mujeres en el campo laboral",
          "Agenda 2030, Cómo aprender a dialogar y a exponer opiniones, Responsabilidad social, Liderazgo, Como participar en el mundo laboral",
          "Agenda 2030, Iniciativas para el desarrollo económico para todas y todos, Responsabilidad social, Liderazgo y acciones sociales, Emprendimiento",
          "Agenda 2030, Iniciativas para el desarrollo económico para todas y todos, Sostenibilidad, Como participar en el mundo laboral",
          "Agenda 2030, Miedos y deseos  de hombres y mujeres en el campo laboral, Sostenibilidad, Liderazgo y acciones sociales, Emprendimiento, Liderazgo, Como participar en el mundo laboral",
          "Agenda 2030, Responsabilidad social, Sostenibilidad",
          "Agenda 2030, Responsabilidad social, Sostenibilidad, Liderazgo y acciones sociales, Emprendimiento",
          "Cómo aprender a dialogar y a exponer opiniones, Liderazgo y acciones sociales, Emprendimiento, Como participar en el mundo laboral",
          "Cómo aprender a dialogar y a exponer opiniones, Miedos y deseos  de hombres y mujeres en el campo laboral, Liderazgo y acciones sociales, Emprendimiento, Liderazgo, Como participar en el mundo laboral",
          "Cómo aprender a dialogar y a exponer opiniones, Miedos y deseos  de hombres y mujeres en el campo laboral, Responsabilidad social, Liderazgo y acciones sociales, Emprendimiento, Liderazgo",
          "Cómo aprender a dialogar y a exponer opiniones, Miedos y deseos  de hombres y mujeres en el campo laboral, Responsabilidad social, Sostenibilidad, Emprendimiento, Liderazgo, Como participar en el mundo laboral",
          "Cómo aprender a dialogar y a exponer opiniones, Responsabilidad social",
          "Estrategias empresariales con perspectiva de género",
          "Estrategias empresariales con perspectiva de género, Agenda 2030, Iniciativas para el desarrollo económico para todas y todos, Cómo aprender a dialogar y a exponer opiniones, Miedos y deseos  de hombres y mujeres en el campo laboral, Responsabilidad social, Sostenibilidad, Como participar en el mundo laboral",
          "Estrategias empresariales con perspectiva de género, Agenda 2030, Iniciativas para el desarrollo económico para todas y todos, Cómo aprender a dialogar y a exponer opiniones, Miedos y deseos  de hombres y mujeres en el campo laboral, Responsabilidad social, Sostenibilidad, Liderazgo y acciones sociales, Emprendimiento, Liderazgo, Como participar en el mundo laboral",
          "Estrategias empresariales con perspectiva de género, Agenda 2030, Iniciativas para el desarrollo económico para todas y todos, Cómo aprender a dialogar y a exponer opiniones, Miedos y deseos  de hombres y mujeres en el campo laboral, Responsabilidad social, Sostenibilidad, Liderazgo y acciones sociales, Emprendimiento, Liderazgo, Como participar en el mundo laboral",
          "Estrategias empresariales con perspectiva de género, Agenda 2030, Iniciativas para el desarrollo económico para todas y todos, Cómo aprender a dialogar y a exponer opiniones, Miedos y deseos  de hombres y mujeres en el campo laboral, Responsabilidad social, Sostenibilidad, Liderazgo y acciones sociales, Emprendimiento, Liderazgo, Como participar en el mundo laboral",
          "Estrategias empresariales con perspectiva de género, Agenda 2030, Iniciativas para el desarrollo económico para todas y todos, Cómo aprender a dialogar y a exponer opiniones, Miedos y deseos  de hombres y mujeres en el campo laboral, Responsabilidad social, Sostenibilidad, Liderazgo y acciones sociales, Emprendimiento, Liderazgo, Como participar en el mundo laboral",
          "Estrategias empresariales con perspectiva de género, Agenda 2030, Iniciativas para el desarrollo económico para todas y todos, Cómo aprender a dialogar y a exponer opiniones, Miedos y deseos  de hombres y mujeres en el campo laboral, Responsabilidad social, Sostenibilidad, Liderazgo y acciones sociales, Emprendimiento, Liderazgo, Como participar en el mundo laboral, Cómo ser proactivo.",
          "Estrategias empresariales con perspectiva de género, Agenda 2030, Iniciativas para el desarrollo económico para todas y todos, Cómo aprender a dialogar y a exponer opiniones, Responsabilidad social, Liderazgo y acciones sociales, Emprendimiento, Liderazgo",
          "Estrategias empresariales con perspectiva de género, Agenda 2030, Iniciativas para el desarrollo económico para todas y todos, Liderazgo y acciones sociales",
          "Estrategias empresariales con perspectiva de género, Agenda 2030, Iniciativas para el desarrollo económico para todas y todos, Liderazgo y acciones sociales, Emprendimiento, Como participar en el mundo laboral",
          "Estrategias empresariales con perspectiva de género, Agenda 2030, Iniciativas para el desarrollo económico para todas y todos, Miedos y deseos  de hombres y mujeres en el campo laboral, Responsabilidad social, Sostenibilidad, Emprendimiento, Liderazgo",
          "Estrategias empresariales con perspectiva de género, Agenda 2030, Iniciativas para el desarrollo económico para todas y todos, Responsabilidad social, Liderazgo y acciones sociales, Emprendimiento",
          "Estrategias empresariales con perspectiva de género, Agenda 2030, Iniciativas para el desarrollo económico para todas y todos, Responsabilidad social, Sostenibilidad, Liderazgo y acciones sociales, Emprendimiento, Liderazgo",
          "Estrategias empresariales con perspectiva de género, Agenda 2030, Iniciativas para el desarrollo económico para todas y todos, Sostenibilidad, Liderazgo y acciones sociales, Emprendimiento",
          "Estrategias empresariales con perspectiva de género, Cómo aprender a dialogar y a exponer opiniones, Liderazgo y acciones sociales, Emprendimiento, Liderazgo",
          "Estrategias empresariales con perspectiva de género, Cómo aprender a dialogar y a exponer opiniones, Liderazgo y acciones sociales, Emprendimiento, Política ",
          "Estrategias empresariales con perspectiva de género, Cómo aprender a dialogar y a exponer opiniones, Liderazgo y acciones sociales, Liderazgo, Como participar en el mundo laboral",
          "Estrategias empresariales con perspectiva de género, Emprendimiento",
          "Estrategias empresariales con perspectiva de género, Emprendimiento, Liderazgo",
          "Estrategias empresariales con perspectiva de género, Emprendimiento, Liderazgo, Como participar en el mundo laboral",
          "Estrategias empresariales con perspectiva de género, Iniciativas para el desarrollo económico para todas y todos, Cómo aprender a dialogar y a exponer opiniones, Miedos y deseos  de hombres y mujeres en el campo laboral, Responsabilidad social, Emprendimiento, Como participar en el mundo laboral, Encubadora de empresas ",
          "Estrategias empresariales con perspectiva de género, Iniciativas para el desarrollo económico para todas y todos, Cómo aprender a dialogar y a exponer opiniones, Miedos y deseos  de hombres y mujeres en el campo laboral, Responsabilidad social, Emprendimiento, Liderazgo, Como participar en el mundo laboral",
          "Estrategias empresariales con perspectiva de género, Iniciativas para el desarrollo económico para todas y todos, Cómo aprender a dialogar y a exponer opiniones, Responsabilidad social, Sostenibilidad, Liderazgo y acciones sociales, Emprendimiento, Como participar en el mundo laboral",
          "Estrategias empresariales con perspectiva de género, Iniciativas para el desarrollo económico para todas y todos, Emprendimiento",
          "Estrategias empresariales con perspectiva de género, Iniciativas para el desarrollo económico para todas y todos, Liderazgo y acciones sociales, Emprendimiento, Liderazgo",
          "Estrategias empresariales con perspectiva de género, Iniciativas para el desarrollo económico para todas y todos, Miedos y deseos  de hombres y mujeres en el campo laboral, Responsabilidad social, Liderazgo y acciones sociales, Emprendimiento, Como participar en el mundo laboral",
          "Estrategias empresariales con perspectiva de género, Iniciativas para el desarrollo económico para todas y todos, Responsabilidad social, Sostenibilidad, Liderazgo y acciones sociales, Emprendimiento, Liderazgo, Como participar en el mundo laboral",
          "Estrategias empresariales con perspectiva de género, Iniciativas para el desarrollo económico para todas y todos, Sostenibilidad, Emprendimiento, Liderazgo",
          "Estrategias empresariales con perspectiva de género, Iniciativas para el desarrollo económico para todas y todos, Sostenibilidad, Liderazgo",
          "Estrategias empresariales con perspectiva de género, Iniciativas para el desarrollo económico para todas y todos, Sostenibilidad, Liderazgo y acciones sociales, Emprendimiento, Liderazgo",
          "Estrategias empresariales con perspectiva de género, Liderazgo y acciones sociales",
          "Estrategias empresariales con perspectiva de género, Liderazgo y acciones sociales, Emprendimiento",
          "Estrategias empresariales con perspectiva de género, Liderazgo y acciones sociales, Emprendimiento, Liderazgo, Como participar en el mundo laboral",
          "Estrategias empresariales con perspectiva de género, Responsabilidad social",
          "Estrategias empresariales con perspectiva de género, Responsabilidad social, Liderazgo y acciones sociales, Emprendimiento, Liderazgo, Como participar en el mundo laboral",
          "Iniciativas para el desarrollo económico para todas y todos",
          "Iniciativas para el desarrollo económico para todas y todos",
          "Iniciativas para el desarrollo económico para todas y todos",
          "Iniciativas para el desarrollo económico para todas y todos, Cómo aprender a dialogar y a exponer opiniones, Emprendimiento, Liderazgo",
          "Iniciativas para el desarrollo económico para todas y todos, Cómo aprender a dialogar y a exponer opiniones, Liderazgo y acciones sociales, Como participar en el mundo laboral",
          "Iniciativas para el desarrollo económico para todas y todos, Cómo aprender a dialogar y a exponer opiniones, Liderazgo y acciones sociales, Emprendimiento",
          "Iniciativas para el desarrollo económico para todas y todos, Cómo aprender a dialogar y a exponer opiniones, Liderazgo y acciones sociales, Emprendimiento, Liderazgo, Como participar en el mundo laboral",
          "Iniciativas para el desarrollo económico para todas y todos, Cómo aprender a dialogar y a exponer opiniones, Responsabilidad social, Emprendimiento",
          "Iniciativas para el desarrollo económico para todas y todos, Cómo aprender a dialogar y a exponer opiniones, Responsabilidad social, Emprendimiento, Liderazgo",
          "Iniciativas para el desarrollo económico para todas y todos, Cómo aprender a dialogar y a exponer opiniones, Responsabilidad social, Liderazgo y acciones sociales, Emprendimiento, Liderazgo, Como participar en el mundo laboral",
          "Iniciativas para el desarrollo económico para todas y todos, Cómo aprender a dialogar y a exponer opiniones, Responsabilidad social, Liderazgo y acciones sociales, Emprendimiento, Liderazgo, Como participar en el mundo laboral",
          "Iniciativas para el desarrollo económico para todas y todos, Cómo aprender a dialogar y a exponer opiniones, Responsabilidad social, Sostenibilidad, Emprendimiento, Como participar en el mundo laboral",
          "Iniciativas para el desarrollo económico para todas y todos, Cómo aprender a dialogar y a exponer opiniones, Responsabilidad social, Sostenibilidad, Emprendimiento, Liderazgo",
          "Iniciativas para el desarrollo económico para todas y todos, Cómo aprender a dialogar y a exponer opiniones, Sostenibilidad, Como participar en el mundo laboral",
          "Iniciativas para el desarrollo económico para todas y todos, Cómo aprender a dialogar y a exponer opiniones, Sostenibilidad, Emprendimiento, Liderazgo, Como participar en el mundo laboral",
          "Iniciativas para el desarrollo económico para todas y todos, Cómo aprender a dialogar y a exponer opiniones, Sostenibilidad, Liderazgo y acciones sociales, Como participar en el mundo laboral",
          "Iniciativas para el desarrollo económico para todas y todos, Liderazgo y acciones sociales, Emprendimiento",
          "Iniciativas para el desarrollo económico para todas y todos, Liderazgo y acciones sociales, Emprendimiento, Liderazgo",
          "Iniciativas para el desarrollo económico para todas y todos, Miedos y deseos  de hombres y mujeres en el campo laboral, Responsabilidad social, Emprendimiento",
          "Iniciativas para el desarrollo económico para todas y todos, Miedos y deseos  de hombres y mujeres en el campo laboral, Responsabilidad social, Emprendimiento, Como participar en el mundo laboral",
          "Iniciativas para el desarrollo económico para todas y todos, Responsabilidad social, Emprendimiento, Liderazgo, Como participar en el mundo laboral",
          "Iniciativas para el desarrollo económico para todas y todos, Responsabilidad social, Liderazgo y acciones sociales, Emprendimiento",
          "Iniciativas para el desarrollo económico para todas y todos, Responsabilidad social, Sostenibilidad, Liderazgo y acciones sociales, Emprendimiento, Liderazgo",
          "Iniciativas para el desarrollo económico para todas y todos, Sostenibilidad, Emprendimiento, Como participar en el mundo laboral",
          "Liderazgo y acciones sociales",
          "Liderazgo y acciones sociales, Emprendimiento",
          "Liderazgo y acciones sociales, Emprendimiento, Liderazgo, Como participar en el mundo laboral",
          "Responsabilidad social",
          "Responsabilidad social, Emprendimiento",
          "Sostenibilidad, Emprendimiento, Como participar en el mundo laboral",
          "Sostenibilidad, Liderazgo y acciones sociales, Emprendimiento, Liderazgo, Como participar en el mundo laboral",
          "Estrategias empresariales con perspectiva de género, Agenda 2030, Iniciativas para el desarrollo económico para todas y todos, Cómo aprender a dialogar y a exponer opiniones, Miedos y deseos  de hombres y mujeres en el campo laboral, Responsabilidad social, Sostenibilidad, Liderazgo y acciones sociales, Emprendimiento, Liderazgo, Como participar en el mundo laboral",
          "Estrategias empresariales con perspectiva de género, Iniciativas para el desarrollo económico para todas y todos, Cómo aprender a dialogar y a exponer opiniones, Miedos y deseos  de hombres y mujeres en el campo laboral, Responsabilidad social, Sostenibilidad, Liderazgo y acciones sociales, Emprendimiento, Liderazgo, Como participar en el mundo laboral",
          "Liderazgo",
          "Miedos y deseos  de hombres y mujeres en el campo laboral, Responsabilidad social, Liderazgo y acciones sociales, Emprendimiento, Liderazgo, Como participar en el mundo laboral",
          "Agenda 2030, Cómo aprender a dialogar y a exponer opiniones, Responsabilidad social, Liderazgo y acciones sociales, Emprendimiento, Liderazgo",
          "Agenda 2030, Iniciativas para el desarrollo económico para todas y todos, Liderazgo y acciones sociales, Como participar en el mundo laboral",
          "Agenda 2030, Iniciativas para el desarrollo económico para todas y todos, Miedos y deseos  de hombres y mujeres en el campo laboral, Responsabilidad social, Sostenibilidad, Como participar en el mundo laboral",
          "Agenda 2030, Responsabilidad social, Sostenibilidad, Liderazgo y acciones sociales",
          "Cómo aprender a dialogar y a exponer opiniones",
          "Cómo aprender a dialogar y a exponer opiniones, Responsabilidad social, Sostenibilidad, Emprendimiento, Liderazgo, Como participar en el mundo laboral",
          "Estrategias empresariales con perspectiva de género, Cómo aprender a dialogar y a exponer opiniones, Miedos y deseos  de hombres y mujeres en el campo laboral, Liderazgo",
          "Estrategias empresariales con perspectiva de género, Cómo aprender a dialogar y a exponer opiniones, Miedos y deseos  de hombres y mujeres en el campo laboral, Responsabilidad social, Liderazgo y acciones sociales",
          "Estrategias empresariales con perspectiva de género, Cómo aprender a dialogar y a exponer opiniones, Sostenibilidad, Emprendimiento, Como participar en el mundo laboral",
          "Estrategias empresariales con perspectiva de género, Iniciativas para el desarrollo económico para todas y todos, Responsabilidad social, Liderazgo y acciones sociales, Emprendimiento, Liderazgo",
          "Estrategias empresariales con perspectiva de género, Liderazgo y acciones sociales, Emprendimiento, Liderazgo",
          "Estrategias empresariales con perspectiva de género, Miedos y deseos  de hombres y mujeres en el campo laboral, Responsabilidad social",
          "Estrategias empresariales con perspectiva de género, Miedos y deseos  de hombres y mujeres en el campo laboral, Responsabilidad social, Liderazgo y acciones sociales",
          "Estrategias empresariales con perspectiva de género, Responsabilidad social, Emprendimiento, Como participar en el mundo laboral",
          "Estrategias empresariales con perspectiva de género, Responsabilidad social, Liderazgo y acciones sociales",
          "Estrategias empresariales con perspectiva de género, Sostenibilidad",
          "Iniciativas para el desarrollo económico para todas y todos",
          "Iniciativas para el desarrollo económico para todas y todos",
          "Iniciativas para el desarrollo económico para todas y todos, Cómo aprender a dialogar y a exponer opiniones, Miedos y deseos  de hombres y mujeres en el campo laboral, Responsabilidad social, Sostenibilidad, Liderazgo y acciones sociales, Emprendimiento, Liderazgo, Como participar en el mundo laboral",
          "Iniciativas para el desarrollo económico para todas y todos, Miedos y deseos  de hombres y mujeres en el campo laboral, Responsabilidad social, Liderazgo",
          "Iniciativas para el desarrollo económico para todas y todos, Responsabilidad social, Emprendimiento",
          "Iniciativas para el desarrollo económico para todas y todos, Responsabilidad social, Emprendimiento",
          "Iniciativas para el desarrollo económico para todas y todos, Sostenibilidad, Como participar en el mundo laboral",
          "Responsabilidad social",
          "Responsabilidad social, Sostenibilidad",
          "Responsabilidad social, Sostenibilidad, Emprendimiento, Como participar en el mundo laboral",
          "Agenda 2030, Cómo aprender a dialogar y a exponer opiniones, Miedos y deseos  de hombres y mujeres en el campo laboral, Responsabilidad social, Liderazgo y acciones sociales, Emprendimiento, Liderazgo, Como participar en el mundo laboral",
          "Agenda 2030, Cómo aprender a dialogar y a exponer opiniones, Responsabilidad social, Sostenibilidad, Liderazgo",
          "Agenda 2030, Iniciativas para el desarrollo económico para todas y todos",
          "Agenda 2030, Iniciativas para el desarrollo económico para todas y todos, Cómo aprender a dialogar y a exponer opiniones, Miedos y deseos  de hombres y mujeres en el campo laboral, Responsabilidad social, Liderazgo y acciones sociales, Emprendimiento",
          "Agenda 2030, Iniciativas para el desarrollo económico para todas y todos, Cómo aprender a dialogar y a exponer opiniones, Responsabilidad social, Liderazgo y acciones sociales, Emprendimiento, Como participar en el mundo laboral",
          "Agenda 2030, Iniciativas para el desarrollo económico para todas y todos, Miedos y deseos  de hombres y mujeres en el campo laboral, Liderazgo",
          "Agenda 2030, Iniciativas para el desarrollo económico para todas y todos, Responsabilidad social, Liderazgo y acciones sociales, Emprendimiento, Liderazgo",
          "Agenda 2030, Liderazgo y acciones sociales, Liderazgo",
          "Ambiente ",
          "Cómo aprender a dialogar y a exponer opiniones",
          "Cómo aprender a dialogar y a exponer opiniones",
          "Cómo aprender a dialogar y a exponer opiniones",
          "Cómo aprender a dialogar y a exponer opiniones, Emprendimiento",
          "Cómo aprender a dialogar y a exponer opiniones, Emprendimiento",
          "Cómo aprender a dialogar y a exponer opiniones, Emprendimiento, Liderazgo, Como participar en el mundo laboral",
          "Cómo aprender a dialogar y a exponer opiniones, Miedos y deseos  de hombres y mujeres en el campo laboral, Liderazgo y acciones sociales",
          "Cómo aprender a dialogar y a exponer opiniones, Miedos y deseos  de hombres y mujeres en el campo laboral, Liderazgo y acciones sociales, Emprendimiento",
          "Cómo aprender a dialogar y a exponer opiniones, Miedos y deseos  de hombres y mujeres en el campo laboral, Liderazgo y acciones sociales, Emprendimiento, Liderazgo, Como participar en el mundo laboral",
          "Cómo aprender a dialogar y a exponer opiniones, Miedos y deseos  de hombres y mujeres en el campo laboral, Responsabilidad social, Liderazgo y acciones sociales, Como participar en el mundo laboral",
          "Cómo aprender a dialogar y a exponer opiniones, Miedos y deseos  de hombres y mujeres en el campo laboral, Responsabilidad social, Liderazgo y acciones sociales, Emprendimiento, Liderazgo",
          "Cómo aprender a dialogar y a exponer opiniones, Miedos y deseos  de hombres y mujeres en el campo laboral, Responsabilidad social, Liderazgo y acciones sociales, Emprendimiento, Liderazgo",
          "Cómo aprender a dialogar y a exponer opiniones, Responsabilidad social, Liderazgo y acciones sociales, Emprendimiento",
          "Cómo aprender a dialogar y a exponer opiniones, Responsabilidad social, Liderazgo y acciones sociales, Emprendimiento, Liderazgo",
          "Cómo aprender a dialogar y a exponer opiniones, Responsabilidad social, Liderazgo y acciones sociales, Emprendimiento, Liderazgo, Como participar en el mundo laboral",
          "Cómo aprender a dialogar y a exponer opiniones, Responsabilidad social, Sostenibilidad, Emprendimiento, Liderazgo",
          "Cómo aprender a dialogar y a exponer opiniones, Responsabilidad social, Sostenibilidad, Liderazgo y acciones sociales",
          "Como participar en el mundo laboral",
          "Como participar en el mundo laboral",
          "Como participar en el mundo laboral",
          "Emprendimiento",
          "Emprendimiento",
          "Emprendimiento",
          "Estrategias empresariales con perspectiva de género",
          "Estrategias empresariales con perspectiva de género, Agenda 2030, Cómo aprender a dialogar y a exponer opiniones, Miedos y deseos  de hombres y mujeres en el campo laboral, Responsabilidad social, Emprendimiento, Liderazgo",
          "Estrategias empresariales con perspectiva de género, Agenda 2030, Iniciativas para el desarrollo económico para todas y todos, Cómo aprender a dialogar y a exponer opiniones, Miedos y deseos  de hombres y mujeres en el campo laboral, Responsabilidad social, Sostenibilidad, Liderazgo y acciones sociales, Emprendimiento, Liderazgo",
          "Estrategias empresariales con perspectiva de género, Agenda 2030, Iniciativas para el desarrollo económico para todas y todos, Cómo aprender a dialogar y a exponer opiniones, Miedos y deseos  de hombres y mujeres en el campo laboral, Responsabilidad social, Sostenibilidad, Liderazgo y acciones sociales, Emprendimiento, Liderazgo, Como participar en el mundo laboral",
          "Estrategias empresariales con perspectiva de género, Agenda 2030, Iniciativas para el desarrollo económico para todas y todos, Cómo aprender a dialogar y a exponer opiniones, Miedos y deseos  de hombres y mujeres en el campo laboral, Responsabilidad social, Sostenibilidad, Liderazgo y acciones sociales, Emprendimiento, Liderazgo, Como participar en el mundo laboral",
          "Estrategias empresariales con perspectiva de género, Agenda 2030, Iniciativas para el desarrollo económico para todas y todos, Cómo aprender a dialogar y a exponer opiniones, Miedos y deseos  de hombres y mujeres en el campo laboral, Responsabilidad social, Sostenibilidad, Liderazgo y acciones sociales, Emprendimiento, Liderazgo, Como participar en el mundo laboral",
          "Estrategias empresariales con perspectiva de género, Agenda 2030, Iniciativas para el desarrollo económico para todas y todos, Cómo aprender a dialogar y a exponer opiniones, Miedos y deseos  de hombres y mujeres en el campo laboral, Responsabilidad social, Sostenibilidad, Liderazgo y acciones sociales, Emprendimiento, Liderazgo, Como participar en el mundo laboral",
          "Estrategias empresariales con perspectiva de género, Agenda 2030, Iniciativas para el desarrollo económico para todas y todos, Cómo aprender a dialogar y a exponer opiniones, Miedos y deseos  de hombres y mujeres en el campo laboral, Responsabilidad social, Sostenibilidad, Liderazgo y acciones sociales, Emprendimiento, Liderazgo, Como participar en el mundo laboral",
          "Estrategias empresariales con perspectiva de género, Agenda 2030, Iniciativas para el desarrollo económico para todas y todos, Cómo aprender a dialogar y a exponer opiniones, Miedos y deseos  de hombres y mujeres en el campo laboral, Responsabilidad social, Sostenibilidad, Liderazgo y acciones sociales, Emprendimiento, Liderazgo, Como participar en el mundo laboral",
          "Estrategias empresariales con perspectiva de género, Agenda 2030, Iniciativas para el desarrollo económico para todas y todos, Cómo aprender a dialogar y a exponer opiniones, Miedos y deseos  de hombres y mujeres en el campo laboral, Sostenibilidad, Emprendimiento, Liderazgo",
          "Estrategias empresariales con perspectiva de género, Agenda 2030, Iniciativas para el desarrollo económico para todas y todos, Cómo aprender a dialogar y a exponer opiniones, Miedos y deseos  de hombres y mujeres en el campo laboral, Sostenibilidad, Liderazgo y acciones sociales, Emprendimiento, Liderazgo",
          "Estrategias empresariales con perspectiva de género, Agenda 2030, Iniciativas para el desarrollo económico para todas y todos, Miedos y deseos  de hombres y mujeres en el campo laboral",
          "Estrategias empresariales con perspectiva de género, Agenda 2030, Iniciativas para el desarrollo económico para todas y todos, Miedos y deseos  de hombres y mujeres en el campo laboral, Como participar en el mundo laboral",
          "Estrategias empresariales con perspectiva de género, Agenda 2030, Iniciativas para el desarrollo económico para todas y todos, Miedos y deseos  de hombres y mujeres en el campo laboral, Responsabilidad social, Liderazgo y acciones sociales, Como participar en el mundo laboral",
          "Estrategias empresariales con perspectiva de género, Agenda 2030, Iniciativas para el desarrollo económico para todas y todos, Miedos y deseos  de hombres y mujeres en el campo laboral, Responsabilidad social, Sostenibilidad, Liderazgo y acciones sociales, Emprendimiento, Liderazgo, Como participar en el mundo laboral",
          "Estrategias empresariales con perspectiva de género, Cómo aprender a dialogar y a exponer opiniones, Emprendimiento",
          "Estrategias empresariales con perspectiva de género, Cómo aprender a dialogar y a exponer opiniones, Liderazgo y acciones sociales, Emprendimiento",
          "Estrategias empresariales con perspectiva de género, Emprendimiento",
          "Estrategias empresariales con perspectiva de género, Emprendimiento",
          "Estrategias empresariales con perspectiva de género, Iniciativas para el desarrollo económico para todas y todos, Cómo aprender a dialogar y a exponer opiniones",
          "Estrategias empresariales con perspectiva de género, Iniciativas para el desarrollo económico para todas y todos, Cómo aprender a dialogar y a exponer opiniones, Miedos y deseos  de hombres y mujeres en el campo laboral, Liderazgo y acciones sociales, Emprendimiento, Como participar en el mundo laboral",
          "Estrategias empresariales con perspectiva de género, Iniciativas para el desarrollo económico para todas y todos, Cómo aprender a dialogar y a exponer opiniones, Miedos y deseos  de hombres y mujeres en el campo laboral, Liderazgo y acciones sociales, Emprendimiento, Liderazgo",
          "Estrategias empresariales con perspectiva de género, Iniciativas para el desarrollo económico para todas y todos, Cómo aprender a dialogar y a exponer opiniones, Miedos y deseos  de hombres y mujeres en el campo laboral, Responsabilidad social, Sostenibilidad, Liderazgo y acciones sociales, Emprendimiento, Liderazgo, Como participar en el mundo laboral",
          "Estrategias empresariales con perspectiva de género, Iniciativas para el desarrollo económico para todas y todos, Cómo aprender a dialogar y a exponer opiniones, Miedos y deseos  de hombres y mujeres en el campo laboral, Sostenibilidad",
          "Estrategias empresariales con perspectiva de género, Iniciativas para el desarrollo económico para todas y todos, Emprendimiento",
          "Estrategias empresariales con perspectiva de género, Iniciativas para el desarrollo económico para todas y todos, Emprendimiento, Liderazgo, Como participar en el mundo laboral",
          "Estrategias empresariales con perspectiva de género, Iniciativas para el desarrollo económico para todas y todos, Liderazgo",
          "Estrategias empresariales con perspectiva de género, Iniciativas para el desarrollo económico para todas y todos, Liderazgo y acciones sociales, Emprendimiento",
          "Estrategias empresariales con perspectiva de género, Iniciativas para el desarrollo económico para todas y todos, Miedos y deseos  de hombres y mujeres en el campo laboral, Emprendimiento, Como participar en el mundo laboral",
          "Estrategias empresariales con perspectiva de género, Iniciativas para el desarrollo económico para todas y todos, Miedos y deseos  de hombres y mujeres en el campo laboral, Responsabilidad social, Emprendimiento, Liderazgo, Como participar en el mundo laboral",
          "Estrategias empresariales con perspectiva de género, Iniciativas para el desarrollo económico para todas y todos, Miedos y deseos  de hombres y mujeres en el campo laboral, Responsabilidad social, Sostenibilidad, Liderazgo",
          "Estrategias empresariales con perspectiva de género, Iniciativas para el desarrollo económico para todas y todos, Miedos y deseos  de hombres y mujeres en el campo laboral, Sostenibilidad, Liderazgo y acciones sociales",
          "Estrategias empresariales con perspectiva de género, Iniciativas para el desarrollo económico para todas y todos, Responsabilidad social, Liderazgo y acciones sociales, Como participar en el mundo laboral",
          "Estrategias empresariales con perspectiva de género, Iniciativas para el desarrollo económico para todas y todos, Responsabilidad social, Liderazgo y acciones sociales, Emprendimiento",
          "Estrategias empresariales con perspectiva de género, Iniciativas para el desarrollo económico para todas y todos, Responsabilidad social, Liderazgo y acciones sociales, Emprendimiento, Como participar en el mundo laboral",
          "Estrategias empresariales con perspectiva de género, Iniciativas para el desarrollo económico para todas y todos, Responsabilidad social, Liderazgo y acciones sociales, Emprendimiento, Como participar en el mundo laboral",
          "Estrategias empresariales con perspectiva de género, Liderazgo y acciones sociales, Liderazgo",
          "Estrategias empresariales con perspectiva de género, Responsabilidad social, Sostenibilidad, Liderazgo y acciones sociales, Emprendimiento, Liderazgo, Como participar en el mundo laboral",
          "Iniciativas para el desarrollo económico para todas y todos",
          "Iniciativas para el desarrollo económico para todas y todos",
          "Iniciativas para el desarrollo económico para todas y todos",
          "Iniciativas para el desarrollo económico para todas y todos",
          "Iniciativas para el desarrollo económico para todas y todos",
          "Iniciativas para el desarrollo económico para todas y todos, Cómo aprender a dialogar y a exponer opiniones, Como participar en el mundo laboral",
          "Iniciativas para el desarrollo económico para todas y todos, Cómo aprender a dialogar y a exponer opiniones, Liderazgo y acciones sociales, Emprendimiento, Liderazgo",
          "Iniciativas para el desarrollo económico para todas y todos, Cómo aprender a dialogar y a exponer opiniones, Miedos y deseos  de hombres y mujeres en el campo laboral",
          "Iniciativas para el desarrollo económico para todas y todos, Cómo aprender a dialogar y a exponer opiniones, Miedos y deseos  de hombres y mujeres en el campo laboral",
          "Iniciativas para el desarrollo económico para todas y todos, Cómo aprender a dialogar y a exponer opiniones, Miedos y deseos  de hombres y mujeres en el campo laboral, Liderazgo y acciones sociales, Liderazgo",
          "Iniciativas para el desarrollo económico para todas y todos, Cómo aprender a dialogar y a exponer opiniones, Miedos y deseos  de hombres y mujeres en el campo laboral, Responsabilidad social",
          "Iniciativas para el desarrollo económico para todas y todos, Cómo aprender a dialogar y a exponer opiniones, Miedos y deseos  de hombres y mujeres en el campo laboral, Responsabilidad social, Emprendimiento, Liderazgo",
          "Iniciativas para el desarrollo económico para todas y todos, Cómo aprender a dialogar y a exponer opiniones, Responsabilidad social, Emprendimiento, Liderazgo, Como participar en el mundo laboral",
          "Iniciativas para el desarrollo económico para todas y todos, Cómo aprender a dialogar y a exponer opiniones, Responsabilidad social, Liderazgo y acciones sociales",
          "Iniciativas para el desarrollo económico para todas y todos, Cómo aprender a dialogar y a exponer opiniones, Responsabilidad social, Liderazgo y acciones sociales, Como participar en el mundo laboral",
          "Iniciativas para el desarrollo económico para todas y todos, Cómo aprender a dialogar y a exponer opiniones, Responsabilidad social, Liderazgo y acciones sociales, Emprendimiento, Liderazgo",
          "Iniciativas para el desarrollo económico para todas y todos, Cómo aprender a dialogar y a exponer opiniones, Responsabilidad social, Sostenibilidad, Liderazgo y acciones sociales, Emprendimiento, Liderazgo, Como participar en el mundo laboral",
          "Iniciativas para el desarrollo económico para todas y todos, Emprendimiento",
          "Iniciativas para el desarrollo económico para todas y todos, Emprendimiento, Liderazgo",
          "Iniciativas para el desarrollo económico para todas y todos, Liderazgo y acciones sociales, Emprendimiento",
          "Iniciativas para el desarrollo económico para todas y todos, Liderazgo y acciones sociales, Liderazgo",
          "Iniciativas para el desarrollo económico para todas y todos, Miedos y deseos  de hombres y mujeres en el campo laboral, Como participar en el mundo laboral",
          "Iniciativas para el desarrollo económico para todas y todos, Miedos y deseos  de hombres y mujeres en el campo laboral, Emprendimiento, Como participar en el mundo laboral",
          "Iniciativas para el desarrollo económico para todas y todos, Miedos y deseos  de hombres y mujeres en el campo laboral, Liderazgo y acciones sociales, Emprendimiento",
          "Iniciativas para el desarrollo económico para todas y todos, Miedos y deseos  de hombres y mujeres en el campo laboral, Responsabilidad social",
          "Iniciativas para el desarrollo económico para todas y todos, Miedos y deseos  de hombres y mujeres en el campo laboral, Responsabilidad social, Emprendimiento, Como participar en el mundo laboral",
          "Iniciativas para el desarrollo económico para todas y todos, Miedos y deseos  de hombres y mujeres en el campo laboral, Responsabilidad social, Emprendimiento, Liderazgo",
          "Iniciativas para el desarrollo económico para todas y todos, Miedos y deseos  de hombres y mujeres en el campo laboral, Responsabilidad social, Liderazgo y acciones sociales, Emprendimiento",
          "Iniciativas para el desarrollo económico para todas y todos, Miedos y deseos  de hombres y mujeres en el campo laboral, Responsabilidad social, Sostenibilidad, Liderazgo y acciones sociales, Emprendimiento, Liderazgo, Como participar en el mundo laboral",
          "Iniciativas para el desarrollo económico para todas y todos, Responsabilidad social, Emprendimiento",
          "Iniciativas para el desarrollo económico para todas y todos, Responsabilidad social, Liderazgo y acciones sociales, Como participar en el mundo laboral",
          "Iniciativas para el desarrollo económico para todas y todos, Responsabilidad social, Liderazgo y acciones sociales, Emprendimiento",
          "Iniciativas para el desarrollo económico para todas y todos, Responsabilidad social, Liderazgo y acciones sociales, Emprendimiento, Como participar en el mundo laboral",
          "Iniciativas para el desarrollo económico para todas y todos, Responsabilidad social, Sostenibilidad",
          "Iniciativas para el desarrollo económico para todas y todos, Responsabilidad social, Sostenibilidad, Liderazgo y acciones sociales, Emprendimiento",
          "Iniciativas para el desarrollo económico para todas y todos, Sostenibilidad, Emprendimiento",
          "Liderazgo",
          "Liderazgo",
          "Liderazgo y acciones sociales",
          "Miedos y deseos  de hombres y mujeres en el campo laboral, Liderazgo y acciones sociales, Emprendimiento",
          "Miedos y deseos  de hombres y mujeres en el campo laboral, Liderazgo y acciones sociales, Emprendimiento",
          "Miedos y deseos  de hombres y mujeres en el campo laboral, Política y situación actual de México ",
          "Miedos y deseos  de hombres y mujeres en el campo laboral, Responsabilidad social",
          "Miedos y deseos  de hombres y mujeres en el campo laboral, Responsabilidad social, Emprendimiento",
          "Responsabilidad social, Sostenibilidad",
          "Responsabilidad social, Sostenibilidad, Liderazgo y acciones sociales, Emprendimiento, Liderazgo, Como participar en el mundo laboral",
          "Sostenibilidad",
          "Sostenibilidad, Liderazgo y acciones sociales, Emprendimiento",
          "Sostenibilidad, Liderazgo y acciones sociales, Emprendimiento",
          "Iniciativas para el desarrollo económico para todas y todos, Responsabilidad social, Sostenibilidad, Liderazgo y acciones sociales, Emprendimiento, Liderazgo",
          "Liderazgo y acciones sociales",
          "Liderazgo y acciones sociales"
         ],
         "xaxis": "x",
         "yaxis": "y"
        }
       ],
       "layout": {
        "barmode": "relative",
        "legend": {
         "tracegroupgap": 0
        },
        "template": {
         "data": {
          "bar": [
           {
            "error_x": {
             "color": "#2a3f5f"
            },
            "error_y": {
             "color": "#2a3f5f"
            },
            "marker": {
             "line": {
              "color": "#E5ECF6",
              "width": 0.5
             },
             "pattern": {
              "fillmode": "overlay",
              "size": 10,
              "solidity": 0.2
             }
            },
            "type": "bar"
           }
          ],
          "barpolar": [
           {
            "marker": {
             "line": {
              "color": "#E5ECF6",
              "width": 0.5
             },
             "pattern": {
              "fillmode": "overlay",
              "size": 10,
              "solidity": 0.2
             }
            },
            "type": "barpolar"
           }
          ],
          "carpet": [
           {
            "aaxis": {
             "endlinecolor": "#2a3f5f",
             "gridcolor": "white",
             "linecolor": "white",
             "minorgridcolor": "white",
             "startlinecolor": "#2a3f5f"
            },
            "baxis": {
             "endlinecolor": "#2a3f5f",
             "gridcolor": "white",
             "linecolor": "white",
             "minorgridcolor": "white",
             "startlinecolor": "#2a3f5f"
            },
            "type": "carpet"
           }
          ],
          "choropleth": [
           {
            "colorbar": {
             "outlinewidth": 0,
             "ticks": ""
            },
            "type": "choropleth"
           }
          ],
          "contour": [
           {
            "colorbar": {
             "outlinewidth": 0,
             "ticks": ""
            },
            "colorscale": [
             [
              0,
              "#0d0887"
             ],
             [
              0.1111111111111111,
              "#46039f"
             ],
             [
              0.2222222222222222,
              "#7201a8"
             ],
             [
              0.3333333333333333,
              "#9c179e"
             ],
             [
              0.4444444444444444,
              "#bd3786"
             ],
             [
              0.5555555555555556,
              "#d8576b"
             ],
             [
              0.6666666666666666,
              "#ed7953"
             ],
             [
              0.7777777777777778,
              "#fb9f3a"
             ],
             [
              0.8888888888888888,
              "#fdca26"
             ],
             [
              1,
              "#f0f921"
             ]
            ],
            "type": "contour"
           }
          ],
          "contourcarpet": [
           {
            "colorbar": {
             "outlinewidth": 0,
             "ticks": ""
            },
            "type": "contourcarpet"
           }
          ],
          "heatmap": [
           {
            "colorbar": {
             "outlinewidth": 0,
             "ticks": ""
            },
            "colorscale": [
             [
              0,
              "#0d0887"
             ],
             [
              0.1111111111111111,
              "#46039f"
             ],
             [
              0.2222222222222222,
              "#7201a8"
             ],
             [
              0.3333333333333333,
              "#9c179e"
             ],
             [
              0.4444444444444444,
              "#bd3786"
             ],
             [
              0.5555555555555556,
              "#d8576b"
             ],
             [
              0.6666666666666666,
              "#ed7953"
             ],
             [
              0.7777777777777778,
              "#fb9f3a"
             ],
             [
              0.8888888888888888,
              "#fdca26"
             ],
             [
              1,
              "#f0f921"
             ]
            ],
            "type": "heatmap"
           }
          ],
          "heatmapgl": [
           {
            "colorbar": {
             "outlinewidth": 0,
             "ticks": ""
            },
            "colorscale": [
             [
              0,
              "#0d0887"
             ],
             [
              0.1111111111111111,
              "#46039f"
             ],
             [
              0.2222222222222222,
              "#7201a8"
             ],
             [
              0.3333333333333333,
              "#9c179e"
             ],
             [
              0.4444444444444444,
              "#bd3786"
             ],
             [
              0.5555555555555556,
              "#d8576b"
             ],
             [
              0.6666666666666666,
              "#ed7953"
             ],
             [
              0.7777777777777778,
              "#fb9f3a"
             ],
             [
              0.8888888888888888,
              "#fdca26"
             ],
             [
              1,
              "#f0f921"
             ]
            ],
            "type": "heatmapgl"
           }
          ],
          "histogram": [
           {
            "marker": {
             "pattern": {
              "fillmode": "overlay",
              "size": 10,
              "solidity": 0.2
             }
            },
            "type": "histogram"
           }
          ],
          "histogram2d": [
           {
            "colorbar": {
             "outlinewidth": 0,
             "ticks": ""
            },
            "colorscale": [
             [
              0,
              "#0d0887"
             ],
             [
              0.1111111111111111,
              "#46039f"
             ],
             [
              0.2222222222222222,
              "#7201a8"
             ],
             [
              0.3333333333333333,
              "#9c179e"
             ],
             [
              0.4444444444444444,
              "#bd3786"
             ],
             [
              0.5555555555555556,
              "#d8576b"
             ],
             [
              0.6666666666666666,
              "#ed7953"
             ],
             [
              0.7777777777777778,
              "#fb9f3a"
             ],
             [
              0.8888888888888888,
              "#fdca26"
             ],
             [
              1,
              "#f0f921"
             ]
            ],
            "type": "histogram2d"
           }
          ],
          "histogram2dcontour": [
           {
            "colorbar": {
             "outlinewidth": 0,
             "ticks": ""
            },
            "colorscale": [
             [
              0,
              "#0d0887"
             ],
             [
              0.1111111111111111,
              "#46039f"
             ],
             [
              0.2222222222222222,
              "#7201a8"
             ],
             [
              0.3333333333333333,
              "#9c179e"
             ],
             [
              0.4444444444444444,
              "#bd3786"
             ],
             [
              0.5555555555555556,
              "#d8576b"
             ],
             [
              0.6666666666666666,
              "#ed7953"
             ],
             [
              0.7777777777777778,
              "#fb9f3a"
             ],
             [
              0.8888888888888888,
              "#fdca26"
             ],
             [
              1,
              "#f0f921"
             ]
            ],
            "type": "histogram2dcontour"
           }
          ],
          "mesh3d": [
           {
            "colorbar": {
             "outlinewidth": 0,
             "ticks": ""
            },
            "type": "mesh3d"
           }
          ],
          "parcoords": [
           {
            "line": {
             "colorbar": {
              "outlinewidth": 0,
              "ticks": ""
             }
            },
            "type": "parcoords"
           }
          ],
          "pie": [
           {
            "automargin": true,
            "type": "pie"
           }
          ],
          "scatter": [
           {
            "marker": {
             "colorbar": {
              "outlinewidth": 0,
              "ticks": ""
             }
            },
            "type": "scatter"
           }
          ],
          "scatter3d": [
           {
            "line": {
             "colorbar": {
              "outlinewidth": 0,
              "ticks": ""
             }
            },
            "marker": {
             "colorbar": {
              "outlinewidth": 0,
              "ticks": ""
             }
            },
            "type": "scatter3d"
           }
          ],
          "scattercarpet": [
           {
            "marker": {
             "colorbar": {
              "outlinewidth": 0,
              "ticks": ""
             }
            },
            "type": "scattercarpet"
           }
          ],
          "scattergeo": [
           {
            "marker": {
             "colorbar": {
              "outlinewidth": 0,
              "ticks": ""
             }
            },
            "type": "scattergeo"
           }
          ],
          "scattergl": [
           {
            "marker": {
             "colorbar": {
              "outlinewidth": 0,
              "ticks": ""
             }
            },
            "type": "scattergl"
           }
          ],
          "scattermapbox": [
           {
            "marker": {
             "colorbar": {
              "outlinewidth": 0,
              "ticks": ""
             }
            },
            "type": "scattermapbox"
           }
          ],
          "scatterpolar": [
           {
            "marker": {
             "colorbar": {
              "outlinewidth": 0,
              "ticks": ""
             }
            },
            "type": "scatterpolar"
           }
          ],
          "scatterpolargl": [
           {
            "marker": {
             "colorbar": {
              "outlinewidth": 0,
              "ticks": ""
             }
            },
            "type": "scatterpolargl"
           }
          ],
          "scatterternary": [
           {
            "marker": {
             "colorbar": {
              "outlinewidth": 0,
              "ticks": ""
             }
            },
            "type": "scatterternary"
           }
          ],
          "surface": [
           {
            "colorbar": {
             "outlinewidth": 0,
             "ticks": ""
            },
            "colorscale": [
             [
              0,
              "#0d0887"
             ],
             [
              0.1111111111111111,
              "#46039f"
             ],
             [
              0.2222222222222222,
              "#7201a8"
             ],
             [
              0.3333333333333333,
              "#9c179e"
             ],
             [
              0.4444444444444444,
              "#bd3786"
             ],
             [
              0.5555555555555556,
              "#d8576b"
             ],
             [
              0.6666666666666666,
              "#ed7953"
             ],
             [
              0.7777777777777778,
              "#fb9f3a"
             ],
             [
              0.8888888888888888,
              "#fdca26"
             ],
             [
              1,
              "#f0f921"
             ]
            ],
            "type": "surface"
           }
          ],
          "table": [
           {
            "cells": {
             "fill": {
              "color": "#EBF0F8"
             },
             "line": {
              "color": "white"
             }
            },
            "header": {
             "fill": {
              "color": "#C8D4E3"
             },
             "line": {
              "color": "white"
             }
            },
            "type": "table"
           }
          ]
         },
         "layout": {
          "annotationdefaults": {
           "arrowcolor": "#2a3f5f",
           "arrowhead": 0,
           "arrowwidth": 1
          },
          "autotypenumbers": "strict",
          "coloraxis": {
           "colorbar": {
            "outlinewidth": 0,
            "ticks": ""
           }
          },
          "colorscale": {
           "diverging": [
            [
             0,
             "#8e0152"
            ],
            [
             0.1,
             "#c51b7d"
            ],
            [
             0.2,
             "#de77ae"
            ],
            [
             0.3,
             "#f1b6da"
            ],
            [
             0.4,
             "#fde0ef"
            ],
            [
             0.5,
             "#f7f7f7"
            ],
            [
             0.6,
             "#e6f5d0"
            ],
            [
             0.7,
             "#b8e186"
            ],
            [
             0.8,
             "#7fbc41"
            ],
            [
             0.9,
             "#4d9221"
            ],
            [
             1,
             "#276419"
            ]
           ],
           "sequential": [
            [
             0,
             "#0d0887"
            ],
            [
             0.1111111111111111,
             "#46039f"
            ],
            [
             0.2222222222222222,
             "#7201a8"
            ],
            [
             0.3333333333333333,
             "#9c179e"
            ],
            [
             0.4444444444444444,
             "#bd3786"
            ],
            [
             0.5555555555555556,
             "#d8576b"
            ],
            [
             0.6666666666666666,
             "#ed7953"
            ],
            [
             0.7777777777777778,
             "#fb9f3a"
            ],
            [
             0.8888888888888888,
             "#fdca26"
            ],
            [
             1,
             "#f0f921"
            ]
           ],
           "sequentialminus": [
            [
             0,
             "#0d0887"
            ],
            [
             0.1111111111111111,
             "#46039f"
            ],
            [
             0.2222222222222222,
             "#7201a8"
            ],
            [
             0.3333333333333333,
             "#9c179e"
            ],
            [
             0.4444444444444444,
             "#bd3786"
            ],
            [
             0.5555555555555556,
             "#d8576b"
            ],
            [
             0.6666666666666666,
             "#ed7953"
            ],
            [
             0.7777777777777778,
             "#fb9f3a"
            ],
            [
             0.8888888888888888,
             "#fdca26"
            ],
            [
             1,
             "#f0f921"
            ]
           ]
          },
          "colorway": [
           "#636efa",
           "#EF553B",
           "#00cc96",
           "#ab63fa",
           "#FFA15A",
           "#19d3f3",
           "#FF6692",
           "#B6E880",
           "#FF97FF",
           "#FECB52"
          ],
          "font": {
           "color": "#2a3f5f"
          },
          "geo": {
           "bgcolor": "white",
           "lakecolor": "white",
           "landcolor": "#E5ECF6",
           "showlakes": true,
           "showland": true,
           "subunitcolor": "white"
          },
          "hoverlabel": {
           "align": "left"
          },
          "hovermode": "closest",
          "mapbox": {
           "style": "light"
          },
          "paper_bgcolor": "white",
          "plot_bgcolor": "#E5ECF6",
          "polar": {
           "angularaxis": {
            "gridcolor": "white",
            "linecolor": "white",
            "ticks": ""
           },
           "bgcolor": "#E5ECF6",
           "radialaxis": {
            "gridcolor": "white",
            "linecolor": "white",
            "ticks": ""
           }
          },
          "scene": {
           "xaxis": {
            "backgroundcolor": "#E5ECF6",
            "gridcolor": "white",
            "gridwidth": 2,
            "linecolor": "white",
            "showbackground": true,
            "ticks": "",
            "zerolinecolor": "white"
           },
           "yaxis": {
            "backgroundcolor": "#E5ECF6",
            "gridcolor": "white",
            "gridwidth": 2,
            "linecolor": "white",
            "showbackground": true,
            "ticks": "",
            "zerolinecolor": "white"
           },
           "zaxis": {
            "backgroundcolor": "#E5ECF6",
            "gridcolor": "white",
            "gridwidth": 2,
            "linecolor": "white",
            "showbackground": true,
            "ticks": "",
            "zerolinecolor": "white"
           }
          },
          "shapedefaults": {
           "line": {
            "color": "#2a3f5f"
           }
          },
          "ternary": {
           "aaxis": {
            "gridcolor": "white",
            "linecolor": "white",
            "ticks": ""
           },
           "baxis": {
            "gridcolor": "white",
            "linecolor": "white",
            "ticks": ""
           },
           "bgcolor": "#E5ECF6",
           "caxis": {
            "gridcolor": "white",
            "linecolor": "white",
            "ticks": ""
           }
          },
          "title": {
           "x": 0.05
          },
          "xaxis": {
           "automargin": true,
           "gridcolor": "white",
           "linecolor": "white",
           "ticks": "",
           "title": {
            "standoff": 15
           },
           "zerolinecolor": "white",
           "zerolinewidth": 2
          },
          "yaxis": {
           "automargin": true,
           "gridcolor": "white",
           "linecolor": "white",
           "ticks": "",
           "title": {
            "standoff": 15
           },
           "zerolinecolor": "white",
           "zerolinewidth": 2
          }
         }
        },
        "title": {
         "text": "Temas que les gustaría aprender"
        },
        "xaxis": {
         "anchor": "y",
         "categoryorder": "total descending",
         "domain": [
          0,
          1
         ],
         "title": {
          "text": "Tema aprender"
         }
        },
        "yaxis": {
         "anchor": "x",
         "domain": [
          0,
          1
         ],
         "title": {
          "text": "count"
         },
         "type": "log"
        }
       }
      }
     },
     "metadata": {},
     "output_type": "display_data"
    }
   ],
   "source": [
    "df['Tema aprender'].fillna(\"Liderazgo y acciones sociales\", inplace = True)\n",
    "\n",
    "fig = px.histogram(df, x=\"Tema aprender\",\n",
    "                   title='Temas que les gustaría aprender',\n",
    "                   color_discrete_sequence=['darkred'],\n",
    "                   log_y=True, # represent bars with log scale\n",
    "                   text_auto= True\n",
    "                   ).update_xaxes(categoryorder='total descending')\n",
    "                   \n",
    "fig.show()"
   ]
  },
  {
   "cell_type": "markdown",
   "metadata": {},
   "source": [
    "### Temas que hacen falta hablar"
   ]
  },
  {
   "cell_type": "code",
   "execution_count": 9,
   "metadata": {},
   "outputs": [
    {
     "data": {
      "application/vnd.plotly.v1+json": {
       "config": {
        "plotlyServerURL": "https://plot.ly"
       },
       "data": [
        {
         "alignmentgroup": "True",
         "bingroup": "x",
         "hovertemplate": "Categorías=%{x}<br>count=%{y}<extra></extra>",
         "legendgroup": "",
         "marker": {
          "color": "darkred",
          "pattern": {
           "shape": ""
          }
         },
         "name": "",
         "offsetgroup": "",
         "orientation": "v",
         "showlegend": false,
         "texttemplate": "%{value}",
         "type": "histogram",
         "x": [
          "Actualidad",
          "Actualidad",
          "Actualidad",
          "Agenda 2030",
          "Amor propio",
          "Amor propio",
          "Amor propio",
          "Amor propio",
          "Amor propio",
          "Amor propio",
          "Amor propio",
          "Autoestima",
          "Derechos",
          "Derechos",
          "Derechos",
          "Derechos",
          "Derechos ",
          "Derechos ",
          "Derechos  ",
          "Derechos  ",
          "Derechos humanos ",
          "Desarrollo",
          "Desarrollo personal",
          "Desarrollo personal",
          "Desarrollo personal",
          "Desarrollo personal",
          "Desarrollo personal",
          "Desarrollo personal",
          "Desarrollo personal",
          "Desarrollo personal",
          "Desarrollo personal",
          "Desarrollo personal",
          "Desarrollo Personal",
          "Desarrollo Personal",
          "Desarrollo Personal",
          "Desórdenes alimenticios",
          "Diálogo",
          "Diálogo",
          "Diálogo",
          "Diálogo",
          "Diálogo",
          "Diálogo",
          "Diálogo",
          "Diálogo",
          "Diálogo",
          "Diálogo",
          "Diálogo",
          "Diálogo",
          "Diálogo",
          "Drogas ",
          "Economía",
          "Economía",
          "Economía",
          "Economía",
          "Economía",
          "Economía",
          "Economía",
          "Economía",
          "Economía",
          "Economía",
          "Economía",
          "Economía",
          "Economía",
          "Economía",
          "Economía",
          "Economía",
          "Economía",
          "Economía",
          "Economía",
          "Economía",
          "Economía",
          "Economía",
          "Economía",
          "Economía",
          "Economía",
          "Economía",
          "Economía",
          "Economía",
          "Economía",
          "Economía",
          "Economía",
          "Economía",
          "Economía",
          "Economía",
          "Economía",
          "Economía",
          "Economía",
          "Economía",
          "Economía",
          "Economía",
          "Economía",
          "Economía",
          "Economía",
          "Economía",
          "Economía internacional",
          "Educación",
          "Educación",
          "Educación",
          "Educación",
          "Educación",
          "Educación",
          "Educación",
          "Educación",
          "Educación",
          "Educación",
          "Educación",
          "Educación",
          "Educación",
          "Educación",
          "Educación",
          "Educación",
          "Educación",
          "Educación",
          "Educación",
          "Educación",
          "Educación",
          "Empoderamiento de la mujer",
          "Empoderamiento de la mujer",
          "Empoderamiento de la mujer",
          "Emprendimiento",
          "Emprendimiento",
          "Emprendimiento",
          "Emprendimiento",
          "Emprendimiento",
          "Emprendimiento",
          "Emprendimiento",
          "Emprendimiento",
          "Emprendimiento",
          "Emprendimiento",
          "Emprendimiento",
          "Emprendimiento",
          "Emprendimiento",
          "Emprendimiento",
          "Emprendimiento",
          "Emprendimiento",
          "Emprendimiento",
          "Emprendimiento",
          "Emprendimiento",
          "Emprendimiento",
          "Emprendimiento",
          "Emprendimiento",
          "Emprendimiento",
          "Emprendimiento",
          "Emprendimiento",
          "Emprendimiento",
          "Emprendimiento",
          "Emprendimiento",
          "Emprendimiento",
          "Emprendimiento",
          "Emprendimiento",
          "Emprendimiento",
          "Emprendimiento",
          "Emprendimiento",
          "Emprendimiento",
          "Empresarial",
          "Empresarial",
          "Empresarial",
          "Empresarial",
          "Empresarial",
          "Empresarial",
          "Empresarial",
          "Empresarial",
          "Empresarial",
          "Equidad de género",
          "Equidad de género",
          "Equidad de género",
          "Equidad de género",
          "Equidad de género",
          "Equidad de género",
          "Equidad de género",
          "Equidad de género",
          "Equidad de género",
          "Equidad de género",
          "Equidad de género",
          "Equidad de género",
          "Equidad de género",
          "Equidad de género",
          "Equidad de género",
          "Equidad de género",
          "Equidad de género",
          "Equidad de género",
          "Equidad de género",
          "Equidad de género",
          "Equidad de género",
          "Equidad de género",
          "Equidad de género",
          "Espiritualidad",
          "Feminismo",
          "Feminismo",
          "Feminismo",
          "Feminismo",
          "Feminismo",
          "Feminismo",
          "Feminismo",
          "Feminismo",
          "Feminismo",
          "Filosofia",
          "Finanzas",
          "Finanzas",
          "Finanzas",
          "Finanzas",
          "Finanzas",
          "Finanzas",
          "Finanzas",
          "Finanzas",
          "Finanzas",
          "Finanzas",
          "Finanzas",
          "Finanzas",
          "Finanzas",
          "Finanzas",
          "Finanzas",
          "Finanzas",
          "Finanzas",
          "Finanzas",
          "Finanzas",
          "Finanzas",
          "Finanzas",
          "Finanzas",
          "Finanzas",
          "Finanzas",
          "Finanzas",
          "Finanzas",
          "Finanzas",
          "Finanzas",
          "Finanzas",
          "Finanzas",
          "Finanzas",
          "Finanzas",
          "Finanzas",
          "Finanzas",
          "Finanzas",
          "Finanzas",
          "Finanzas",
          "Finanzas",
          "Finanzas",
          "Finanzas",
          "Finanzas",
          "Finanzas",
          "Finanzas",
          "Finanzas",
          "Finanzas",
          "Finanzas",
          "Finanzas",
          "Finanzas",
          "Finanzas",
          "Finanzas",
          "Finanzas",
          "Finanzas",
          "Finanzas",
          "Finanzas",
          "Finanzas",
          "Finanzas",
          "Finanzas",
          "Finanzas",
          "Finanzas",
          "Finanzas",
          "Finanzas",
          "Finanzas",
          "Finanzas",
          "Finanzas",
          "Futuro",
          "Futuro",
          "Futuro",
          "Futuro",
          "Futuro",
          "Futuro",
          "Futuro",
          "Futuro",
          "Futuro",
          "Futuro",
          "Futuro",
          "Futuro",
          "Futuro",
          "Futuro y amor propio",
          "Inclusión",
          "Inclusión",
          "Inclusión",
          "Inclusión",
          "Inclusión",
          "Inclusión",
          "Inclusión ",
          "Inclusión ",
          "Inclusión  ",
          "Inseguridad",
          "Inseguridad",
          "Inseguridad",
          "Inseguridad",
          "Inseguridad",
          "Inseguridad",
          "Inseguridad",
          "Inseguridad",
          "Inteligencia emocional",
          "Inteligencia emocional",
          "Inteligencia emocional",
          "Inteligencia emocional",
          "Inteligencia emocional",
          "Inteligencia emocional",
          "Inteligencia emocional",
          "Inteligencia emocional",
          "Inteligencia emocional",
          "Inteligencia emocional",
          "Inteligencia emocional",
          "Inteligencia emocional",
          "Inteligencia emocional",
          "Inteligencia emocional",
          "Inteligencia emocional",
          "Inteligencia emocional",
          "Inteligencia emocional",
          "Inteligencia emocional",
          "Inteligencia emocional",
          "Inteligencia emocional",
          "Inteligencia emocional",
          "Inteligencia emocional",
          "Inteligencia emocional",
          "Inteligencia emocional",
          "Inteligencia emocional",
          "Inteligencia emocional",
          "Inteligencia emocional",
          "Inteligencia emocional",
          "Inteligencia emocional ",
          "Inteligencia emocional ",
          "Laboral",
          "Laboral",
          "Laboral",
          "Laboral",
          "Laboral",
          "Laboral",
          "Laboral",
          "Laboral",
          "Laboral",
          "Laboral",
          "Laboral",
          "Laboral",
          "Laboral",
          "Laboral",
          "Laboral",
          "Laboral",
          "Laboral",
          "Laboral",
          "Laboral",
          "Laboral",
          "Laboral",
          "Laboral",
          "Laboral",
          "Laboral",
          "Laboral",
          "Laboral",
          "Laboral",
          "Laboral",
          "Laboral",
          "Laboral",
          "Laboral",
          "Laboral",
          "Laboral",
          "Laboral",
          "Laboral",
          "Laboral ",
          "Laboral ",
          "Laboral ",
          "Laboral ",
          "Laboral ",
          "Legal",
          "Libertad",
          "Liderazgo",
          "Liderazgo",
          "Liderazgo",
          "Liderazgo",
          "Liderazgo ",
          "Liderazgo ",
          "Machismo",
          "Machismo",
          "Medio ambiente",
          "Medio ambiente",
          "Medio ambiente",
          "Medio ambiente",
          "Medio ambiente",
          "Medio Ambiente",
          "Medio ambiente",
          "Medio ambiente",
          "Medio ambiente",
          "Medio ambiente",
          "Medio ambiente",
          "Medio Ambiente",
          "Medio Ambiente",
          "Medio ambiente",
          "Medio ambiente",
          "Medio ambiente",
          "Medio ambiente",
          "Medio ambiente",
          "Medio ambiente",
          "Medio ambiente",
          "Medio ambiente",
          "Medio ambiente",
          "Medio ambiente",
          "Medio ambiente ",
          "Medio ambiente ",
          "Medio ambiente ",
          "Medio Ambiente ",
          "Medio Ambiente ",
          "Medio ambiente ",
          "Medio ambiente ",
          "Política",
          "Política",
          "Política",
          "Política",
          "Política",
          "Política",
          "Política",
          "Política",
          "Política",
          "Política",
          "Política",
          "Política",
          "Política",
          "Política",
          "Política",
          "Política",
          "Política",
          "Política",
          "Política",
          "Política",
          "Política",
          "Política",
          "Política",
          "Política",
          "Política",
          "Política",
          "Política",
          "Política",
          "Política",
          "Política",
          "Política",
          "Política",
          "Política",
          "Política",
          "Política",
          "Política",
          "Política",
          "Política",
          "Política",
          "Política",
          "Política",
          "Política",
          "Política",
          "Política",
          "Política",
          "Política",
          "Política",
          "Política",
          "Política",
          "Política",
          "Política",
          "Política",
          "Prevención en situaciones de riesgo",
          "Redes sociales",
          "Redes sociales",
          "Redes sociales",
          "Redes sociales ",
          "Religión",
          "Religión",
          "Religión",
          "Responsabilidad emocional",
          "Responsabilidad social",
          "Responsabilidad social",
          "Responsabilidad social",
          "Responsabilidad social",
          "Responsabilidad social",
          "Responsabilidad social",
          "Responsabilidad social",
          "Responsabilidad social",
          "Responsabilidad social ",
          "Responsabilidad social ",
          "Salud",
          "Salud",
          "Salud",
          "Salud",
          "Salud",
          "Salud  ",
          "Salud  ",
          "Salud mental",
          "Salud mental",
          "Salud mental",
          "Salud mental",
          "Salud mental",
          "Salud mental",
          "Salud mental",
          "Salud mental",
          "Salud mental",
          "Salud mental",
          "Salud mental",
          "Salud mental",
          "Salud mental",
          "Salud mental",
          "Salud mental",
          "Salud mental",
          "Salud mental",
          "Salud mental",
          "Salud mental",
          "Salud mental",
          "Salud mental",
          "Salud mental",
          "Salud mental",
          "Salud mental",
          "Salud mental",
          "Salud mental",
          "Salud mental",
          "Salud mental",
          "Seguridad",
          "Seguridad",
          "Seguridad",
          "Seguridad",
          "Seguridad",
          "Seguridad",
          "Seguridad",
          "Seguridad",
          "Seguridad",
          "Seguridad",
          "Seguridad",
          "Seguridad",
          "Seguridad",
          "Seguridad",
          "Seguridad ",
          "Seguridad ",
          "Seguridad ",
          "Seguridad ",
          "Sexualidad",
          "Sexualidad",
          "Sexualidad",
          "Sexualidad",
          "Sexualidad",
          "Sexualidad",
          "Sexualidad",
          "Sexualidad",
          "Sexualidad",
          "Sexualidad",
          "Sexualidad",
          "Sexualidad",
          "Sexualidad",
          "Sexualidad",
          "Sexualidad",
          "Sexualidad",
          "Sexualidad",
          "Sexualidad",
          "Sexualidad",
          "Sexualidad",
          "Sexualidad",
          "Sexualidad",
          "Sexualidad",
          "Sexualidad",
          "Sexualidad",
          "Sexualidad",
          "Sexualidad",
          "Sexualidad",
          "Sexualidad",
          "Sexualidad",
          "Sexualidad",
          "Sexualidad",
          "Sexualidad",
          "Sexualidad",
          "Sexualidad",
          "Sexualidad",
          "Sexualidad",
          "Sexualidad",
          "Sexualidad",
          "Sexualidad",
          "Sexualidad",
          "Sexualidad",
          "Sexualidad",
          "Sexualidad",
          "Sexualidad",
          "Sexualidad",
          "Sexualidad",
          "Sexualidad",
          "Sexualidad",
          "Sexualidad",
          "Sexualidad",
          "Sexualidad",
          "Sexualidad",
          "Sexualidad",
          "Sociedad",
          "Sociedad",
          "Sociedad",
          "Sociedad",
          "Sociedad",
          "Sociedad",
          "Sociedad",
          "Sociedad",
          "Sociedad",
          "Sociedad",
          "Sociedad",
          "Sociedad",
          "Sociedad",
          "Sociedad",
          "Sociedad",
          "Sociedad",
          "Sociedad",
          "Sociedad",
          "Sociedad",
          "Sociedad",
          "Sociedad",
          "Sociedad",
          "Sociedad",
          "Sociedad",
          "Sociedad",
          "Sociedad",
          "Sociedad",
          "Sociedad",
          "Sociedad",
          "Sociedad",
          "Sociedad",
          "Sociedad",
          "Sociedad",
          "Sociedad",
          "Sociedad",
          "Sociedad",
          "Sociedad",
          "Sociedad",
          "Sociedad",
          "Sociedad",
          "Sociedad",
          "Sociedad",
          "Sociedad",
          "Sociedad",
          "Sociedad",
          "Sociedad",
          "Sociedad",
          "Sociedad",
          "Sociedad",
          "Sociedad",
          "Sociedad",
          "Sociedad",
          "Sociedad",
          "Sociedad ",
          "Sociedad ",
          "Sociedad ",
          "Sociedad ",
          "Sociedad ",
          "Tecnología",
          "Tecnología",
          "Tecnología",
          "Tecnología",
          "Tecnología",
          "Tecnología",
          "Diálogo",
          "Diálogo",
          "Diálogo",
          "Diálogo",
          "Diálogo",
          "Vicios",
          "Vicios",
          "Vicios",
          "Vicios",
          "Vicios",
          "Vicios",
          "Vicios ",
          "Violencia",
          "Violencia",
          "Actualidad",
          "Actualidad"
         ],
         "xaxis": "x",
         "yaxis": "y"
        }
       ],
       "layout": {
        "barmode": "relative",
        "legend": {
         "tracegroupgap": 0
        },
        "template": {
         "data": {
          "bar": [
           {
            "error_x": {
             "color": "#2a3f5f"
            },
            "error_y": {
             "color": "#2a3f5f"
            },
            "marker": {
             "line": {
              "color": "#E5ECF6",
              "width": 0.5
             },
             "pattern": {
              "fillmode": "overlay",
              "size": 10,
              "solidity": 0.2
             }
            },
            "type": "bar"
           }
          ],
          "barpolar": [
           {
            "marker": {
             "line": {
              "color": "#E5ECF6",
              "width": 0.5
             },
             "pattern": {
              "fillmode": "overlay",
              "size": 10,
              "solidity": 0.2
             }
            },
            "type": "barpolar"
           }
          ],
          "carpet": [
           {
            "aaxis": {
             "endlinecolor": "#2a3f5f",
             "gridcolor": "white",
             "linecolor": "white",
             "minorgridcolor": "white",
             "startlinecolor": "#2a3f5f"
            },
            "baxis": {
             "endlinecolor": "#2a3f5f",
             "gridcolor": "white",
             "linecolor": "white",
             "minorgridcolor": "white",
             "startlinecolor": "#2a3f5f"
            },
            "type": "carpet"
           }
          ],
          "choropleth": [
           {
            "colorbar": {
             "outlinewidth": 0,
             "ticks": ""
            },
            "type": "choropleth"
           }
          ],
          "contour": [
           {
            "colorbar": {
             "outlinewidth": 0,
             "ticks": ""
            },
            "colorscale": [
             [
              0,
              "#0d0887"
             ],
             [
              0.1111111111111111,
              "#46039f"
             ],
             [
              0.2222222222222222,
              "#7201a8"
             ],
             [
              0.3333333333333333,
              "#9c179e"
             ],
             [
              0.4444444444444444,
              "#bd3786"
             ],
             [
              0.5555555555555556,
              "#d8576b"
             ],
             [
              0.6666666666666666,
              "#ed7953"
             ],
             [
              0.7777777777777778,
              "#fb9f3a"
             ],
             [
              0.8888888888888888,
              "#fdca26"
             ],
             [
              1,
              "#f0f921"
             ]
            ],
            "type": "contour"
           }
          ],
          "contourcarpet": [
           {
            "colorbar": {
             "outlinewidth": 0,
             "ticks": ""
            },
            "type": "contourcarpet"
           }
          ],
          "heatmap": [
           {
            "colorbar": {
             "outlinewidth": 0,
             "ticks": ""
            },
            "colorscale": [
             [
              0,
              "#0d0887"
             ],
             [
              0.1111111111111111,
              "#46039f"
             ],
             [
              0.2222222222222222,
              "#7201a8"
             ],
             [
              0.3333333333333333,
              "#9c179e"
             ],
             [
              0.4444444444444444,
              "#bd3786"
             ],
             [
              0.5555555555555556,
              "#d8576b"
             ],
             [
              0.6666666666666666,
              "#ed7953"
             ],
             [
              0.7777777777777778,
              "#fb9f3a"
             ],
             [
              0.8888888888888888,
              "#fdca26"
             ],
             [
              1,
              "#f0f921"
             ]
            ],
            "type": "heatmap"
           }
          ],
          "heatmapgl": [
           {
            "colorbar": {
             "outlinewidth": 0,
             "ticks": ""
            },
            "colorscale": [
             [
              0,
              "#0d0887"
             ],
             [
              0.1111111111111111,
              "#46039f"
             ],
             [
              0.2222222222222222,
              "#7201a8"
             ],
             [
              0.3333333333333333,
              "#9c179e"
             ],
             [
              0.4444444444444444,
              "#bd3786"
             ],
             [
              0.5555555555555556,
              "#d8576b"
             ],
             [
              0.6666666666666666,
              "#ed7953"
             ],
             [
              0.7777777777777778,
              "#fb9f3a"
             ],
             [
              0.8888888888888888,
              "#fdca26"
             ],
             [
              1,
              "#f0f921"
             ]
            ],
            "type": "heatmapgl"
           }
          ],
          "histogram": [
           {
            "marker": {
             "pattern": {
              "fillmode": "overlay",
              "size": 10,
              "solidity": 0.2
             }
            },
            "type": "histogram"
           }
          ],
          "histogram2d": [
           {
            "colorbar": {
             "outlinewidth": 0,
             "ticks": ""
            },
            "colorscale": [
             [
              0,
              "#0d0887"
             ],
             [
              0.1111111111111111,
              "#46039f"
             ],
             [
              0.2222222222222222,
              "#7201a8"
             ],
             [
              0.3333333333333333,
              "#9c179e"
             ],
             [
              0.4444444444444444,
              "#bd3786"
             ],
             [
              0.5555555555555556,
              "#d8576b"
             ],
             [
              0.6666666666666666,
              "#ed7953"
             ],
             [
              0.7777777777777778,
              "#fb9f3a"
             ],
             [
              0.8888888888888888,
              "#fdca26"
             ],
             [
              1,
              "#f0f921"
             ]
            ],
            "type": "histogram2d"
           }
          ],
          "histogram2dcontour": [
           {
            "colorbar": {
             "outlinewidth": 0,
             "ticks": ""
            },
            "colorscale": [
             [
              0,
              "#0d0887"
             ],
             [
              0.1111111111111111,
              "#46039f"
             ],
             [
              0.2222222222222222,
              "#7201a8"
             ],
             [
              0.3333333333333333,
              "#9c179e"
             ],
             [
              0.4444444444444444,
              "#bd3786"
             ],
             [
              0.5555555555555556,
              "#d8576b"
             ],
             [
              0.6666666666666666,
              "#ed7953"
             ],
             [
              0.7777777777777778,
              "#fb9f3a"
             ],
             [
              0.8888888888888888,
              "#fdca26"
             ],
             [
              1,
              "#f0f921"
             ]
            ],
            "type": "histogram2dcontour"
           }
          ],
          "mesh3d": [
           {
            "colorbar": {
             "outlinewidth": 0,
             "ticks": ""
            },
            "type": "mesh3d"
           }
          ],
          "parcoords": [
           {
            "line": {
             "colorbar": {
              "outlinewidth": 0,
              "ticks": ""
             }
            },
            "type": "parcoords"
           }
          ],
          "pie": [
           {
            "automargin": true,
            "type": "pie"
           }
          ],
          "scatter": [
           {
            "marker": {
             "colorbar": {
              "outlinewidth": 0,
              "ticks": ""
             }
            },
            "type": "scatter"
           }
          ],
          "scatter3d": [
           {
            "line": {
             "colorbar": {
              "outlinewidth": 0,
              "ticks": ""
             }
            },
            "marker": {
             "colorbar": {
              "outlinewidth": 0,
              "ticks": ""
             }
            },
            "type": "scatter3d"
           }
          ],
          "scattercarpet": [
           {
            "marker": {
             "colorbar": {
              "outlinewidth": 0,
              "ticks": ""
             }
            },
            "type": "scattercarpet"
           }
          ],
          "scattergeo": [
           {
            "marker": {
             "colorbar": {
              "outlinewidth": 0,
              "ticks": ""
             }
            },
            "type": "scattergeo"
           }
          ],
          "scattergl": [
           {
            "marker": {
             "colorbar": {
              "outlinewidth": 0,
              "ticks": ""
             }
            },
            "type": "scattergl"
           }
          ],
          "scattermapbox": [
           {
            "marker": {
             "colorbar": {
              "outlinewidth": 0,
              "ticks": ""
             }
            },
            "type": "scattermapbox"
           }
          ],
          "scatterpolar": [
           {
            "marker": {
             "colorbar": {
              "outlinewidth": 0,
              "ticks": ""
             }
            },
            "type": "scatterpolar"
           }
          ],
          "scatterpolargl": [
           {
            "marker": {
             "colorbar": {
              "outlinewidth": 0,
              "ticks": ""
             }
            },
            "type": "scatterpolargl"
           }
          ],
          "scatterternary": [
           {
            "marker": {
             "colorbar": {
              "outlinewidth": 0,
              "ticks": ""
             }
            },
            "type": "scatterternary"
           }
          ],
          "surface": [
           {
            "colorbar": {
             "outlinewidth": 0,
             "ticks": ""
            },
            "colorscale": [
             [
              0,
              "#0d0887"
             ],
             [
              0.1111111111111111,
              "#46039f"
             ],
             [
              0.2222222222222222,
              "#7201a8"
             ],
             [
              0.3333333333333333,
              "#9c179e"
             ],
             [
              0.4444444444444444,
              "#bd3786"
             ],
             [
              0.5555555555555556,
              "#d8576b"
             ],
             [
              0.6666666666666666,
              "#ed7953"
             ],
             [
              0.7777777777777778,
              "#fb9f3a"
             ],
             [
              0.8888888888888888,
              "#fdca26"
             ],
             [
              1,
              "#f0f921"
             ]
            ],
            "type": "surface"
           }
          ],
          "table": [
           {
            "cells": {
             "fill": {
              "color": "#EBF0F8"
             },
             "line": {
              "color": "white"
             }
            },
            "header": {
             "fill": {
              "color": "#C8D4E3"
             },
             "line": {
              "color": "white"
             }
            },
            "type": "table"
           }
          ]
         },
         "layout": {
          "annotationdefaults": {
           "arrowcolor": "#2a3f5f",
           "arrowhead": 0,
           "arrowwidth": 1
          },
          "autotypenumbers": "strict",
          "coloraxis": {
           "colorbar": {
            "outlinewidth": 0,
            "ticks": ""
           }
          },
          "colorscale": {
           "diverging": [
            [
             0,
             "#8e0152"
            ],
            [
             0.1,
             "#c51b7d"
            ],
            [
             0.2,
             "#de77ae"
            ],
            [
             0.3,
             "#f1b6da"
            ],
            [
             0.4,
             "#fde0ef"
            ],
            [
             0.5,
             "#f7f7f7"
            ],
            [
             0.6,
             "#e6f5d0"
            ],
            [
             0.7,
             "#b8e186"
            ],
            [
             0.8,
             "#7fbc41"
            ],
            [
             0.9,
             "#4d9221"
            ],
            [
             1,
             "#276419"
            ]
           ],
           "sequential": [
            [
             0,
             "#0d0887"
            ],
            [
             0.1111111111111111,
             "#46039f"
            ],
            [
             0.2222222222222222,
             "#7201a8"
            ],
            [
             0.3333333333333333,
             "#9c179e"
            ],
            [
             0.4444444444444444,
             "#bd3786"
            ],
            [
             0.5555555555555556,
             "#d8576b"
            ],
            [
             0.6666666666666666,
             "#ed7953"
            ],
            [
             0.7777777777777778,
             "#fb9f3a"
            ],
            [
             0.8888888888888888,
             "#fdca26"
            ],
            [
             1,
             "#f0f921"
            ]
           ],
           "sequentialminus": [
            [
             0,
             "#0d0887"
            ],
            [
             0.1111111111111111,
             "#46039f"
            ],
            [
             0.2222222222222222,
             "#7201a8"
            ],
            [
             0.3333333333333333,
             "#9c179e"
            ],
            [
             0.4444444444444444,
             "#bd3786"
            ],
            [
             0.5555555555555556,
             "#d8576b"
            ],
            [
             0.6666666666666666,
             "#ed7953"
            ],
            [
             0.7777777777777778,
             "#fb9f3a"
            ],
            [
             0.8888888888888888,
             "#fdca26"
            ],
            [
             1,
             "#f0f921"
            ]
           ]
          },
          "colorway": [
           "#636efa",
           "#EF553B",
           "#00cc96",
           "#ab63fa",
           "#FFA15A",
           "#19d3f3",
           "#FF6692",
           "#B6E880",
           "#FF97FF",
           "#FECB52"
          ],
          "font": {
           "color": "#2a3f5f"
          },
          "geo": {
           "bgcolor": "white",
           "lakecolor": "white",
           "landcolor": "#E5ECF6",
           "showlakes": true,
           "showland": true,
           "subunitcolor": "white"
          },
          "hoverlabel": {
           "align": "left"
          },
          "hovermode": "closest",
          "mapbox": {
           "style": "light"
          },
          "paper_bgcolor": "white",
          "plot_bgcolor": "#E5ECF6",
          "polar": {
           "angularaxis": {
            "gridcolor": "white",
            "linecolor": "white",
            "ticks": ""
           },
           "bgcolor": "#E5ECF6",
           "radialaxis": {
            "gridcolor": "white",
            "linecolor": "white",
            "ticks": ""
           }
          },
          "scene": {
           "xaxis": {
            "backgroundcolor": "#E5ECF6",
            "gridcolor": "white",
            "gridwidth": 2,
            "linecolor": "white",
            "showbackground": true,
            "ticks": "",
            "zerolinecolor": "white"
           },
           "yaxis": {
            "backgroundcolor": "#E5ECF6",
            "gridcolor": "white",
            "gridwidth": 2,
            "linecolor": "white",
            "showbackground": true,
            "ticks": "",
            "zerolinecolor": "white"
           },
           "zaxis": {
            "backgroundcolor": "#E5ECF6",
            "gridcolor": "white",
            "gridwidth": 2,
            "linecolor": "white",
            "showbackground": true,
            "ticks": "",
            "zerolinecolor": "white"
           }
          },
          "shapedefaults": {
           "line": {
            "color": "#2a3f5f"
           }
          },
          "ternary": {
           "aaxis": {
            "gridcolor": "white",
            "linecolor": "white",
            "ticks": ""
           },
           "baxis": {
            "gridcolor": "white",
            "linecolor": "white",
            "ticks": ""
           },
           "bgcolor": "#E5ECF6",
           "caxis": {
            "gridcolor": "white",
            "linecolor": "white",
            "ticks": ""
           }
          },
          "title": {
           "x": 0.05
          },
          "xaxis": {
           "automargin": true,
           "gridcolor": "white",
           "linecolor": "white",
           "ticks": "",
           "title": {
            "standoff": 15
           },
           "zerolinecolor": "white",
           "zerolinewidth": 2
          },
          "yaxis": {
           "automargin": true,
           "gridcolor": "white",
           "linecolor": "white",
           "ticks": "",
           "title": {
            "standoff": 15
           },
           "zerolinecolor": "white",
           "zerolinewidth": 2
          }
         }
        },
        "title": {
         "text": "Temas que hacen falta que los jóvenes hablen"
        },
        "xaxis": {
         "anchor": "y",
         "categoryorder": "total descending",
         "domain": [
          0,
          1
         ],
         "title": {
          "text": "Categorías"
         }
        },
        "yaxis": {
         "anchor": "x",
         "domain": [
          0,
          1
         ],
         "title": {
          "text": "count"
         },
         "type": "log"
        }
       }
      }
     },
     "metadata": {},
     "output_type": "display_data"
    }
   ],
   "source": [
    "df1.head()\n",
    "\n",
    "df1['Categorías'].fillna(\"Actualidad\", inplace = True)\n",
    "df1['Categorías'] = df1['Categorías'].replace(['Emprendimiento '],'Emprendimiento')\n",
    "df1['Categorías'] = df1['Categorías'].replace(['Inseguridad '],'Inseguridad')\n",
    "df1['Categorías'] = df1['Categorías'].replace(['Salud mental ', 'Salud Mental'],'Salud mental')\n",
    "df1['Categorías'] = df1['Categorías'].replace(['Todo'],'Diálogo')\n",
    "\n",
    "fig = px.histogram(df1, x=\"Categorías\",\n",
    "                   title='Temas que hacen falta que los jóvenes hablen',\n",
    "                   color_discrete_sequence=['darkred'],\n",
    "                   log_y=True, # represent bars with log scale\n",
    "                   text_auto= True\n",
    "                   ).update_xaxes(categoryorder='total descending')\n",
    "                   \n",
    "fig.show()"
   ]
  },
  {
   "cell_type": "markdown",
   "metadata": {},
   "source": [
    "### Temas que dan miedo hablar"
   ]
  },
  {
   "cell_type": "code",
   "execution_count": 10,
   "metadata": {},
   "outputs": [
    {
     "data": {
      "application/vnd.plotly.v1+json": {
       "config": {
        "plotlyServerURL": "https://plot.ly"
       },
       "data": [
        {
         "alignmentgroup": "True",
         "bingroup": "x",
         "hovertemplate": "Categorías=%{x}<br>count=%{y}<extra></extra>",
         "legendgroup": "",
         "marker": {
          "color": "darkred",
          "pattern": {
           "shape": ""
          }
         },
         "name": "",
         "offsetgroup": "",
         "orientation": "v",
         "showlegend": false,
         "texttemplate": "%{value}",
         "type": "histogram",
         "x": [
          "Política",
          "Política",
          "Salud mental",
          "Sexual",
          "Sexual",
          "Sexual",
          "Sexual",
          "Sexual",
          "Sexual",
          "Sexual",
          "Sexual",
          "Sexual",
          "Feminismo",
          "Sexual",
          "Feminismo",
          "Sexual",
          "Medio ambiente",
          "Sexual",
          "Educación",
          "Sexual",
          "Sexual",
          "Sexual",
          "Medio ambiente",
          "Seguridad",
          "Política",
          "Religión",
          "Política",
          "Futbol",
          "Ciencia ",
          "Amor propio",
          "Educación",
          "Empresarial",
          "Seguridad",
          "Salud mental",
          "Inclusión",
          "Feminismo",
          "Inclusión",
          "Educación",
          "Todo",
          "Feminismo",
          "Medio ambiente",
          "Sexual",
          "Seguridad",
          "Feminismo",
          "Seguridad",
          "Seguridad",
          "Sexual",
          "Desarrollo personal",
          "Laboral",
          "Finanzas",
          "Vicios",
          "Medio ambiente",
          "Economía",
          "Economía",
          "Inteligencia emocional",
          "Economía",
          "Medio ambiente",
          "Educación",
          "Educación",
          "Educación",
          "Feminismo",
          "Futuro",
          "Futuro",
          "Empoderamiento de la mujer",
          "Emprendimiento",
          "Emprendimiento",
          "Laboral",
          "Política",
          "Equidad de género",
          "Equidad de género",
          "Equidad de género",
          "Inteligencia emocional",
          "Dialogo",
          "Seguridad",
          "Seguridad",
          "Seguridad",
          "Seguridad",
          "Feminismo",
          "Feminismo",
          "Feminismo",
          "Feminismo",
          "Feminismo",
          "Feminismo",
          "Feminismo",
          "Feminismo",
          "Seguridad",
          "Feminismo",
          "Política",
          "Feminismo",
          "Sexual",
          "Vicios",
          "Feminismo",
          "Finanzas",
          "Finanzas",
          "Política",
          "Finanzas",
          "Equidad de género",
          "Inclusión",
          "Equidad de género",
          "Machismo",
          "Diversidad",
          "Política",
          "Diversidad",
          "Equidad de género",
          "Política",
          "Laboral",
          "Feminismo",
          "Religión",
          "Equidad de género",
          "Equidad de género",
          "Economía",
          "Seguridad",
          "Seguridad",
          "Seguridad",
          "Seguridad",
          "Seguridad",
          "Seguridad",
          "Política",
          "Seguridad",
          "Sexual",
          "Seguridad",
          "Diversidad",
          "Seguridad",
          "Derechos",
          "Equidad de género",
          "Sociedad",
          "Inclusión",
          "Política",
          "Economía",
          "Seguridad",
          "Sexual",
          "Economía",
          "Política",
          "Seguridad",
          "Sexual",
          "Diversidad",
          "Diversidad",
          "Diversidad",
          "Seguridad",
          "Machismo",
          "Machismo",
          "Machismo",
          "Machismo",
          "Equidad de género",
          "Machismo",
          "Feminismo",
          "Responsabilidad social",
          "Laboral",
          "Seguridad",
          "Seguridad",
          "Seguridad",
          "Política",
          "Política",
          "Seguridad",
          "Seguridad",
          "Religión",
          "Emprendimiento",
          "Diversidad",
          "Inclusión",
          "Sexual",
          "Desarrollo personal",
          "Equidad de género",
          "Equidad de género",
          "Equidad de género",
          "Desarrollo personal",
          "Salud",
          "Seguridad",
          "Política",
          "Política",
          "Política",
          "Política",
          "Política",
          "Política",
          "Política",
          "Política",
          "Política",
          "Política",
          "Política",
          "Política",
          "Política",
          "Política",
          "Política",
          "Política",
          "Política",
          "Política",
          "Política",
          "Política",
          "Política",
          "Política",
          "Política",
          "Política",
          "Política",
          "Política",
          "Política",
          "Política",
          "Política",
          "Política",
          "Política",
          "Política",
          "Política",
          "Política",
          "Política",
          "Política",
          "Política",
          "Política",
          "Política",
          "Política",
          "Política",
          "Política",
          "Política",
          "Política",
          "Política",
          "Medio ambiente",
          "Seguridad",
          "Política",
          "Política",
          "Seguridad",
          "Política",
          "Equidad de género",
          "Política",
          "Economía",
          "Política",
          "Política",
          "Economía",
          "Política",
          "Política",
          "Sexual",
          "Seguridad",
          "Feminismo",
          "Política",
          "Medio ambiente",
          "Política",
          "Política",
          "Laboral",
          "Política",
          "Religión",
          "Salud",
          "Política",
          "Religión",
          "Sexual",
          "Política",
          "Seguridad",
          "Política",
          "Seguridad",
          "Seguridad",
          "Política",
          "Política",
          "Política",
          "Equidad de género",
          "Política",
          "Diversidad",
          "Política",
          "Sexual",
          "Sociedad",
          "Desarrollo personal",
          "Sexual",
          "Sociedad",
          "Religión",
          "Religión",
          "Religión",
          "Religión",
          "Religión",
          "Religión",
          "Religión",
          "Sociedad",
          "Religión",
          "Política",
          "Religión",
          "Política",
          "Religión",
          "Inclusión",
          "Religión",
          "Política",
          "Economía",
          "Sociedad",
          "Religión",
          "Política",
          "Diversidad",
          "Religión",
          "Laboral",
          "Laboral",
          "Salud mental ",
          "Seguridad",
          "Seguridad",
          "Seguridad",
          "Seguridad",
          "Seguridad",
          "Seguridad",
          "Seguridad",
          "Seguridad",
          "Feminismo",
          "Educación",
          "Seguridad",
          "Laboral",
          "Economía",
          "Seguridad",
          "Sexual",
          "Laboral",
          "Seguridad",
          "Inteligencia emocional",
          "Sexual",
          "Sexual",
          "Sexual",
          "Sexual",
          "Sexual",
          "Sexual",
          "Sexual",
          "Religión",
          "Política",
          "Sexual",
          "Seguridad",
          "Salud",
          "Actualidad ",
          "Seguridad",
          "Sexual",
          "Política",
          "Sociedad",
          "Emprendimiento",
          "Política",
          "Sexual",
          "Laboral",
          "Seguridad",
          "Sexual",
          "Empoderamiento de la mujer",
          "Machismo",
          "Feminismo",
          "Sexual",
          "Feminismo",
          "Diversidad",
          "Diversidad",
          "Seguridad",
          "Seguridad",
          "Seguridad",
          "Política",
          "Seguridad",
          "Política",
          "Salud",
          "Seguridad",
          "Laboral",
          "Todo",
          "Laboral",
          "Sociedad",
          "Desarrollo personal",
          "Desarrollo personal",
          "Educación",
          "Política",
          "Empoderamiento de la mujer",
          "Inclusión",
          "Política",
          "Religión",
          "Política",
          "Seguridad",
          "Equidad de género",
          "Política",
          "Laboral",
          "Política",
          "Empoderamiento de la mujer",
          "Política",
          "Economía",
          "Emprendimiento",
          "Sociedad",
          "Seguridad",
          "Sociedad",
          "Machismo",
          "Diversidad",
          "Educación",
          "Feminismo",
          "Diversidad",
          "Desarrollo personal",
          "Diversidad",
          "Sociedad",
          "Todo",
          "Diversidad",
          "Todo",
          "Laboral",
          "Laboral",
          "Laboral",
          "Seguridad",
          "Política",
          "Seguridad",
          "Diversidad",
          "Inclusión",
          "Laboral",
          "Seguridad",
          "Seguridad"
         ],
         "xaxis": "x",
         "yaxis": "y"
        }
       ],
       "layout": {
        "barmode": "relative",
        "legend": {
         "tracegroupgap": 0
        },
        "template": {
         "data": {
          "bar": [
           {
            "error_x": {
             "color": "#2a3f5f"
            },
            "error_y": {
             "color": "#2a3f5f"
            },
            "marker": {
             "line": {
              "color": "#E5ECF6",
              "width": 0.5
             },
             "pattern": {
              "fillmode": "overlay",
              "size": 10,
              "solidity": 0.2
             }
            },
            "type": "bar"
           }
          ],
          "barpolar": [
           {
            "marker": {
             "line": {
              "color": "#E5ECF6",
              "width": 0.5
             },
             "pattern": {
              "fillmode": "overlay",
              "size": 10,
              "solidity": 0.2
             }
            },
            "type": "barpolar"
           }
          ],
          "carpet": [
           {
            "aaxis": {
             "endlinecolor": "#2a3f5f",
             "gridcolor": "white",
             "linecolor": "white",
             "minorgridcolor": "white",
             "startlinecolor": "#2a3f5f"
            },
            "baxis": {
             "endlinecolor": "#2a3f5f",
             "gridcolor": "white",
             "linecolor": "white",
             "minorgridcolor": "white",
             "startlinecolor": "#2a3f5f"
            },
            "type": "carpet"
           }
          ],
          "choropleth": [
           {
            "colorbar": {
             "outlinewidth": 0,
             "ticks": ""
            },
            "type": "choropleth"
           }
          ],
          "contour": [
           {
            "colorbar": {
             "outlinewidth": 0,
             "ticks": ""
            },
            "colorscale": [
             [
              0,
              "#0d0887"
             ],
             [
              0.1111111111111111,
              "#46039f"
             ],
             [
              0.2222222222222222,
              "#7201a8"
             ],
             [
              0.3333333333333333,
              "#9c179e"
             ],
             [
              0.4444444444444444,
              "#bd3786"
             ],
             [
              0.5555555555555556,
              "#d8576b"
             ],
             [
              0.6666666666666666,
              "#ed7953"
             ],
             [
              0.7777777777777778,
              "#fb9f3a"
             ],
             [
              0.8888888888888888,
              "#fdca26"
             ],
             [
              1,
              "#f0f921"
             ]
            ],
            "type": "contour"
           }
          ],
          "contourcarpet": [
           {
            "colorbar": {
             "outlinewidth": 0,
             "ticks": ""
            },
            "type": "contourcarpet"
           }
          ],
          "heatmap": [
           {
            "colorbar": {
             "outlinewidth": 0,
             "ticks": ""
            },
            "colorscale": [
             [
              0,
              "#0d0887"
             ],
             [
              0.1111111111111111,
              "#46039f"
             ],
             [
              0.2222222222222222,
              "#7201a8"
             ],
             [
              0.3333333333333333,
              "#9c179e"
             ],
             [
              0.4444444444444444,
              "#bd3786"
             ],
             [
              0.5555555555555556,
              "#d8576b"
             ],
             [
              0.6666666666666666,
              "#ed7953"
             ],
             [
              0.7777777777777778,
              "#fb9f3a"
             ],
             [
              0.8888888888888888,
              "#fdca26"
             ],
             [
              1,
              "#f0f921"
             ]
            ],
            "type": "heatmap"
           }
          ],
          "heatmapgl": [
           {
            "colorbar": {
             "outlinewidth": 0,
             "ticks": ""
            },
            "colorscale": [
             [
              0,
              "#0d0887"
             ],
             [
              0.1111111111111111,
              "#46039f"
             ],
             [
              0.2222222222222222,
              "#7201a8"
             ],
             [
              0.3333333333333333,
              "#9c179e"
             ],
             [
              0.4444444444444444,
              "#bd3786"
             ],
             [
              0.5555555555555556,
              "#d8576b"
             ],
             [
              0.6666666666666666,
              "#ed7953"
             ],
             [
              0.7777777777777778,
              "#fb9f3a"
             ],
             [
              0.8888888888888888,
              "#fdca26"
             ],
             [
              1,
              "#f0f921"
             ]
            ],
            "type": "heatmapgl"
           }
          ],
          "histogram": [
           {
            "marker": {
             "pattern": {
              "fillmode": "overlay",
              "size": 10,
              "solidity": 0.2
             }
            },
            "type": "histogram"
           }
          ],
          "histogram2d": [
           {
            "colorbar": {
             "outlinewidth": 0,
             "ticks": ""
            },
            "colorscale": [
             [
              0,
              "#0d0887"
             ],
             [
              0.1111111111111111,
              "#46039f"
             ],
             [
              0.2222222222222222,
              "#7201a8"
             ],
             [
              0.3333333333333333,
              "#9c179e"
             ],
             [
              0.4444444444444444,
              "#bd3786"
             ],
             [
              0.5555555555555556,
              "#d8576b"
             ],
             [
              0.6666666666666666,
              "#ed7953"
             ],
             [
              0.7777777777777778,
              "#fb9f3a"
             ],
             [
              0.8888888888888888,
              "#fdca26"
             ],
             [
              1,
              "#f0f921"
             ]
            ],
            "type": "histogram2d"
           }
          ],
          "histogram2dcontour": [
           {
            "colorbar": {
             "outlinewidth": 0,
             "ticks": ""
            },
            "colorscale": [
             [
              0,
              "#0d0887"
             ],
             [
              0.1111111111111111,
              "#46039f"
             ],
             [
              0.2222222222222222,
              "#7201a8"
             ],
             [
              0.3333333333333333,
              "#9c179e"
             ],
             [
              0.4444444444444444,
              "#bd3786"
             ],
             [
              0.5555555555555556,
              "#d8576b"
             ],
             [
              0.6666666666666666,
              "#ed7953"
             ],
             [
              0.7777777777777778,
              "#fb9f3a"
             ],
             [
              0.8888888888888888,
              "#fdca26"
             ],
             [
              1,
              "#f0f921"
             ]
            ],
            "type": "histogram2dcontour"
           }
          ],
          "mesh3d": [
           {
            "colorbar": {
             "outlinewidth": 0,
             "ticks": ""
            },
            "type": "mesh3d"
           }
          ],
          "parcoords": [
           {
            "line": {
             "colorbar": {
              "outlinewidth": 0,
              "ticks": ""
             }
            },
            "type": "parcoords"
           }
          ],
          "pie": [
           {
            "automargin": true,
            "type": "pie"
           }
          ],
          "scatter": [
           {
            "marker": {
             "colorbar": {
              "outlinewidth": 0,
              "ticks": ""
             }
            },
            "type": "scatter"
           }
          ],
          "scatter3d": [
           {
            "line": {
             "colorbar": {
              "outlinewidth": 0,
              "ticks": ""
             }
            },
            "marker": {
             "colorbar": {
              "outlinewidth": 0,
              "ticks": ""
             }
            },
            "type": "scatter3d"
           }
          ],
          "scattercarpet": [
           {
            "marker": {
             "colorbar": {
              "outlinewidth": 0,
              "ticks": ""
             }
            },
            "type": "scattercarpet"
           }
          ],
          "scattergeo": [
           {
            "marker": {
             "colorbar": {
              "outlinewidth": 0,
              "ticks": ""
             }
            },
            "type": "scattergeo"
           }
          ],
          "scattergl": [
           {
            "marker": {
             "colorbar": {
              "outlinewidth": 0,
              "ticks": ""
             }
            },
            "type": "scattergl"
           }
          ],
          "scattermapbox": [
           {
            "marker": {
             "colorbar": {
              "outlinewidth": 0,
              "ticks": ""
             }
            },
            "type": "scattermapbox"
           }
          ],
          "scatterpolar": [
           {
            "marker": {
             "colorbar": {
              "outlinewidth": 0,
              "ticks": ""
             }
            },
            "type": "scatterpolar"
           }
          ],
          "scatterpolargl": [
           {
            "marker": {
             "colorbar": {
              "outlinewidth": 0,
              "ticks": ""
             }
            },
            "type": "scatterpolargl"
           }
          ],
          "scatterternary": [
           {
            "marker": {
             "colorbar": {
              "outlinewidth": 0,
              "ticks": ""
             }
            },
            "type": "scatterternary"
           }
          ],
          "surface": [
           {
            "colorbar": {
             "outlinewidth": 0,
             "ticks": ""
            },
            "colorscale": [
             [
              0,
              "#0d0887"
             ],
             [
              0.1111111111111111,
              "#46039f"
             ],
             [
              0.2222222222222222,
              "#7201a8"
             ],
             [
              0.3333333333333333,
              "#9c179e"
             ],
             [
              0.4444444444444444,
              "#bd3786"
             ],
             [
              0.5555555555555556,
              "#d8576b"
             ],
             [
              0.6666666666666666,
              "#ed7953"
             ],
             [
              0.7777777777777778,
              "#fb9f3a"
             ],
             [
              0.8888888888888888,
              "#fdca26"
             ],
             [
              1,
              "#f0f921"
             ]
            ],
            "type": "surface"
           }
          ],
          "table": [
           {
            "cells": {
             "fill": {
              "color": "#EBF0F8"
             },
             "line": {
              "color": "white"
             }
            },
            "header": {
             "fill": {
              "color": "#C8D4E3"
             },
             "line": {
              "color": "white"
             }
            },
            "type": "table"
           }
          ]
         },
         "layout": {
          "annotationdefaults": {
           "arrowcolor": "#2a3f5f",
           "arrowhead": 0,
           "arrowwidth": 1
          },
          "autotypenumbers": "strict",
          "coloraxis": {
           "colorbar": {
            "outlinewidth": 0,
            "ticks": ""
           }
          },
          "colorscale": {
           "diverging": [
            [
             0,
             "#8e0152"
            ],
            [
             0.1,
             "#c51b7d"
            ],
            [
             0.2,
             "#de77ae"
            ],
            [
             0.3,
             "#f1b6da"
            ],
            [
             0.4,
             "#fde0ef"
            ],
            [
             0.5,
             "#f7f7f7"
            ],
            [
             0.6,
             "#e6f5d0"
            ],
            [
             0.7,
             "#b8e186"
            ],
            [
             0.8,
             "#7fbc41"
            ],
            [
             0.9,
             "#4d9221"
            ],
            [
             1,
             "#276419"
            ]
           ],
           "sequential": [
            [
             0,
             "#0d0887"
            ],
            [
             0.1111111111111111,
             "#46039f"
            ],
            [
             0.2222222222222222,
             "#7201a8"
            ],
            [
             0.3333333333333333,
             "#9c179e"
            ],
            [
             0.4444444444444444,
             "#bd3786"
            ],
            [
             0.5555555555555556,
             "#d8576b"
            ],
            [
             0.6666666666666666,
             "#ed7953"
            ],
            [
             0.7777777777777778,
             "#fb9f3a"
            ],
            [
             0.8888888888888888,
             "#fdca26"
            ],
            [
             1,
             "#f0f921"
            ]
           ],
           "sequentialminus": [
            [
             0,
             "#0d0887"
            ],
            [
             0.1111111111111111,
             "#46039f"
            ],
            [
             0.2222222222222222,
             "#7201a8"
            ],
            [
             0.3333333333333333,
             "#9c179e"
            ],
            [
             0.4444444444444444,
             "#bd3786"
            ],
            [
             0.5555555555555556,
             "#d8576b"
            ],
            [
             0.6666666666666666,
             "#ed7953"
            ],
            [
             0.7777777777777778,
             "#fb9f3a"
            ],
            [
             0.8888888888888888,
             "#fdca26"
            ],
            [
             1,
             "#f0f921"
            ]
           ]
          },
          "colorway": [
           "#636efa",
           "#EF553B",
           "#00cc96",
           "#ab63fa",
           "#FFA15A",
           "#19d3f3",
           "#FF6692",
           "#B6E880",
           "#FF97FF",
           "#FECB52"
          ],
          "font": {
           "color": "#2a3f5f"
          },
          "geo": {
           "bgcolor": "white",
           "lakecolor": "white",
           "landcolor": "#E5ECF6",
           "showlakes": true,
           "showland": true,
           "subunitcolor": "white"
          },
          "hoverlabel": {
           "align": "left"
          },
          "hovermode": "closest",
          "mapbox": {
           "style": "light"
          },
          "paper_bgcolor": "white",
          "plot_bgcolor": "#E5ECF6",
          "polar": {
           "angularaxis": {
            "gridcolor": "white",
            "linecolor": "white",
            "ticks": ""
           },
           "bgcolor": "#E5ECF6",
           "radialaxis": {
            "gridcolor": "white",
            "linecolor": "white",
            "ticks": ""
           }
          },
          "scene": {
           "xaxis": {
            "backgroundcolor": "#E5ECF6",
            "gridcolor": "white",
            "gridwidth": 2,
            "linecolor": "white",
            "showbackground": true,
            "ticks": "",
            "zerolinecolor": "white"
           },
           "yaxis": {
            "backgroundcolor": "#E5ECF6",
            "gridcolor": "white",
            "gridwidth": 2,
            "linecolor": "white",
            "showbackground": true,
            "ticks": "",
            "zerolinecolor": "white"
           },
           "zaxis": {
            "backgroundcolor": "#E5ECF6",
            "gridcolor": "white",
            "gridwidth": 2,
            "linecolor": "white",
            "showbackground": true,
            "ticks": "",
            "zerolinecolor": "white"
           }
          },
          "shapedefaults": {
           "line": {
            "color": "#2a3f5f"
           }
          },
          "ternary": {
           "aaxis": {
            "gridcolor": "white",
            "linecolor": "white",
            "ticks": ""
           },
           "baxis": {
            "gridcolor": "white",
            "linecolor": "white",
            "ticks": ""
           },
           "bgcolor": "#E5ECF6",
           "caxis": {
            "gridcolor": "white",
            "linecolor": "white",
            "ticks": ""
           }
          },
          "title": {
           "x": 0.05
          },
          "xaxis": {
           "automargin": true,
           "gridcolor": "white",
           "linecolor": "white",
           "ticks": "",
           "title": {
            "standoff": 15
           },
           "zerolinecolor": "white",
           "zerolinewidth": 2
          },
          "yaxis": {
           "automargin": true,
           "gridcolor": "white",
           "linecolor": "white",
           "ticks": "",
           "title": {
            "standoff": 15
           },
           "zerolinecolor": "white",
           "zerolinewidth": 2
          }
         }
        },
        "title": {
         "text": "Temas que dan miedo hablar"
        },
        "xaxis": {
         "anchor": "y",
         "categoryorder": "total descending",
         "domain": [
          0,
          1
         ],
         "title": {
          "text": "Categorías"
         }
        },
        "yaxis": {
         "anchor": "x",
         "domain": [
          0,
          1
         ],
         "title": {
          "text": "count"
         },
         "type": "log"
        }
       }
      }
     },
     "metadata": {},
     "output_type": "display_data"
    }
   ],
   "source": [
    "df2.head()\n",
    "\n",
    "df2['Categorías'].fillna(\"Política\", inplace = True)\n",
    "df2['Categorías'] = df2['Categorías'].replace(['seguridad', 'Seguridad '],'Seguridad')\n",
    "df2['Categorías'] = df2['Categorías'].replace(['economía'],'Economía')\n",
    "df2['Categorías'] = df2['Categorías'].replace(['Religión ', 'religión'],'Religión')\n",
    "df2['Categorías'] = df2['Categorías'].replace(['TODO'],'Todo')\n",
    "df2['Categorías'] = df2['Categorías'].replace(['equidad de gen', 'Equidad de genero ', 'Equidad de genero'],'Equidad de género')\n",
    "df2['Categorías'] = df2['Categorías'].replace(['feminismo'],'Feminismo')\n",
    "df2['Categorías'] = df2['Categorías'].replace(['inclusión', 'Inclusión '],'Inclusión')\n",
    "df2['Categorías'] = df2['Categorías'].replace(['Educación '],'Educación')\n",
    "df2['Categorías'] = df2['Categorías'].replace(['Polémicos '],'Todo')\n",
    "df2['Categorías'] = df2['Categorías'].replace(['diversidad'],'Diversidad')\n",
    "df2['Categorías'] = df2['Categorías'].replace(['salud'],'Salud')\n",
    "df2['Categorías'] = df2['Categorías'].replace(['emprendimiento'],'Emprendimiento')\n",
    "df2['Categorías'] = df2['Categorías'].replace(['responsabilidad social '],'Responsabilidad social')\n",
    "df2['Categorías'] = df2['Categorías'].replace(['politica'],'Política')\n",
    "df2['Categorías'] = df2['Categorías'].replace(['Medio Ambiente'],'Medio ambiente')\n",
    "df2['Categorías'] = df2['Categorías'].replace(['Desarrolo personal'],'Desarrollo personal')\n",
    "df2['Categorías'] = df2['Categorías'].replace(['Sexual '],'Sexual')\n",
    "\n",
    "fig = px.histogram(df2, x=\"Categorías\",\n",
    "                   title='Temas que dan miedo hablar',\n",
    "                   color_discrete_sequence=['darkred'],\n",
    "                   log_y=True, # represent bars with log scale\n",
    "                   text_auto= True\n",
    "                   ).update_xaxes(categoryorder='total descending')\n",
    "                   \n",
    "fig.show()"
   ]
  }
 ],
 "metadata": {
  "kernelspec": {
   "display_name": "Python 3.9.12 ('base')",
   "language": "python",
   "name": "python3"
  },
  "language_info": {
   "codemirror_mode": {
    "name": "ipython",
    "version": 3
   },
   "file_extension": ".py",
   "mimetype": "text/x-python",
   "name": "python",
   "nbconvert_exporter": "python",
   "pygments_lexer": "ipython3",
   "version": "3.9.12"
  },
  "orig_nbformat": 4,
  "vscode": {
   "interpreter": {
    "hash": "c90818a9e75c05a80397462c9eccb4fd29d99584fd06c16972c458369e729be9"
   }
  }
 },
 "nbformat": 4,
 "nbformat_minor": 2
}
