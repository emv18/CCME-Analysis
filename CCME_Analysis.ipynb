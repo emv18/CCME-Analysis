{
 "cells": [
  {
   "cell_type": "markdown",
   "metadata": {},
   "source": [
    "# CCME Analysis"
   ]
  },
  {
   "cell_type": "markdown",
   "metadata": {},
   "source": [
    "##### This code has information from a poll made for the leaders at the CCME Analysis"
   ]
  },
  {
   "cell_type": "markdown",
   "metadata": {},
   "source": [
    "### Import files"
   ]
  },
  {
   "cell_type": "code",
   "execution_count": 91,
   "metadata": {},
   "outputs": [],
   "source": [
    "import pandas as pd\n",
    "import numpy as np\n",
    "import matplotlib as mlib\n",
    "\n",
    "df= pd.read_csv('CCME_answers_poll.csv')\n",
    "df1= pd.read_csv('CCME_categories.csv')\n",
    "df2= pd.read_csv('CCME_fear_categories.csv')"
   ]
  },
  {
   "cell_type": "markdown",
   "metadata": {},
   "source": [
    "### Clean data"
   ]
  },
  {
   "cell_type": "code",
   "execution_count": 92,
   "metadata": {},
   "outputs": [
    {
     "data": {
      "text/html": [
       "<div>\n",
       "<style scoped>\n",
       "    .dataframe tbody tr th:only-of-type {\n",
       "        vertical-align: middle;\n",
       "    }\n",
       "\n",
       "    .dataframe tbody tr th {\n",
       "        vertical-align: top;\n",
       "    }\n",
       "\n",
       "    .dataframe thead th {\n",
       "        text-align: right;\n",
       "    }\n",
       "</style>\n",
       "<table border=\"1\" class=\"dataframe\">\n",
       "  <thead>\n",
       "    <tr style=\"text-align: right;\">\n",
       "      <th></th>\n",
       "      <th>Edad</th>\n",
       "      <th>Estado en el que vives</th>\n",
       "      <th>¿Cuál es tu situación actual?</th>\n",
       "      <th>La institución académica a la que perteneces es:</th>\n",
       "      <th>¿Te sientes con la libertad y la seguridad de hablar y cuestionar sobre tema de tu interés?</th>\n",
       "      <th>Si tu respuesta fue SI, en donde encuentras libertad para expresarte</th>\n",
       "      <th>Sobre qué temas te gustaría aprender más. Selecciona mínimo una:</th>\n",
       "      <th>¿Te gustaría pertenecer a nuestra comunidad Inspira?</th>\n",
       "    </tr>\n",
       "  </thead>\n",
       "  <tbody>\n",
       "    <tr>\n",
       "      <th>0</th>\n",
       "      <td>30-35 años</td>\n",
       "      <td>Michoacán</td>\n",
       "      <td>Ama de casa</td>\n",
       "      <td>Instituto tecnológico</td>\n",
       "      <td>Sí</td>\n",
       "      <td>Amigos</td>\n",
       "      <td>Iniciativas para el desarrollo económico para ...</td>\n",
       "      <td>No</td>\n",
       "    </tr>\n",
       "    <tr>\n",
       "      <th>1</th>\n",
       "      <td>24-29 años</td>\n",
       "      <td>Estado de México</td>\n",
       "      <td>Ama de casa</td>\n",
       "      <td>Escuela Privada</td>\n",
       "      <td>Sí</td>\n",
       "      <td>Escuela.</td>\n",
       "      <td>Cómo aprender a dialogar y a exponer opiniones...</td>\n",
       "      <td>Sí</td>\n",
       "    </tr>\n",
       "    <tr>\n",
       "      <th>2</th>\n",
       "      <td>24-29 años</td>\n",
       "      <td>Michoacan</td>\n",
       "      <td>Ama de casa</td>\n",
       "      <td>Escuela Privada</td>\n",
       "      <td>Sí</td>\n",
       "      <td>Redes Sociales</td>\n",
       "      <td>Iniciativas para el desarrollo económico para ...</td>\n",
       "      <td>Sí</td>\n",
       "    </tr>\n",
       "    <tr>\n",
       "      <th>3</th>\n",
       "      <td>24-29 años</td>\n",
       "      <td>Michoacán</td>\n",
       "      <td>Ama de casa con intención de emprendimiento po...</td>\n",
       "      <td>NaN</td>\n",
       "      <td>Sí</td>\n",
       "      <td>Amigos</td>\n",
       "      <td>Emprendimiento, Liderazgo</td>\n",
       "      <td>Sí</td>\n",
       "    </tr>\n",
       "    <tr>\n",
       "      <th>4</th>\n",
       "      <td>19-23 años</td>\n",
       "      <td>Toluca Estados de México</td>\n",
       "      <td>Busco trabajo</td>\n",
       "      <td>Escuela Privada</td>\n",
       "      <td>No</td>\n",
       "      <td>No me siento en libertad</td>\n",
       "      <td>Estrategias empresariales con perspectiva de g...</td>\n",
       "      <td>Sí</td>\n",
       "    </tr>\n",
       "  </tbody>\n",
       "</table>\n",
       "</div>"
      ],
      "text/plain": [
       "         Edad     Estado en el que vives  \\\n",
       "0  30-35 años                  Michoacán   \n",
       "1  24-29 años           Estado de México   \n",
       "2  24-29 años                 Michoacan    \n",
       "3  24-29 años                 Michoacán    \n",
       "4  19-23 años  Toluca Estados de México    \n",
       "\n",
       "                       ¿Cuál es tu situación actual?  \\\n",
       "0                                        Ama de casa   \n",
       "1                                        Ama de casa   \n",
       "2                                       Ama de casa    \n",
       "3  Ama de casa con intención de emprendimiento po...   \n",
       "4                                     Busco trabajo    \n",
       "\n",
       "  La institución académica a la que perteneces es:   \\\n",
       "0                             Instituto tecnológico   \n",
       "1                                   Escuela Privada   \n",
       "2                                   Escuela Privada   \n",
       "3                                               NaN   \n",
       "4                                   Escuela Privada   \n",
       "\n",
       "  ¿Te sientes con la libertad y la seguridad de hablar y cuestionar sobre tema de tu interés?  \\\n",
       "0                                                 Sí                                            \n",
       "1                                                 Sí                                            \n",
       "2                                                 Sí                                            \n",
       "3                                                 Sí                                            \n",
       "4                                                 No                                            \n",
       "\n",
       "  Si tu respuesta fue SI, en donde encuentras libertad para expresarte  \\\n",
       "0                                             Amigos                     \n",
       "1                                           Escuela.                     \n",
       "2                                     Redes Sociales                     \n",
       "3                                             Amigos                     \n",
       "4                           No me siento en libertad                     \n",
       "\n",
       "  Sobre qué temas te gustaría aprender más. Selecciona mínimo una:  \\\n",
       "0  Iniciativas para el desarrollo económico para ...                 \n",
       "1  Cómo aprender a dialogar y a exponer opiniones...                 \n",
       "2  Iniciativas para el desarrollo económico para ...                 \n",
       "3                          Emprendimiento, Liderazgo                 \n",
       "4  Estrategias empresariales con perspectiva de g...                 \n",
       "\n",
       "  ¿Te gustaría pertenecer a nuestra comunidad Inspira?  \n",
       "0                                                 No    \n",
       "1                                                 Sí    \n",
       "2                                                 Sí    \n",
       "3                                                 Sí    \n",
       "4                                                 Sí    "
      ]
     },
     "execution_count": 92,
     "metadata": {},
     "output_type": "execute_result"
    }
   ],
   "source": [
    "df.columns\n",
    "#We delete unnecesary columns\n",
    "df= df.drop(['Marca temporal', 'Nombre','Correo electrónico', 'Participación por estado', \n",
    "            '¿Sobre qué temas te da miedo o te sientes insegur@ de opinar? ',\n",
    "            '¿Sobre qué temas crees que hace falta que los jóvenes nos sentemos a hablar ?'], axis=1)\n",
    "\n",
    "for i in df['Edad']:\n",
    "    l_i= str(i).split()\n",
    "    l_i.pop()\n",
    "    #print(l_i)\n",
    "df.head()"
   ]
  }
 ],
 "metadata": {
  "kernelspec": {
   "display_name": "Python 3.9.12 ('base')",
   "language": "python",
   "name": "python3"
  },
  "language_info": {
   "codemirror_mode": {
    "name": "ipython",
    "version": 3
   },
   "file_extension": ".py",
   "mimetype": "text/x-python",
   "name": "python",
   "nbconvert_exporter": "python",
   "pygments_lexer": "ipython3",
   "version": "3.9.12"
  },
  "orig_nbformat": 4,
  "vscode": {
   "interpreter": {
    "hash": "c90818a9e75c05a80397462c9eccb4fd29d99584fd06c16972c458369e729be9"
   }
  }
 },
 "nbformat": 4,
 "nbformat_minor": 2
}
